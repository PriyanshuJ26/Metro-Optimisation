{
 "cells": [
  {
   "cell_type": "markdown",
   "id": "622bfb66",
   "metadata": {},
   "source": [
    "Import required libraries"
   ]
  },
  {
   "cell_type": "code",
   "execution_count": null,
   "id": "f6a36528",
   "metadata": {},
   "outputs": [],
   "source": [
    "import pandas as pd\n",
    "import numpy as np\n",
    "import matplotlib.pyplot as plt\n",
    "import plotly.express as px\n",
    "import seaborn as sns\n",
    "from sklearn.cluster import KMeans\n",
    "import folium\n",
    "from folium.plugins import HeatMap\n",
    "from sklearn.linear_model import LinearRegression"
   ]
  },
  {
   "cell_type": "markdown",
   "id": "6435f109",
   "metadata": {},
   "source": [
    "Load the files"
   ]
  },
  {
   "cell_type": "code",
   "execution_count": 38,
   "id": "baadad60",
   "metadata": {},
   "outputs": [],
   "source": [
    "calendar = pd.read_csv('calendar.txt')\n",
    "routes = pd.read_csv('routes.txt')\n",
    "trips = pd.read_csv('trips.txt')\n",
    "stop_times = pd.read_csv('stop_times.txt')\n",
    "stops = pd.read_csv('stops.txt')\n",
    "shapes = pd.read_csv('shapes.txt')"
   ]
  },
  {
   "cell_type": "markdown",
   "id": "ff2c5bd4",
   "metadata": {},
   "source": [
    "Number of Stops per Metro Route"
   ]
  },
  {
   "cell_type": "code",
   "execution_count": 39,
   "id": "412ad8f3",
   "metadata": {},
   "outputs": [
    {
     "data": {
      "application/vnd.plotly.v1+json": {
       "config": {
        "plotlyServerURL": "https://plot.ly"
       },
       "data": [
        {
         "hovertemplate": "Route=%{x}<br>Number of Stops=%{y}<extra></extra>",
         "legendgroup": "",
         "marker": {
          "color": "#636efa",
          "pattern": {
           "shape": ""
          }
         },
         "name": "",
         "orientation": "v",
         "showlegend": false,
         "textposition": "auto",
         "type": "bar",
         "x": [
          "B_DN_R",
          "B_DN",
          "B_DV_R",
          "B_DV",
          "P_MS_R",
          "P_MS",
          "Y_HS_R",
          "Y_HS",
          "V_KR",
          "V_KR_R",
          "R_RS",
          "R_RS_R",
          "M_JB",
          "M_JB_R",
          "V_KB_R",
          "V_KB",
          "G_KB_R",
          "G_KB",
          "R_RD_R",
          "R_RD",
          "G_IB_R",
          "G_IB",
          "Y_QV",
          "Y_QV_R",
          "A_ND_R",
          "A_ND",
          "R_SP",
          "R_SP_R",
          "Y_HQ_R",
          "Y_HQ",
          "A_NN_R",
          "A_NN",
          "O_DN",
          "O_DN_R",
          "G_DD_R",
          "G_DD"
         ],
         "xaxis": "x",
         "y": {
          "bdata": "MjIpKSYmJSUiIh0dGRkXFxYWFRUVFRQUDQ0MDAoKCQkGBgQE",
          "dtype": "i1"
         },
         "yaxis": "y"
        }
       ],
       "layout": {
        "barmode": "relative",
        "legend": {
         "tracegroupgap": 0
        },
        "template": {
         "data": {
          "bar": [
           {
            "error_x": {
             "color": "#2a3f5f"
            },
            "error_y": {
             "color": "#2a3f5f"
            },
            "marker": {
             "line": {
              "color": "#E5ECF6",
              "width": 0.5
             },
             "pattern": {
              "fillmode": "overlay",
              "size": 10,
              "solidity": 0.2
             }
            },
            "type": "bar"
           }
          ],
          "barpolar": [
           {
            "marker": {
             "line": {
              "color": "#E5ECF6",
              "width": 0.5
             },
             "pattern": {
              "fillmode": "overlay",
              "size": 10,
              "solidity": 0.2
             }
            },
            "type": "barpolar"
           }
          ],
          "carpet": [
           {
            "aaxis": {
             "endlinecolor": "#2a3f5f",
             "gridcolor": "white",
             "linecolor": "white",
             "minorgridcolor": "white",
             "startlinecolor": "#2a3f5f"
            },
            "baxis": {
             "endlinecolor": "#2a3f5f",
             "gridcolor": "white",
             "linecolor": "white",
             "minorgridcolor": "white",
             "startlinecolor": "#2a3f5f"
            },
            "type": "carpet"
           }
          ],
          "choropleth": [
           {
            "colorbar": {
             "outlinewidth": 0,
             "ticks": ""
            },
            "type": "choropleth"
           }
          ],
          "contour": [
           {
            "colorbar": {
             "outlinewidth": 0,
             "ticks": ""
            },
            "colorscale": [
             [
              0,
              "#0d0887"
             ],
             [
              0.1111111111111111,
              "#46039f"
             ],
             [
              0.2222222222222222,
              "#7201a8"
             ],
             [
              0.3333333333333333,
              "#9c179e"
             ],
             [
              0.4444444444444444,
              "#bd3786"
             ],
             [
              0.5555555555555556,
              "#d8576b"
             ],
             [
              0.6666666666666666,
              "#ed7953"
             ],
             [
              0.7777777777777778,
              "#fb9f3a"
             ],
             [
              0.8888888888888888,
              "#fdca26"
             ],
             [
              1,
              "#f0f921"
             ]
            ],
            "type": "contour"
           }
          ],
          "contourcarpet": [
           {
            "colorbar": {
             "outlinewidth": 0,
             "ticks": ""
            },
            "type": "contourcarpet"
           }
          ],
          "heatmap": [
           {
            "colorbar": {
             "outlinewidth": 0,
             "ticks": ""
            },
            "colorscale": [
             [
              0,
              "#0d0887"
             ],
             [
              0.1111111111111111,
              "#46039f"
             ],
             [
              0.2222222222222222,
              "#7201a8"
             ],
             [
              0.3333333333333333,
              "#9c179e"
             ],
             [
              0.4444444444444444,
              "#bd3786"
             ],
             [
              0.5555555555555556,
              "#d8576b"
             ],
             [
              0.6666666666666666,
              "#ed7953"
             ],
             [
              0.7777777777777778,
              "#fb9f3a"
             ],
             [
              0.8888888888888888,
              "#fdca26"
             ],
             [
              1,
              "#f0f921"
             ]
            ],
            "type": "heatmap"
           }
          ],
          "histogram": [
           {
            "marker": {
             "pattern": {
              "fillmode": "overlay",
              "size": 10,
              "solidity": 0.2
             }
            },
            "type": "histogram"
           }
          ],
          "histogram2d": [
           {
            "colorbar": {
             "outlinewidth": 0,
             "ticks": ""
            },
            "colorscale": [
             [
              0,
              "#0d0887"
             ],
             [
              0.1111111111111111,
              "#46039f"
             ],
             [
              0.2222222222222222,
              "#7201a8"
             ],
             [
              0.3333333333333333,
              "#9c179e"
             ],
             [
              0.4444444444444444,
              "#bd3786"
             ],
             [
              0.5555555555555556,
              "#d8576b"
             ],
             [
              0.6666666666666666,
              "#ed7953"
             ],
             [
              0.7777777777777778,
              "#fb9f3a"
             ],
             [
              0.8888888888888888,
              "#fdca26"
             ],
             [
              1,
              "#f0f921"
             ]
            ],
            "type": "histogram2d"
           }
          ],
          "histogram2dcontour": [
           {
            "colorbar": {
             "outlinewidth": 0,
             "ticks": ""
            },
            "colorscale": [
             [
              0,
              "#0d0887"
             ],
             [
              0.1111111111111111,
              "#46039f"
             ],
             [
              0.2222222222222222,
              "#7201a8"
             ],
             [
              0.3333333333333333,
              "#9c179e"
             ],
             [
              0.4444444444444444,
              "#bd3786"
             ],
             [
              0.5555555555555556,
              "#d8576b"
             ],
             [
              0.6666666666666666,
              "#ed7953"
             ],
             [
              0.7777777777777778,
              "#fb9f3a"
             ],
             [
              0.8888888888888888,
              "#fdca26"
             ],
             [
              1,
              "#f0f921"
             ]
            ],
            "type": "histogram2dcontour"
           }
          ],
          "mesh3d": [
           {
            "colorbar": {
             "outlinewidth": 0,
             "ticks": ""
            },
            "type": "mesh3d"
           }
          ],
          "parcoords": [
           {
            "line": {
             "colorbar": {
              "outlinewidth": 0,
              "ticks": ""
             }
            },
            "type": "parcoords"
           }
          ],
          "pie": [
           {
            "automargin": true,
            "type": "pie"
           }
          ],
          "scatter": [
           {
            "fillpattern": {
             "fillmode": "overlay",
             "size": 10,
             "solidity": 0.2
            },
            "type": "scatter"
           }
          ],
          "scatter3d": [
           {
            "line": {
             "colorbar": {
              "outlinewidth": 0,
              "ticks": ""
             }
            },
            "marker": {
             "colorbar": {
              "outlinewidth": 0,
              "ticks": ""
             }
            },
            "type": "scatter3d"
           }
          ],
          "scattercarpet": [
           {
            "marker": {
             "colorbar": {
              "outlinewidth": 0,
              "ticks": ""
             }
            },
            "type": "scattercarpet"
           }
          ],
          "scattergeo": [
           {
            "marker": {
             "colorbar": {
              "outlinewidth": 0,
              "ticks": ""
             }
            },
            "type": "scattergeo"
           }
          ],
          "scattergl": [
           {
            "marker": {
             "colorbar": {
              "outlinewidth": 0,
              "ticks": ""
             }
            },
            "type": "scattergl"
           }
          ],
          "scattermap": [
           {
            "marker": {
             "colorbar": {
              "outlinewidth": 0,
              "ticks": ""
             }
            },
            "type": "scattermap"
           }
          ],
          "scattermapbox": [
           {
            "marker": {
             "colorbar": {
              "outlinewidth": 0,
              "ticks": ""
             }
            },
            "type": "scattermapbox"
           }
          ],
          "scatterpolar": [
           {
            "marker": {
             "colorbar": {
              "outlinewidth": 0,
              "ticks": ""
             }
            },
            "type": "scatterpolar"
           }
          ],
          "scatterpolargl": [
           {
            "marker": {
             "colorbar": {
              "outlinewidth": 0,
              "ticks": ""
             }
            },
            "type": "scatterpolargl"
           }
          ],
          "scatterternary": [
           {
            "marker": {
             "colorbar": {
              "outlinewidth": 0,
              "ticks": ""
             }
            },
            "type": "scatterternary"
           }
          ],
          "surface": [
           {
            "colorbar": {
             "outlinewidth": 0,
             "ticks": ""
            },
            "colorscale": [
             [
              0,
              "#0d0887"
             ],
             [
              0.1111111111111111,
              "#46039f"
             ],
             [
              0.2222222222222222,
              "#7201a8"
             ],
             [
              0.3333333333333333,
              "#9c179e"
             ],
             [
              0.4444444444444444,
              "#bd3786"
             ],
             [
              0.5555555555555556,
              "#d8576b"
             ],
             [
              0.6666666666666666,
              "#ed7953"
             ],
             [
              0.7777777777777778,
              "#fb9f3a"
             ],
             [
              0.8888888888888888,
              "#fdca26"
             ],
             [
              1,
              "#f0f921"
             ]
            ],
            "type": "surface"
           }
          ],
          "table": [
           {
            "cells": {
             "fill": {
              "color": "#EBF0F8"
             },
             "line": {
              "color": "white"
             }
            },
            "header": {
             "fill": {
              "color": "#C8D4E3"
             },
             "line": {
              "color": "white"
             }
            },
            "type": "table"
           }
          ]
         },
         "layout": {
          "annotationdefaults": {
           "arrowcolor": "#2a3f5f",
           "arrowhead": 0,
           "arrowwidth": 1
          },
          "autotypenumbers": "strict",
          "coloraxis": {
           "colorbar": {
            "outlinewidth": 0,
            "ticks": ""
           }
          },
          "colorscale": {
           "diverging": [
            [
             0,
             "#8e0152"
            ],
            [
             0.1,
             "#c51b7d"
            ],
            [
             0.2,
             "#de77ae"
            ],
            [
             0.3,
             "#f1b6da"
            ],
            [
             0.4,
             "#fde0ef"
            ],
            [
             0.5,
             "#f7f7f7"
            ],
            [
             0.6,
             "#e6f5d0"
            ],
            [
             0.7,
             "#b8e186"
            ],
            [
             0.8,
             "#7fbc41"
            ],
            [
             0.9,
             "#4d9221"
            ],
            [
             1,
             "#276419"
            ]
           ],
           "sequential": [
            [
             0,
             "#0d0887"
            ],
            [
             0.1111111111111111,
             "#46039f"
            ],
            [
             0.2222222222222222,
             "#7201a8"
            ],
            [
             0.3333333333333333,
             "#9c179e"
            ],
            [
             0.4444444444444444,
             "#bd3786"
            ],
            [
             0.5555555555555556,
             "#d8576b"
            ],
            [
             0.6666666666666666,
             "#ed7953"
            ],
            [
             0.7777777777777778,
             "#fb9f3a"
            ],
            [
             0.8888888888888888,
             "#fdca26"
            ],
            [
             1,
             "#f0f921"
            ]
           ],
           "sequentialminus": [
            [
             0,
             "#0d0887"
            ],
            [
             0.1111111111111111,
             "#46039f"
            ],
            [
             0.2222222222222222,
             "#7201a8"
            ],
            [
             0.3333333333333333,
             "#9c179e"
            ],
            [
             0.4444444444444444,
             "#bd3786"
            ],
            [
             0.5555555555555556,
             "#d8576b"
            ],
            [
             0.6666666666666666,
             "#ed7953"
            ],
            [
             0.7777777777777778,
             "#fb9f3a"
            ],
            [
             0.8888888888888888,
             "#fdca26"
            ],
            [
             1,
             "#f0f921"
            ]
           ]
          },
          "colorway": [
           "#636efa",
           "#EF553B",
           "#00cc96",
           "#ab63fa",
           "#FFA15A",
           "#19d3f3",
           "#FF6692",
           "#B6E880",
           "#FF97FF",
           "#FECB52"
          ],
          "font": {
           "color": "#2a3f5f"
          },
          "geo": {
           "bgcolor": "white",
           "lakecolor": "white",
           "landcolor": "#E5ECF6",
           "showlakes": true,
           "showland": true,
           "subunitcolor": "white"
          },
          "hoverlabel": {
           "align": "left"
          },
          "hovermode": "closest",
          "mapbox": {
           "style": "light"
          },
          "paper_bgcolor": "white",
          "plot_bgcolor": "#E5ECF6",
          "polar": {
           "angularaxis": {
            "gridcolor": "white",
            "linecolor": "white",
            "ticks": ""
           },
           "bgcolor": "#E5ECF6",
           "radialaxis": {
            "gridcolor": "white",
            "linecolor": "white",
            "ticks": ""
           }
          },
          "scene": {
           "xaxis": {
            "backgroundcolor": "#E5ECF6",
            "gridcolor": "white",
            "gridwidth": 2,
            "linecolor": "white",
            "showbackground": true,
            "ticks": "",
            "zerolinecolor": "white"
           },
           "yaxis": {
            "backgroundcolor": "#E5ECF6",
            "gridcolor": "white",
            "gridwidth": 2,
            "linecolor": "white",
            "showbackground": true,
            "ticks": "",
            "zerolinecolor": "white"
           },
           "zaxis": {
            "backgroundcolor": "#E5ECF6",
            "gridcolor": "white",
            "gridwidth": 2,
            "linecolor": "white",
            "showbackground": true,
            "ticks": "",
            "zerolinecolor": "white"
           }
          },
          "shapedefaults": {
           "line": {
            "color": "#2a3f5f"
           }
          },
          "ternary": {
           "aaxis": {
            "gridcolor": "white",
            "linecolor": "white",
            "ticks": ""
           },
           "baxis": {
            "gridcolor": "white",
            "linecolor": "white",
            "ticks": ""
           },
           "bgcolor": "#E5ECF6",
           "caxis": {
            "gridcolor": "white",
            "linecolor": "white",
            "ticks": ""
           }
          },
          "title": {
           "x": 0.05
          },
          "xaxis": {
           "automargin": true,
           "gridcolor": "white",
           "linecolor": "white",
           "ticks": "",
           "title": {
            "standoff": 15
           },
           "zerolinecolor": "white",
           "zerolinewidth": 2
          },
          "yaxis": {
           "automargin": true,
           "gridcolor": "white",
           "linecolor": "white",
           "ticks": "",
           "title": {
            "standoff": 15
           },
           "zerolinecolor": "white",
           "zerolinewidth": 2
          }
         }
        },
        "title": {
         "text": "Number of Stops per Metro Route"
        },
        "xaxis": {
         "anchor": "y",
         "domain": [
          0,
          1
         ],
         "title": {
          "text": "Route"
         }
        },
        "yaxis": {
         "anchor": "x",
         "domain": [
          0,
          1
         ],
         "title": {
          "text": "Number of Stops"
         }
        }
       }
      }
     },
     "metadata": {},
     "output_type": "display_data"
    }
   ],
   "source": [
    "merged = pd.merge(trips, stop_times, on='trip_id')\n",
    "merged = pd.merge(merged, routes, on='route_id')\n",
    "stops_per_route = merged.groupby('route_short_name')['stop_id'].nunique().sort_values(ascending=False)\n",
    "fig = px.bar(x=stops_per_route.index, y=stops_per_route.values,\n",
    "             labels={'x': 'Route', 'y': 'Number of Stops'}, title='Number of Stops per Metro Route')\n",
    "fig.show()"
   ]
  },
  {
   "cell_type": "markdown",
   "id": "0d902ab4",
   "metadata": {},
   "source": [
    "Metro Arrival Times by Hour"
   ]
  },
  {
   "cell_type": "code",
   "execution_count": 40,
   "id": "4474571e",
   "metadata": {},
   "outputs": [
    {
     "data": {
      "application/vnd.plotly.v1+json": {
       "config": {
        "plotlyServerURL": "https://plot.ly"
       },
       "data": [
        {
         "bingroup": "x",
         "hovertemplate": "Hour=%{x}<br>count=%{y}<extra></extra>",
         "legendgroup": "",
         "marker": {
          "color": "#636efa",
          "pattern": {
           "shape": ""
          }
         },
         "name": "",
         "nbinsx": 24,
         "orientation": "v",
         "showlegend": false,
         "type": "histogram",
         "x": {
          "bdata": "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",
          "dtype": "i1"
         },
         "xaxis": "x",
         "yaxis": "y"
        }
       ],
       "layout": {
        "barmode": "relative",
        "legend": {
         "tracegroupgap": 0
        },
        "template": {
         "data": {
          "bar": [
           {
            "error_x": {
             "color": "#2a3f5f"
            },
            "error_y": {
             "color": "#2a3f5f"
            },
            "marker": {
             "line": {
              "color": "#E5ECF6",
              "width": 0.5
             },
             "pattern": {
              "fillmode": "overlay",
              "size": 10,
              "solidity": 0.2
             }
            },
            "type": "bar"
           }
          ],
          "barpolar": [
           {
            "marker": {
             "line": {
              "color": "#E5ECF6",
              "width": 0.5
             },
             "pattern": {
              "fillmode": "overlay",
              "size": 10,
              "solidity": 0.2
             }
            },
            "type": "barpolar"
           }
          ],
          "carpet": [
           {
            "aaxis": {
             "endlinecolor": "#2a3f5f",
             "gridcolor": "white",
             "linecolor": "white",
             "minorgridcolor": "white",
             "startlinecolor": "#2a3f5f"
            },
            "baxis": {
             "endlinecolor": "#2a3f5f",
             "gridcolor": "white",
             "linecolor": "white",
             "minorgridcolor": "white",
             "startlinecolor": "#2a3f5f"
            },
            "type": "carpet"
           }
          ],
          "choropleth": [
           {
            "colorbar": {
             "outlinewidth": 0,
             "ticks": ""
            },
            "type": "choropleth"
           }
          ],
          "contour": [
           {
            "colorbar": {
             "outlinewidth": 0,
             "ticks": ""
            },
            "colorscale": [
             [
              0,
              "#0d0887"
             ],
             [
              0.1111111111111111,
              "#46039f"
             ],
             [
              0.2222222222222222,
              "#7201a8"
             ],
             [
              0.3333333333333333,
              "#9c179e"
             ],
             [
              0.4444444444444444,
              "#bd3786"
             ],
             [
              0.5555555555555556,
              "#d8576b"
             ],
             [
              0.6666666666666666,
              "#ed7953"
             ],
             [
              0.7777777777777778,
              "#fb9f3a"
             ],
             [
              0.8888888888888888,
              "#fdca26"
             ],
             [
              1,
              "#f0f921"
             ]
            ],
            "type": "contour"
           }
          ],
          "contourcarpet": [
           {
            "colorbar": {
             "outlinewidth": 0,
             "ticks": ""
            },
            "type": "contourcarpet"
           }
          ],
          "heatmap": [
           {
            "colorbar": {
             "outlinewidth": 0,
             "ticks": ""
            },
            "colorscale": [
             [
              0,
              "#0d0887"
             ],
             [
              0.1111111111111111,
              "#46039f"
             ],
             [
              0.2222222222222222,
              "#7201a8"
             ],
             [
              0.3333333333333333,
              "#9c179e"
             ],
             [
              0.4444444444444444,
              "#bd3786"
             ],
             [
              0.5555555555555556,
              "#d8576b"
             ],
             [
              0.6666666666666666,
              "#ed7953"
             ],
             [
              0.7777777777777778,
              "#fb9f3a"
             ],
             [
              0.8888888888888888,
              "#fdca26"
             ],
             [
              1,
              "#f0f921"
             ]
            ],
            "type": "heatmap"
           }
          ],
          "histogram": [
           {
            "marker": {
             "pattern": {
              "fillmode": "overlay",
              "size": 10,
              "solidity": 0.2
             }
            },
            "type": "histogram"
           }
          ],
          "histogram2d": [
           {
            "colorbar": {
             "outlinewidth": 0,
             "ticks": ""
            },
            "colorscale": [
             [
              0,
              "#0d0887"
             ],
             [
              0.1111111111111111,
              "#46039f"
             ],
             [
              0.2222222222222222,
              "#7201a8"
             ],
             [
              0.3333333333333333,
              "#9c179e"
             ],
             [
              0.4444444444444444,
              "#bd3786"
             ],
             [
              0.5555555555555556,
              "#d8576b"
             ],
             [
              0.6666666666666666,
              "#ed7953"
             ],
             [
              0.7777777777777778,
              "#fb9f3a"
             ],
             [
              0.8888888888888888,
              "#fdca26"
             ],
             [
              1,
              "#f0f921"
             ]
            ],
            "type": "histogram2d"
           }
          ],
          "histogram2dcontour": [
           {
            "colorbar": {
             "outlinewidth": 0,
             "ticks": ""
            },
            "colorscale": [
             [
              0,
              "#0d0887"
             ],
             [
              0.1111111111111111,
              "#46039f"
             ],
             [
              0.2222222222222222,
              "#7201a8"
             ],
             [
              0.3333333333333333,
              "#9c179e"
             ],
             [
              0.4444444444444444,
              "#bd3786"
             ],
             [
              0.5555555555555556,
              "#d8576b"
             ],
             [
              0.6666666666666666,
              "#ed7953"
             ],
             [
              0.7777777777777778,
              "#fb9f3a"
             ],
             [
              0.8888888888888888,
              "#fdca26"
             ],
             [
              1,
              "#f0f921"
             ]
            ],
            "type": "histogram2dcontour"
           }
          ],
          "mesh3d": [
           {
            "colorbar": {
             "outlinewidth": 0,
             "ticks": ""
            },
            "type": "mesh3d"
           }
          ],
          "parcoords": [
           {
            "line": {
             "colorbar": {
              "outlinewidth": 0,
              "ticks": ""
             }
            },
            "type": "parcoords"
           }
          ],
          "pie": [
           {
            "automargin": true,
            "type": "pie"
           }
          ],
          "scatter": [
           {
            "fillpattern": {
             "fillmode": "overlay",
             "size": 10,
             "solidity": 0.2
            },
            "type": "scatter"
           }
          ],
          "scatter3d": [
           {
            "line": {
             "colorbar": {
              "outlinewidth": 0,
              "ticks": ""
             }
            },
            "marker": {
             "colorbar": {
              "outlinewidth": 0,
              "ticks": ""
             }
            },
            "type": "scatter3d"
           }
          ],
          "scattercarpet": [
           {
            "marker": {
             "colorbar": {
              "outlinewidth": 0,
              "ticks": ""
             }
            },
            "type": "scattercarpet"
           }
          ],
          "scattergeo": [
           {
            "marker": {
             "colorbar": {
              "outlinewidth": 0,
              "ticks": ""
             }
            },
            "type": "scattergeo"
           }
          ],
          "scattergl": [
           {
            "marker": {
             "colorbar": {
              "outlinewidth": 0,
              "ticks": ""
             }
            },
            "type": "scattergl"
           }
          ],
          "scattermap": [
           {
            "marker": {
             "colorbar": {
              "outlinewidth": 0,
              "ticks": ""
             }
            },
            "type": "scattermap"
           }
          ],
          "scattermapbox": [
           {
            "marker": {
             "colorbar": {
              "outlinewidth": 0,
              "ticks": ""
             }
            },
            "type": "scattermapbox"
           }
          ],
          "scatterpolar": [
           {
            "marker": {
             "colorbar": {
              "outlinewidth": 0,
              "ticks": ""
             }
            },
            "type": "scatterpolar"
           }
          ],
          "scatterpolargl": [
           {
            "marker": {
             "colorbar": {
              "outlinewidth": 0,
              "ticks": ""
             }
            },
            "type": "scatterpolargl"
           }
          ],
          "scatterternary": [
           {
            "marker": {
             "colorbar": {
              "outlinewidth": 0,
              "ticks": ""
             }
            },
            "type": "scatterternary"
           }
          ],
          "surface": [
           {
            "colorbar": {
             "outlinewidth": 0,
             "ticks": ""
            },
            "colorscale": [
             [
              0,
              "#0d0887"
             ],
             [
              0.1111111111111111,
              "#46039f"
             ],
             [
              0.2222222222222222,
              "#7201a8"
             ],
             [
              0.3333333333333333,
              "#9c179e"
             ],
             [
              0.4444444444444444,
              "#bd3786"
             ],
             [
              0.5555555555555556,
              "#d8576b"
             ],
             [
              0.6666666666666666,
              "#ed7953"
             ],
             [
              0.7777777777777778,
              "#fb9f3a"
             ],
             [
              0.8888888888888888,
              "#fdca26"
             ],
             [
              1,
              "#f0f921"
             ]
            ],
            "type": "surface"
           }
          ],
          "table": [
           {
            "cells": {
             "fill": {
              "color": "#EBF0F8"
             },
             "line": {
              "color": "white"
             }
            },
            "header": {
             "fill": {
              "color": "#C8D4E3"
             },
             "line": {
              "color": "white"
             }
            },
            "type": "table"
           }
          ]
         },
         "layout": {
          "annotationdefaults": {
           "arrowcolor": "#2a3f5f",
           "arrowhead": 0,
           "arrowwidth": 1
          },
          "autotypenumbers": "strict",
          "coloraxis": {
           "colorbar": {
            "outlinewidth": 0,
            "ticks": ""
           }
          },
          "colorscale": {
           "diverging": [
            [
             0,
             "#8e0152"
            ],
            [
             0.1,
             "#c51b7d"
            ],
            [
             0.2,
             "#de77ae"
            ],
            [
             0.3,
             "#f1b6da"
            ],
            [
             0.4,
             "#fde0ef"
            ],
            [
             0.5,
             "#f7f7f7"
            ],
            [
             0.6,
             "#e6f5d0"
            ],
            [
             0.7,
             "#b8e186"
            ],
            [
             0.8,
             "#7fbc41"
            ],
            [
             0.9,
             "#4d9221"
            ],
            [
             1,
             "#276419"
            ]
           ],
           "sequential": [
            [
             0,
             "#0d0887"
            ],
            [
             0.1111111111111111,
             "#46039f"
            ],
            [
             0.2222222222222222,
             "#7201a8"
            ],
            [
             0.3333333333333333,
             "#9c179e"
            ],
            [
             0.4444444444444444,
             "#bd3786"
            ],
            [
             0.5555555555555556,
             "#d8576b"
            ],
            [
             0.6666666666666666,
             "#ed7953"
            ],
            [
             0.7777777777777778,
             "#fb9f3a"
            ],
            [
             0.8888888888888888,
             "#fdca26"
            ],
            [
             1,
             "#f0f921"
            ]
           ],
           "sequentialminus": [
            [
             0,
             "#0d0887"
            ],
            [
             0.1111111111111111,
             "#46039f"
            ],
            [
             0.2222222222222222,
             "#7201a8"
            ],
            [
             0.3333333333333333,
             "#9c179e"
            ],
            [
             0.4444444444444444,
             "#bd3786"
            ],
            [
             0.5555555555555556,
             "#d8576b"
            ],
            [
             0.6666666666666666,
             "#ed7953"
            ],
            [
             0.7777777777777778,
             "#fb9f3a"
            ],
            [
             0.8888888888888888,
             "#fdca26"
            ],
            [
             1,
             "#f0f921"
            ]
           ]
          },
          "colorway": [
           "#636efa",
           "#EF553B",
           "#00cc96",
           "#ab63fa",
           "#FFA15A",
           "#19d3f3",
           "#FF6692",
           "#B6E880",
           "#FF97FF",
           "#FECB52"
          ],
          "font": {
           "color": "#2a3f5f"
          },
          "geo": {
           "bgcolor": "white",
           "lakecolor": "white",
           "landcolor": "#E5ECF6",
           "showlakes": true,
           "showland": true,
           "subunitcolor": "white"
          },
          "hoverlabel": {
           "align": "left"
          },
          "hovermode": "closest",
          "mapbox": {
           "style": "light"
          },
          "paper_bgcolor": "white",
          "plot_bgcolor": "#E5ECF6",
          "polar": {
           "angularaxis": {
            "gridcolor": "white",
            "linecolor": "white",
            "ticks": ""
           },
           "bgcolor": "#E5ECF6",
           "radialaxis": {
            "gridcolor": "white",
            "linecolor": "white",
            "ticks": ""
           }
          },
          "scene": {
           "xaxis": {
            "backgroundcolor": "#E5ECF6",
            "gridcolor": "white",
            "gridwidth": 2,
            "linecolor": "white",
            "showbackground": true,
            "ticks": "",
            "zerolinecolor": "white"
           },
           "yaxis": {
            "backgroundcolor": "#E5ECF6",
            "gridcolor": "white",
            "gridwidth": 2,
            "linecolor": "white",
            "showbackground": true,
            "ticks": "",
            "zerolinecolor": "white"
           },
           "zaxis": {
            "backgroundcolor": "#E5ECF6",
            "gridcolor": "white",
            "gridwidth": 2,
            "linecolor": "white",
            "showbackground": true,
            "ticks": "",
            "zerolinecolor": "white"
           }
          },
          "shapedefaults": {
           "line": {
            "color": "#2a3f5f"
           }
          },
          "ternary": {
           "aaxis": {
            "gridcolor": "white",
            "linecolor": "white",
            "ticks": ""
           },
           "baxis": {
            "gridcolor": "white",
            "linecolor": "white",
            "ticks": ""
           },
           "bgcolor": "#E5ECF6",
           "caxis": {
            "gridcolor": "white",
            "linecolor": "white",
            "ticks": ""
           }
          },
          "title": {
           "x": 0.05
          },
          "xaxis": {
           "automargin": true,
           "gridcolor": "white",
           "linecolor": "white",
           "ticks": "",
           "title": {
            "standoff": 15
           },
           "zerolinecolor": "white",
           "zerolinewidth": 2
          },
          "yaxis": {
           "automargin": true,
           "gridcolor": "white",
           "linecolor": "white",
           "ticks": "",
           "title": {
            "standoff": 15
           },
           "zerolinecolor": "white",
           "zerolinewidth": 2
          }
         }
        },
        "title": {
         "text": "Trip Arrival Times Distribution (Hour of Day)"
        },
        "xaxis": {
         "anchor": "y",
         "domain": [
          0,
          1
         ],
         "title": {
          "text": "Hour"
         }
        },
        "yaxis": {
         "anchor": "x",
         "domain": [
          0,
          1
         ],
         "title": {
          "text": "count"
         }
        }
       }
      }
     },
     "metadata": {},
     "output_type": "display_data"
    }
   ],
   "source": [
    "\n",
    "stop_times['arrival_time'] = pd.to_timedelta(stop_times['arrival_time'], errors='coerce')\n",
    "stop_times['hour'] = stop_times['arrival_time'].dt.components.hours\n",
    "fig = px.histogram(stop_times.dropna(subset=['hour']), x='hour', nbins=24,\n",
    "                   title='Trip Arrival Times Distribution (Hour of Day)', labels={'hour': 'Hour'})\n",
    "fig.show()\n"
   ]
  },
  {
   "cell_type": "markdown",
   "id": "595e1859",
   "metadata": {},
   "source": [
    "Top 10 Busiest Stations"
   ]
  },
  {
   "cell_type": "code",
   "execution_count": 41,
   "id": "d9939dc1",
   "metadata": {},
   "outputs": [
    {
     "data": {
      "application/vnd.plotly.v1+json": {
       "config": {
        "plotlyServerURL": "https://plot.ly"
       },
       "data": [
        {
         "hovertemplate": "Number of Times Appeared=%{x}<br>stop_name=%{y}<extra></extra>",
         "legendgroup": "",
         "marker": {
          "color": "#636efa",
          "pattern": {
           "shape": ""
          }
         },
         "name": "",
         "orientation": "h",
         "showlegend": false,
         "textposition": "auto",
         "type": "bar",
         "x": {
          "bdata": "fQbBBfcE7AS/BFIEUgRHBEcEPAQ=",
          "dtype": "i2"
         },
         "xaxis": "x",
         "y": [
          "Kashmere Gate",
          "Rajiv Chowk",
          "Central Secretariat",
          "Mandi House",
          "Qutab Minar",
          "Dilli Haat - INA",
          "Sikanderpur",
          "Rajouri Garden",
          "Hauz Khas",
          "Janak Puri West"
         ],
         "yaxis": "y"
        }
       ],
       "layout": {
        "barmode": "relative",
        "legend": {
         "tracegroupgap": 0
        },
        "template": {
         "data": {
          "bar": [
           {
            "error_x": {
             "color": "#2a3f5f"
            },
            "error_y": {
             "color": "#2a3f5f"
            },
            "marker": {
             "line": {
              "color": "#E5ECF6",
              "width": 0.5
             },
             "pattern": {
              "fillmode": "overlay",
              "size": 10,
              "solidity": 0.2
             }
            },
            "type": "bar"
           }
          ],
          "barpolar": [
           {
            "marker": {
             "line": {
              "color": "#E5ECF6",
              "width": 0.5
             },
             "pattern": {
              "fillmode": "overlay",
              "size": 10,
              "solidity": 0.2
             }
            },
            "type": "barpolar"
           }
          ],
          "carpet": [
           {
            "aaxis": {
             "endlinecolor": "#2a3f5f",
             "gridcolor": "white",
             "linecolor": "white",
             "minorgridcolor": "white",
             "startlinecolor": "#2a3f5f"
            },
            "baxis": {
             "endlinecolor": "#2a3f5f",
             "gridcolor": "white",
             "linecolor": "white",
             "minorgridcolor": "white",
             "startlinecolor": "#2a3f5f"
            },
            "type": "carpet"
           }
          ],
          "choropleth": [
           {
            "colorbar": {
             "outlinewidth": 0,
             "ticks": ""
            },
            "type": "choropleth"
           }
          ],
          "contour": [
           {
            "colorbar": {
             "outlinewidth": 0,
             "ticks": ""
            },
            "colorscale": [
             [
              0,
              "#0d0887"
             ],
             [
              0.1111111111111111,
              "#46039f"
             ],
             [
              0.2222222222222222,
              "#7201a8"
             ],
             [
              0.3333333333333333,
              "#9c179e"
             ],
             [
              0.4444444444444444,
              "#bd3786"
             ],
             [
              0.5555555555555556,
              "#d8576b"
             ],
             [
              0.6666666666666666,
              "#ed7953"
             ],
             [
              0.7777777777777778,
              "#fb9f3a"
             ],
             [
              0.8888888888888888,
              "#fdca26"
             ],
             [
              1,
              "#f0f921"
             ]
            ],
            "type": "contour"
           }
          ],
          "contourcarpet": [
           {
            "colorbar": {
             "outlinewidth": 0,
             "ticks": ""
            },
            "type": "contourcarpet"
           }
          ],
          "heatmap": [
           {
            "colorbar": {
             "outlinewidth": 0,
             "ticks": ""
            },
            "colorscale": [
             [
              0,
              "#0d0887"
             ],
             [
              0.1111111111111111,
              "#46039f"
             ],
             [
              0.2222222222222222,
              "#7201a8"
             ],
             [
              0.3333333333333333,
              "#9c179e"
             ],
             [
              0.4444444444444444,
              "#bd3786"
             ],
             [
              0.5555555555555556,
              "#d8576b"
             ],
             [
              0.6666666666666666,
              "#ed7953"
             ],
             [
              0.7777777777777778,
              "#fb9f3a"
             ],
             [
              0.8888888888888888,
              "#fdca26"
             ],
             [
              1,
              "#f0f921"
             ]
            ],
            "type": "heatmap"
           }
          ],
          "histogram": [
           {
            "marker": {
             "pattern": {
              "fillmode": "overlay",
              "size": 10,
              "solidity": 0.2
             }
            },
            "type": "histogram"
           }
          ],
          "histogram2d": [
           {
            "colorbar": {
             "outlinewidth": 0,
             "ticks": ""
            },
            "colorscale": [
             [
              0,
              "#0d0887"
             ],
             [
              0.1111111111111111,
              "#46039f"
             ],
             [
              0.2222222222222222,
              "#7201a8"
             ],
             [
              0.3333333333333333,
              "#9c179e"
             ],
             [
              0.4444444444444444,
              "#bd3786"
             ],
             [
              0.5555555555555556,
              "#d8576b"
             ],
             [
              0.6666666666666666,
              "#ed7953"
             ],
             [
              0.7777777777777778,
              "#fb9f3a"
             ],
             [
              0.8888888888888888,
              "#fdca26"
             ],
             [
              1,
              "#f0f921"
             ]
            ],
            "type": "histogram2d"
           }
          ],
          "histogram2dcontour": [
           {
            "colorbar": {
             "outlinewidth": 0,
             "ticks": ""
            },
            "colorscale": [
             [
              0,
              "#0d0887"
             ],
             [
              0.1111111111111111,
              "#46039f"
             ],
             [
              0.2222222222222222,
              "#7201a8"
             ],
             [
              0.3333333333333333,
              "#9c179e"
             ],
             [
              0.4444444444444444,
              "#bd3786"
             ],
             [
              0.5555555555555556,
              "#d8576b"
             ],
             [
              0.6666666666666666,
              "#ed7953"
             ],
             [
              0.7777777777777778,
              "#fb9f3a"
             ],
             [
              0.8888888888888888,
              "#fdca26"
             ],
             [
              1,
              "#f0f921"
             ]
            ],
            "type": "histogram2dcontour"
           }
          ],
          "mesh3d": [
           {
            "colorbar": {
             "outlinewidth": 0,
             "ticks": ""
            },
            "type": "mesh3d"
           }
          ],
          "parcoords": [
           {
            "line": {
             "colorbar": {
              "outlinewidth": 0,
              "ticks": ""
             }
            },
            "type": "parcoords"
           }
          ],
          "pie": [
           {
            "automargin": true,
            "type": "pie"
           }
          ],
          "scatter": [
           {
            "fillpattern": {
             "fillmode": "overlay",
             "size": 10,
             "solidity": 0.2
            },
            "type": "scatter"
           }
          ],
          "scatter3d": [
           {
            "line": {
             "colorbar": {
              "outlinewidth": 0,
              "ticks": ""
             }
            },
            "marker": {
             "colorbar": {
              "outlinewidth": 0,
              "ticks": ""
             }
            },
            "type": "scatter3d"
           }
          ],
          "scattercarpet": [
           {
            "marker": {
             "colorbar": {
              "outlinewidth": 0,
              "ticks": ""
             }
            },
            "type": "scattercarpet"
           }
          ],
          "scattergeo": [
           {
            "marker": {
             "colorbar": {
              "outlinewidth": 0,
              "ticks": ""
             }
            },
            "type": "scattergeo"
           }
          ],
          "scattergl": [
           {
            "marker": {
             "colorbar": {
              "outlinewidth": 0,
              "ticks": ""
             }
            },
            "type": "scattergl"
           }
          ],
          "scattermap": [
           {
            "marker": {
             "colorbar": {
              "outlinewidth": 0,
              "ticks": ""
             }
            },
            "type": "scattermap"
           }
          ],
          "scattermapbox": [
           {
            "marker": {
             "colorbar": {
              "outlinewidth": 0,
              "ticks": ""
             }
            },
            "type": "scattermapbox"
           }
          ],
          "scatterpolar": [
           {
            "marker": {
             "colorbar": {
              "outlinewidth": 0,
              "ticks": ""
             }
            },
            "type": "scatterpolar"
           }
          ],
          "scatterpolargl": [
           {
            "marker": {
             "colorbar": {
              "outlinewidth": 0,
              "ticks": ""
             }
            },
            "type": "scatterpolargl"
           }
          ],
          "scatterternary": [
           {
            "marker": {
             "colorbar": {
              "outlinewidth": 0,
              "ticks": ""
             }
            },
            "type": "scatterternary"
           }
          ],
          "surface": [
           {
            "colorbar": {
             "outlinewidth": 0,
             "ticks": ""
            },
            "colorscale": [
             [
              0,
              "#0d0887"
             ],
             [
              0.1111111111111111,
              "#46039f"
             ],
             [
              0.2222222222222222,
              "#7201a8"
             ],
             [
              0.3333333333333333,
              "#9c179e"
             ],
             [
              0.4444444444444444,
              "#bd3786"
             ],
             [
              0.5555555555555556,
              "#d8576b"
             ],
             [
              0.6666666666666666,
              "#ed7953"
             ],
             [
              0.7777777777777778,
              "#fb9f3a"
             ],
             [
              0.8888888888888888,
              "#fdca26"
             ],
             [
              1,
              "#f0f921"
             ]
            ],
            "type": "surface"
           }
          ],
          "table": [
           {
            "cells": {
             "fill": {
              "color": "#EBF0F8"
             },
             "line": {
              "color": "white"
             }
            },
            "header": {
             "fill": {
              "color": "#C8D4E3"
             },
             "line": {
              "color": "white"
             }
            },
            "type": "table"
           }
          ]
         },
         "layout": {
          "annotationdefaults": {
           "arrowcolor": "#2a3f5f",
           "arrowhead": 0,
           "arrowwidth": 1
          },
          "autotypenumbers": "strict",
          "coloraxis": {
           "colorbar": {
            "outlinewidth": 0,
            "ticks": ""
           }
          },
          "colorscale": {
           "diverging": [
            [
             0,
             "#8e0152"
            ],
            [
             0.1,
             "#c51b7d"
            ],
            [
             0.2,
             "#de77ae"
            ],
            [
             0.3,
             "#f1b6da"
            ],
            [
             0.4,
             "#fde0ef"
            ],
            [
             0.5,
             "#f7f7f7"
            ],
            [
             0.6,
             "#e6f5d0"
            ],
            [
             0.7,
             "#b8e186"
            ],
            [
             0.8,
             "#7fbc41"
            ],
            [
             0.9,
             "#4d9221"
            ],
            [
             1,
             "#276419"
            ]
           ],
           "sequential": [
            [
             0,
             "#0d0887"
            ],
            [
             0.1111111111111111,
             "#46039f"
            ],
            [
             0.2222222222222222,
             "#7201a8"
            ],
            [
             0.3333333333333333,
             "#9c179e"
            ],
            [
             0.4444444444444444,
             "#bd3786"
            ],
            [
             0.5555555555555556,
             "#d8576b"
            ],
            [
             0.6666666666666666,
             "#ed7953"
            ],
            [
             0.7777777777777778,
             "#fb9f3a"
            ],
            [
             0.8888888888888888,
             "#fdca26"
            ],
            [
             1,
             "#f0f921"
            ]
           ],
           "sequentialminus": [
            [
             0,
             "#0d0887"
            ],
            [
             0.1111111111111111,
             "#46039f"
            ],
            [
             0.2222222222222222,
             "#7201a8"
            ],
            [
             0.3333333333333333,
             "#9c179e"
            ],
            [
             0.4444444444444444,
             "#bd3786"
            ],
            [
             0.5555555555555556,
             "#d8576b"
            ],
            [
             0.6666666666666666,
             "#ed7953"
            ],
            [
             0.7777777777777778,
             "#fb9f3a"
            ],
            [
             0.8888888888888888,
             "#fdca26"
            ],
            [
             1,
             "#f0f921"
            ]
           ]
          },
          "colorway": [
           "#636efa",
           "#EF553B",
           "#00cc96",
           "#ab63fa",
           "#FFA15A",
           "#19d3f3",
           "#FF6692",
           "#B6E880",
           "#FF97FF",
           "#FECB52"
          ],
          "font": {
           "color": "#2a3f5f"
          },
          "geo": {
           "bgcolor": "white",
           "lakecolor": "white",
           "landcolor": "#E5ECF6",
           "showlakes": true,
           "showland": true,
           "subunitcolor": "white"
          },
          "hoverlabel": {
           "align": "left"
          },
          "hovermode": "closest",
          "mapbox": {
           "style": "light"
          },
          "paper_bgcolor": "white",
          "plot_bgcolor": "#E5ECF6",
          "polar": {
           "angularaxis": {
            "gridcolor": "white",
            "linecolor": "white",
            "ticks": ""
           },
           "bgcolor": "#E5ECF6",
           "radialaxis": {
            "gridcolor": "white",
            "linecolor": "white",
            "ticks": ""
           }
          },
          "scene": {
           "xaxis": {
            "backgroundcolor": "#E5ECF6",
            "gridcolor": "white",
            "gridwidth": 2,
            "linecolor": "white",
            "showbackground": true,
            "ticks": "",
            "zerolinecolor": "white"
           },
           "yaxis": {
            "backgroundcolor": "#E5ECF6",
            "gridcolor": "white",
            "gridwidth": 2,
            "linecolor": "white",
            "showbackground": true,
            "ticks": "",
            "zerolinecolor": "white"
           },
           "zaxis": {
            "backgroundcolor": "#E5ECF6",
            "gridcolor": "white",
            "gridwidth": 2,
            "linecolor": "white",
            "showbackground": true,
            "ticks": "",
            "zerolinecolor": "white"
           }
          },
          "shapedefaults": {
           "line": {
            "color": "#2a3f5f"
           }
          },
          "ternary": {
           "aaxis": {
            "gridcolor": "white",
            "linecolor": "white",
            "ticks": ""
           },
           "baxis": {
            "gridcolor": "white",
            "linecolor": "white",
            "ticks": ""
           },
           "bgcolor": "#E5ECF6",
           "caxis": {
            "gridcolor": "white",
            "linecolor": "white",
            "ticks": ""
           }
          },
          "title": {
           "x": 0.05
          },
          "xaxis": {
           "automargin": true,
           "gridcolor": "white",
           "linecolor": "white",
           "ticks": "",
           "title": {
            "standoff": 15
           },
           "zerolinecolor": "white",
           "zerolinewidth": 2
          },
          "yaxis": {
           "automargin": true,
           "gridcolor": "white",
           "linecolor": "white",
           "ticks": "",
           "title": {
            "standoff": 15
           },
           "zerolinecolor": "white",
           "zerolinewidth": 2
          }
         }
        },
        "title": {
         "text": "Top 10 Busiest Metro Stations"
        },
        "xaxis": {
         "anchor": "y",
         "domain": [
          0,
          1
         ],
         "title": {
          "text": "Number of Times Appeared"
         }
        },
        "yaxis": {
         "anchor": "x",
         "categoryorder": "total ascending",
         "domain": [
          0,
          1
         ],
         "title": {
          "text": "stop_name"
         }
        }
       }
      }
     },
     "metadata": {},
     "output_type": "display_data"
    }
   ],
   "source": [
    "\n",
    "top_stations = stop_times['stop_id'].value_counts().head(10).reset_index()\n",
    "top_stations.columns = ['stop_id', 'count']\n",
    "top_stations = top_stations.merge(stops, on='stop_id')\n",
    "fig = px.bar(top_stations, y='stop_name', x='count', orientation='h',\n",
    "             title='Top 10 Busiest Metro Stations', labels={'count': 'Number of Times Appeared'})\n",
    "fig.update_layout(yaxis={'categoryorder': 'total ascending'})\n",
    "fig.show()\n"
   ]
  },
  {
   "cell_type": "markdown",
   "id": "2506f1b3",
   "metadata": {},
   "source": [
    "Predict Busiest Time Window"
   ]
  },
  {
   "cell_type": "code",
   "execution_count": 51,
   "id": "f6e97651",
   "metadata": {},
   "outputs": [
    {
     "data": {
      "image/png": "[encoded data removed]",
      "text/plain": [
       "<Figure size 640x480 with 1 Axes>"
      ]
     },
     "metadata": {},
     "output_type": "display_data"
    }
   ],
   "source": [
    "hourly = stop_times.groupby('hour').size()\n",
    "hourly.plot(kind='bar', color='orange')\n",
    "plt.title('Most Active Hours in Metro')\n",
    "plt.xlabel('Hour')\n",
    "plt.ylabel('Number of Stop Arrivals')\n",
    "plt.grid(True)\n",
    "plt.show()"
   ]
  },
  {
   "cell_type": "code",
   "execution_count": 42,
   "id": "47a6edcc",
   "metadata": {},
   "outputs": [
    {
     "data": {
      "application/vnd.plotly.v1+json": {
       "config": {
        "plotlyServerURL": "https://plot.ly"
       },
       "data": [
        {
         "hovertemplate": "Service Type=%{x}<br>Number of Trips=%{y}<extra></extra>",
         "legendgroup": "",
         "marker": {
          "color": "#636efa",
          "pattern": {
           "shape": ""
          }
         },
         "name": "",
         "orientation": "v",
         "showlegend": false,
         "textposition": "auto",
         "type": "bar",
         "x": [
          "weekday",
          "saturday"
         ],
         "xaxis": "x",
         "y": {
          "bdata": "AxU7AA==",
          "dtype": "i2"
         },
         "yaxis": "y"
        }
       ],
       "layout": {
        "barmode": "relative",
        "legend": {
         "tracegroupgap": 0
        },
        "template": {
         "data": {
          "bar": [
           {
            "error_x": {
             "color": "#2a3f5f"
            },
            "error_y": {
             "color": "#2a3f5f"
            },
            "marker": {
             "line": {
              "color": "#E5ECF6",
              "width": 0.5
             },
             "pattern": {
              "fillmode": "overlay",
              "size": 10,
              "solidity": 0.2
             }
            },
            "type": "bar"
           }
          ],
          "barpolar": [
           {
            "marker": {
             "line": {
              "color": "#E5ECF6",
              "width": 0.5
             },
             "pattern": {
              "fillmode": "overlay",
              "size": 10,
              "solidity": 0.2
             }
            },
            "type": "barpolar"
           }
          ],
          "carpet": [
           {
            "aaxis": {
             "endlinecolor": "#2a3f5f",
             "gridcolor": "white",
             "linecolor": "white",
             "minorgridcolor": "white",
             "startlinecolor": "#2a3f5f"
            },
            "baxis": {
             "endlinecolor": "#2a3f5f",
             "gridcolor": "white",
             "linecolor": "white",
             "minorgridcolor": "white",
             "startlinecolor": "#2a3f5f"
            },
            "type": "carpet"
           }
          ],
          "choropleth": [
           {
            "colorbar": {
             "outlinewidth": 0,
             "ticks": ""
            },
            "type": "choropleth"
           }
          ],
          "contour": [
           {
            "colorbar": {
             "outlinewidth": 0,
             "ticks": ""
            },
            "colorscale": [
             [
              0,
              "#0d0887"
             ],
             [
              0.1111111111111111,
              "#46039f"
             ],
             [
              0.2222222222222222,
              "#7201a8"
             ],
             [
              0.3333333333333333,
              "#9c179e"
             ],
             [
              0.4444444444444444,
              "#bd3786"
             ],
             [
              0.5555555555555556,
              "#d8576b"
             ],
             [
              0.6666666666666666,
              "#ed7953"
             ],
             [
              0.7777777777777778,
              "#fb9f3a"
             ],
             [
              0.8888888888888888,
              "#fdca26"
             ],
             [
              1,
              "#f0f921"
             ]
            ],
            "type": "contour"
           }
          ],
          "contourcarpet": [
           {
            "colorbar": {
             "outlinewidth": 0,
             "ticks": ""
            },
            "type": "contourcarpet"
           }
          ],
          "heatmap": [
           {
            "colorbar": {
             "outlinewidth": 0,
             "ticks": ""
            },
            "colorscale": [
             [
              0,
              "#0d0887"
             ],
             [
              0.1111111111111111,
              "#46039f"
             ],
             [
              0.2222222222222222,
              "#7201a8"
             ],
             [
              0.3333333333333333,
              "#9c179e"
             ],
             [
              0.4444444444444444,
              "#bd3786"
             ],
             [
              0.5555555555555556,
              "#d8576b"
             ],
             [
              0.6666666666666666,
              "#ed7953"
             ],
             [
              0.7777777777777778,
              "#fb9f3a"
             ],
             [
              0.8888888888888888,
              "#fdca26"
             ],
             [
              1,
              "#f0f921"
             ]
            ],
            "type": "heatmap"
           }
          ],
          "histogram": [
           {
            "marker": {
             "pattern": {
              "fillmode": "overlay",
              "size": 10,
              "solidity": 0.2
             }
            },
            "type": "histogram"
           }
          ],
          "histogram2d": [
           {
            "colorbar": {
             "outlinewidth": 0,
             "ticks": ""
            },
            "colorscale": [
             [
              0,
              "#0d0887"
             ],
             [
              0.1111111111111111,
              "#46039f"
             ],
             [
              0.2222222222222222,
              "#7201a8"
             ],
             [
              0.3333333333333333,
              "#9c179e"
             ],
             [
              0.4444444444444444,
              "#bd3786"
             ],
             [
              0.5555555555555556,
              "#d8576b"
             ],
             [
              0.6666666666666666,
              "#ed7953"
             ],
             [
              0.7777777777777778,
              "#fb9f3a"
             ],
             [
              0.8888888888888888,
              "#fdca26"
             ],
             [
              1,
              "#f0f921"
             ]
            ],
            "type": "histogram2d"
           }
          ],
          "histogram2dcontour": [
           {
            "colorbar": {
             "outlinewidth": 0,
             "ticks": ""
            },
            "colorscale": [
             [
              0,
              "#0d0887"
             ],
             [
              0.1111111111111111,
              "#46039f"
             ],
             [
              0.2222222222222222,
              "#7201a8"
             ],
             [
              0.3333333333333333,
              "#9c179e"
             ],
             [
              0.4444444444444444,
              "#bd3786"
             ],
             [
              0.5555555555555556,
              "#d8576b"
             ],
             [
              0.6666666666666666,
              "#ed7953"
             ],
             [
              0.7777777777777778,
              "#fb9f3a"
             ],
             [
              0.8888888888888888,
              "#fdca26"
             ],
             [
              1,
              "#f0f921"
             ]
            ],
            "type": "histogram2dcontour"
           }
          ],
          "mesh3d": [
           {
            "colorbar": {
             "outlinewidth": 0,
             "ticks": ""
            },
            "type": "mesh3d"
           }
          ],
          "parcoords": [
           {
            "line": {
             "colorbar": {
              "outlinewidth": 0,
              "ticks": ""
             }
            },
            "type": "parcoords"
           }
          ],
          "pie": [
           {
            "automargin": true,
            "type": "pie"
           }
          ],
          "scatter": [
           {
            "fillpattern": {
             "fillmode": "overlay",
             "size": 10,
             "solidity": 0.2
            },
            "type": "scatter"
           }
          ],
          "scatter3d": [
           {
            "line": {
             "colorbar": {
              "outlinewidth": 0,
              "ticks": ""
             }
            },
            "marker": {
             "colorbar": {
              "outlinewidth": 0,
              "ticks": ""
             }
            },
            "type": "scatter3d"
           }
          ],
          "scattercarpet": [
           {
            "marker": {
             "colorbar": {
              "outlinewidth": 0,
              "ticks": ""
             }
            },
            "type": "scattercarpet"
           }
          ],
          "scattergeo": [
           {
            "marker": {
             "colorbar": {
              "outlinewidth": 0,
              "ticks": ""
             }
            },
            "type": "scattergeo"
           }
          ],
          "scattergl": [
           {
            "marker": {
             "colorbar": {
              "outlinewidth": 0,
              "ticks": ""
             }
            },
            "type": "scattergl"
           }
          ],
          "scattermap": [
           {
            "marker": {
             "colorbar": {
              "outlinewidth": 0,
              "ticks": ""
             }
            },
            "type": "scattermap"
           }
          ],
          "scattermapbox": [
           {
            "marker": {
             "colorbar": {
              "outlinewidth": 0,
              "ticks": ""
             }
            },
            "type": "scattermapbox"
           }
          ],
          "scatterpolar": [
           {
            "marker": {
             "colorbar": {
              "outlinewidth": 0,
              "ticks": ""
             }
            },
            "type": "scatterpolar"
           }
          ],
          "scatterpolargl": [
           {
            "marker": {
             "colorbar": {
              "outlinewidth": 0,
              "ticks": ""
             }
            },
            "type": "scatterpolargl"
           }
          ],
          "scatterternary": [
           {
            "marker": {
             "colorbar": {
              "outlinewidth": 0,
              "ticks": ""
             }
            },
            "type": "scatterternary"
           }
          ],
          "surface": [
           {
            "colorbar": {
             "outlinewidth": 0,
             "ticks": ""
            },
            "colorscale": [
             [
              0,
              "#0d0887"
             ],
             [
              0.1111111111111111,
              "#46039f"
             ],
             [
              0.2222222222222222,
              "#7201a8"
             ],
             [
              0.3333333333333333,
              "#9c179e"
             ],
             [
              0.4444444444444444,
              "#bd3786"
             ],
             [
              0.5555555555555556,
              "#d8576b"
             ],
             [
              0.6666666666666666,
              "#ed7953"
             ],
             [
              0.7777777777777778,
              "#fb9f3a"
             ],
             [
              0.8888888888888888,
              "#fdca26"
             ],
             [
              1,
              "#f0f921"
             ]
            ],
            "type": "surface"
           }
          ],
          "table": [
           {
            "cells": {
             "fill": {
              "color": "#EBF0F8"
             },
             "line": {
              "color": "white"
             }
            },
            "header": {
             "fill": {
              "color": "#C8D4E3"
             },
             "line": {
              "color": "white"
             }
            },
            "type": "table"
           }
          ]
         },
         "layout": {
          "annotationdefaults": {
           "arrowcolor": "#2a3f5f",
           "arrowhead": 0,
           "arrowwidth": 1
          },
          "autotypenumbers": "strict",
          "coloraxis": {
           "colorbar": {
            "outlinewidth": 0,
            "ticks": ""
           }
          },
          "colorscale": {
           "diverging": [
            [
             0,
             "#8e0152"
            ],
            [
             0.1,
             "#c51b7d"
            ],
            [
             0.2,
             "#de77ae"
            ],
            [
             0.3,
             "#f1b6da"
            ],
            [
             0.4,
             "#fde0ef"
            ],
            [
             0.5,
             "#f7f7f7"
            ],
            [
             0.6,
             "#e6f5d0"
            ],
            [
             0.7,
             "#b8e186"
            ],
            [
             0.8,
             "#7fbc41"
            ],
            [
             0.9,
             "#4d9221"
            ],
            [
             1,
             "#276419"
            ]
           ],
           "sequential": [
            [
             0,
             "#0d0887"
            ],
            [
             0.1111111111111111,
             "#46039f"
            ],
            [
             0.2222222222222222,
             "#7201a8"
            ],
            [
             0.3333333333333333,
             "#9c179e"
            ],
            [
             0.4444444444444444,
             "#bd3786"
            ],
            [
             0.5555555555555556,
             "#d8576b"
            ],
            [
             0.6666666666666666,
             "#ed7953"
            ],
            [
             0.7777777777777778,
             "#fb9f3a"
            ],
            [
             0.8888888888888888,
             "#fdca26"
            ],
            [
             1,
             "#f0f921"
            ]
           ],
           "sequentialminus": [
            [
             0,
             "#0d0887"
            ],
            [
             0.1111111111111111,
             "#46039f"
            ],
            [
             0.2222222222222222,
             "#7201a8"
            ],
            [
             0.3333333333333333,
             "#9c179e"
            ],
            [
             0.4444444444444444,
             "#bd3786"
            ],
            [
             0.5555555555555556,
             "#d8576b"
            ],
            [
             0.6666666666666666,
             "#ed7953"
            ],
            [
             0.7777777777777778,
             "#fb9f3a"
            ],
            [
             0.8888888888888888,
             "#fdca26"
            ],
            [
             1,
             "#f0f921"
            ]
           ]
          },
          "colorway": [
           "#636efa",
           "#EF553B",
           "#00cc96",
           "#ab63fa",
           "#FFA15A",
           "#19d3f3",
           "#FF6692",
           "#B6E880",
           "#FF97FF",
           "#FECB52"
          ],
          "font": {
           "color": "#2a3f5f"
          },
          "geo": {
           "bgcolor": "white",
           "lakecolor": "white",
           "landcolor": "#E5ECF6",
           "showlakes": true,
           "showland": true,
           "subunitcolor": "white"
          },
          "hoverlabel": {
           "align": "left"
          },
          "hovermode": "closest",
          "mapbox": {
           "style": "light"
          },
          "paper_bgcolor": "white",
          "plot_bgcolor": "#E5ECF6",
          "polar": {
           "angularaxis": {
            "gridcolor": "white",
            "linecolor": "white",
            "ticks": ""
           },
           "bgcolor": "#E5ECF6",
           "radialaxis": {
            "gridcolor": "white",
            "linecolor": "white",
            "ticks": ""
           }
          },
          "scene": {
           "xaxis": {
            "backgroundcolor": "#E5ECF6",
            "gridcolor": "white",
            "gridwidth": 2,
            "linecolor": "white",
            "showbackground": true,
            "ticks": "",
            "zerolinecolor": "white"
           },
           "yaxis": {
            "backgroundcolor": "#E5ECF6",
            "gridcolor": "white",
            "gridwidth": 2,
            "linecolor": "white",
            "showbackground": true,
            "ticks": "",
            "zerolinecolor": "white"
           },
           "zaxis": {
            "backgroundcolor": "#E5ECF6",
            "gridcolor": "white",
            "gridwidth": 2,
            "linecolor": "white",
            "showbackground": true,
            "ticks": "",
            "zerolinecolor": "white"
           }
          },
          "shapedefaults": {
           "line": {
            "color": "#2a3f5f"
           }
          },
          "ternary": {
           "aaxis": {
            "gridcolor": "white",
            "linecolor": "white",
            "ticks": ""
           },
           "baxis": {
            "gridcolor": "white",
            "linecolor": "white",
            "ticks": ""
           },
           "bgcolor": "#E5ECF6",
           "caxis": {
            "gridcolor": "white",
            "linecolor": "white",
            "ticks": ""
           }
          },
          "title": {
           "x": 0.05
          },
          "xaxis": {
           "automargin": true,
           "gridcolor": "white",
           "linecolor": "white",
           "ticks": "",
           "title": {
            "standoff": 15
           },
           "zerolinecolor": "white",
           "zerolinewidth": 2
          },
          "yaxis": {
           "automargin": true,
           "gridcolor": "white",
           "linecolor": "white",
           "ticks": "",
           "title": {
            "standoff": 15
           },
           "zerolinecolor": "white",
           "zerolinewidth": 2
          }
         }
        },
        "title": {
         "text": "Trip Frequency per Service Type"
        },
        "xaxis": {
         "anchor": "y",
         "domain": [
          0,
          1
         ],
         "tickangle": -45,
         "title": {
          "text": "Service Type"
         }
        },
        "yaxis": {
         "anchor": "x",
         "domain": [
          0,
          1
         ],
         "title": {
          "text": "Number of Trips"
         }
        }
       }
      }
     },
     "metadata": {},
     "output_type": "display_data"
    }
   ],
   "source": [
    "trip_service_counts = trips['service_id'].value_counts().reset_index()\n",
    "trip_service_counts.columns = ['service_id', 'count']\n",
    "\n",
    "fig = px.bar(\n",
    "    trip_service_counts,\n",
    "    x='service_id',\n",
    "    y='count',\n",
    "    labels={'service_id': 'Service Type', 'count': 'Number of Trips'},\n",
    "    title='Trip Frequency per Service Type'\n",
    ")\n",
    "\n",
    "fig.update_layout(xaxis_tickangle=-45)\n",
    "fig.show()\n"
   ]
  },
  {
   "cell_type": "markdown",
   "id": "0ea6679a",
   "metadata": {},
   "source": [
    "Hourly Trip Distribution"
   ]
  },
  {
   "cell_type": "code",
   "execution_count": 43,
   "id": "bb544f13",
   "metadata": {},
   "outputs": [
    {
     "data": {
      "image/png": "[encoded data removed]",
      "text/plain": [
       "<Figure size 1200x600 with 1 Axes>"
      ]
     },
     "metadata": {},
     "output_type": "display_data"
    }
   ],
   "source": [
    "stop_times['arrival_hour'] = pd.to_datetime(\n",
    "    stop_times['arrival_time'], \n",
    "    format='%H:%M:%S', \n",
    "    errors='coerce'\n",
    ").dt.hour\n",
    "\n",
    "trips_stop_times = pd.merge(trips, stop_times, on='trip_id')\n",
    "trips_stop_times = trips_stop_times.dropna(subset=['arrival_hour'])\n",
    "\n",
    "hourly_distribution = trips_stop_times.groupby(['service_id', 'arrival_hour']).size().reset_index(name='trip_count')\n",
    "plt.figure(figsize=(12, 6))\n",
    "sns.lineplot(data=hourly_distribution, x='arrival_hour', y='trip_count', hue='service_id', marker='o')\n",
    "plt.title('Hourly Trip Distribution by Service Type')\n",
    "plt.xlabel('Hour of Day')\n",
    "plt.ylabel('Number of Trips')\n",
    "plt.xticks(range(0, 24))\n",
    "plt.grid(True)\n",
    "plt.tight_layout()\n",
    "plt.show()"
   ]
  },
  {
   "cell_type": "markdown",
   "id": "dd4abff3",
   "metadata": {},
   "source": [
    "Headway Analysis"
   ]
  },
  {
   "cell_type": "code",
   "execution_count": 44,
   "id": "bd7d2137",
   "metadata": {},
   "outputs": [
    {
     "data": {
      "application/vnd.plotly.v1+json": {
       "config": {
        "plotlyServerURL": "https://plot.ly"
       },
       "data": [
        {
         "hovertemplate": "Stop Name=%{x}<br>Average Headway (Minutes)=%{y}<extra></extra>",
         "legendgroup": "",
         "marker": {
          "color": "#636efa",
          "pattern": {
           "shape": ""
          }
         },
         "name": "",
         "orientation": "v",
         "showlegend": false,
         "textposition": "auto",
         "type": "bar",
         "x": [
          "Kashmere Gate",
          "Rajiv Chowk",
          "Mandi House",
          "Central Secretariat",
          "Qutab Minar",
          "Rajouri Garden",
          "Sikanderpur",
          "Dilli Haat - INA",
          "Hauz Khas",
          "Janak Puri West",
          "Kirti Nagar",
          "Lajpat Nagar",
          "Kalkaji Mandir",
          "New Delhi",
          "Dwarka",
          "Dwarka Sector - 21",
          "Rajendra Place",
          "Patel Nagar",
          "Jhandewalan",
          "Karol Bagh",
          "Shadipur",
          "RK Ashram Marg",
          "Moti Nagar",
          "Ramesh Nagar",
          "Barakhamba",
          "Tagore Garden",
          "Noida Sector 142",
          "Subash Nagar",
          "Supreme Court",
          "Tilak Nagar",
          "Indraprastha",
          "Janak Puri East",
          "Yamuna Bank",
          "Mayur Vihar-I",
          "Uttam Nagar East",
          "Uttam Nagar West",
          "Nawada",
          "Dwarka Mor",
          "Patel Chowk",
          "Jorbagh",
          "Lok Kalyan Marg",
          "Chandni Chowk",
          "Udyog Bhawan",
          "Green Park",
          "AIIMS",
          "Civil Lines",
          "Chawri Bazar",
          "Vidhan Sabha",
          "Malviya Nagar",
          "Vishwavidyalaya",
          "Ghitorni",
          "Arjan Garh",
          "Sultanpur",
          "Chhattarpur",
          "Anand Vihar",
          "Karkarduma",
          "Dwarka Sector - 14",
          "Welcome",
          "Gurudronacharya",
          "Dwarka Sector - 13",
          "Saket",
          "Netaji Subash Place",
          "Botanical Garden",
          "Dwarka Sector - 12",
          "MG Road",
          "Dwarka Sector - 11",
          "IFFCO Chowk",
          "Dwarka Sector - 10",
          "Huda City Centre",
          "Dwarka Sector - 9",
          "Dwarka Sector - 8",
          "Inderlok",
          "Azadpur",
          "Moolchand",
          "Kailash Colony",
          "Jangpura",
          "Nehru Place",
          "Jawahar Lal Nehru Stadium",
          "Khan Market",
          "Govind Puri",
          "Harkesh Nagar Okhla",
          "Janpath",
          "Jasola-Apollo",
          "Sarita Vihar",
          "ITO",
          "Mohan Estate",
          "Delhi Gate",
          "Tughlakabad Station",
          "Jama Masjid",
          "Lal Quila",
          "Badarpur Border",
          "Noida Sector 148",
          "Noida Sector 147",
          "Knowledge Park",
          "Pari Chowk",
          "Noida Sector 146",
          "Noida Sector 145",
          "Alpha 1",
          "Delta 1",
          "Noida Sector 144",
          "Noida Sector 143",
          "GNIDA Office",
          "Depot Station",
          "Udyog Nagar",
          "Maharaja Surajmal Stadium",
          "Nangloi",
          "Nangloi Railway Station",
          "Peera Garhi",
          "Rajdhani Park",
          "Paschim Vihar (West)",
          "Mundka",
          "Paschim Vihar (East)",
          "Mundka Industrial Area (M.I.A)",
          "Madipur",
          "Ghevra Metro station",
          "Shivaji Park",
          "Punjabi Bagh",
          "Tikri Kalan",
          "Ashok Park Main",
          "Tikri Border",
          "Pandit Shree Ram Sharma",
          "Bahadurgarh City",
          "Brigadier Hoshiyar Singh",
          "Seelam Pur",
          "Tis Hazari",
          "Shastri Park",
          "Pul Bangash",
          "Shahdara",
          "Pratap Nagar",
          "Sector 54 Chowk (Rapid Metro)",
          "Sector 55-56 (Rapid Metro)",
          "Sector 53-54 (Rapid Metro)",
          "Mansrover park",
          "Sector 42-43 (Rapid Metro)",
          "Shastri Nagar",
          "Jhilmil",
          "Phase-I (Rapid Metro)",
          "Dilshad Garden",
          "Kanhaiya Nagar",
          "Vinobapuri",
          "Keshav Puram",
          "Sikanderpur (Rapid Metro)",
          "Ashram",
          "South Extension",
          "Kohat Enclave",
          "Sarai Kale Khan - Nizamuddin",
          "Phase 2 (Rapid Metro)",
          "Pitampura",
          "Rohini East",
          "Sarojini Nagar",
          "Rohini West",
          "Bhikaji Cama Place",
          "Mayur Vihar Pocket 1",
          "Rithala",
          "Akshardham",
          "Belvedere Towers (Rapid Metro)",
          "Sir Vishweshwaraiah Moti Bagh",
          "Trilokpuri Sanjay Lake",
          "Durgabai Deshmukh South Campus",
          "East Vinod Nagar - Mayur Vihar-II",
          "Cyber City (Rapid Metro)",
          "Mayur Vihar Ext",
          "Chirag Delhi",
          "Greater Kailash",
          "Panchsheel Park",
          "Nehru Enclave",
          "Mandawali - West Vinod Nagar",
          "New Ashok Nagar",
          "Okhla NSIC",
          "Delhi Cantt.",
          "Noida Sec -15",
          "IP Extension",
          "Laxmi Nagar",
          "IIT",
          "Sukhdev Vihar",
          "Noida Sec -16",
          "Nirman Vihar",
          "Naraina Vihar",
          "Moulsari Avenue (Rapid Metro)",
          "RK Puram",
          "Noida Sec -18",
          "Preet Vihar",
          "Jamia Millia Islamia",
          "Mayapuri",
          "Munirka",
          "Okhla Vihar",
          "Golf Course",
          "Vasant Vihar",
          "Karkarduma Court",
          "Phase 3 (Rapid Metro)",
          "Noida City Centre",
          "Jasola Vihar Shaheen Bagh",
          "ESI Basai Darapur",
          "Kaushambi",
          "Krishna Nagar",
          "Shankar Vihar",
          "Noida Sec-34",
          "East Azad Nagar",
          "Vaishali",
          "Punjabi Bagh West",
          "Kalindi Kunj",
          "Noida Sec-52",
          "Terminal 1- IGI Airport",
          "Okhla Bird Sanctuary",
          "Noida Sec-61",
          "Shakurpur",
          "Sadar Bazar Contonment",
          "Jafrabad",
          "Noida Sec-59",
          "Noida Sec-62",
          "Palam",
          "Maujpur - Babarpur",
          "Shalimar Bagh",
          "Noida Electronic City",
          "Dashrath Puri",
          "Gokulpuri",
          "Johri Enclave",
          "Dabri Mor - Janakpuri South",
          "Shiv Vihar",
          "Majlis Park",
          "Sarai",
          "NHPC Chowk",
          "Mewala Maharajpur",
          "Sector-28",
          "Badkal Mor",
          "Old Faridabad",
          "Neelam Chowk Ajronda",
          "Bata Chowk",
          "Escorts Mujesar",
          "Noida Sector 81",
          "Sant Surdas (Sihi)",
          "Noida Sector 101",
          "NSEZ",
          "Noida Sector 76",
          "Noida Sector 83",
          "Raja Nahar Singh",
          "Noida Sector 137",
          "Noida Sector 50",
          "Noida Sector 51",
          "Guru Tegh Bahadur Nagar",
          "Model Town",
          "Adarsh Nagar",
          "Jahangirpuri",
          "Haiderpur Badli Mor",
          "Rohini Sector 18-19",
          "Samaypur Badli",
          "Shaheed Sthal (New Bus Adda)",
          "Arthala",
          "Mohan Nagar",
          "Shaheed Nagar",
          "Major Mohit Sharma Rajender Nagar",
          "Raj Bagh",
          "Shyam Park",
          "Hindon River",
          "Satguru Ram Singh Marg",
          "Dhaula Kuan",
          "Shivaji Stadium",
          "Delhi Aerocity",
          "IGI Airport",
          "Nangli",
          "Najafgarh",
          "Dhansa Bus Stand"
         ],
         "xaxis": "x",
         "y": {
          "bdata": "AX6IObno5T+RhSxkIWvoP5NcN5zMgus/etYEnGdN7D8+ju2PcSnuP0Xz94kiIfA/juALwRM/8D8cpkMcpkPwP4xqDRpxc/A/1F0GPMPP8D/z9iprbqLyPzNS7nYOE/M/PTsywRVD8z9apY+tprzzP+XbO3Pue/Q/wH8Dz61+9D8ga89kXBj3PyBrz2RcGPc/IGvPZFwY9z8ga89kXBj3PyBrz2RcGPc/AfgYjqsZ9z+epU46qyb3P0GnDXTaQPc/N+KefqRW9z/hA69rS3H3P9VNTMgtePc/G1KMzRyI9z9upXqLE4r3P+z5FU6+nvc/8yb192Oi9z8XFd8/zrf3P9FCWbmsxvc/rK3aqq3a9z8vZQR2jOz3P6am3HvtA/g/SaibtRwe+D/dabiIXDf4Pw9EnzfzQPg/D0SfN/NA+D8PRJ8380D4Pw9EnzfzQPg/D0SfN/NA+D8PRJ8380D4Pw9EnzfzQPg/D0SfN/NA+D8PRJ8380D4P3xFZTnMV/g/vwZRRvlr+D89R4H5zXP4Pw368WDFd/g/DfrxYMV3+D8N+vFgxXf4Pw368WDFd/g/DfrxYMV3+D8N+vFgxXf4PxJuWmaxevg/aQcn+r1++D9UiZqBoIj4Px4J34rikfg/Iom6Vx2S+D89qjeYvKH4P7nnU2k9pPg/hQoVKlSo+D/vOwC6wbv4PykM1GODwvg/pTqBELnZ+D9ymlMsRNr4P4UZMnzx8/g/FJwSZnP0+D/G0OUPZAz5P+qTPumTPv0/ZbBGBmtk/T822WSTTbb/P23BFmzB1v8/JchTgjzl/z8Vmajm3v//P+b8Wc6fBQBAPCXIU4IcAECZqObevyMAQHINeiz2PABAfdInfdJHAEAHLsk16FEAQJxOGD/aZgBA/x2aikx0AEDGngOX5HoAQJCYtzMkhgBANtlkk02WAEBlhADxspoAQArylCBPqQBAjC666KKrAEDXtwFDNR0BQI1hFdCWMgFAjWEV0JYyAUBECyld+EcBQEQLKV34RwFA+rQ86lldAUD6tDzqWV0BQLBeUHe7cgFAsF5Qd7tyAUBnCGQEHYgBQGcIZAQdiAFAHbJ3kX6dAUCI1jP/wA4DQIjWM//ADgNAiNYz/8AOA0CI1jP/wA4DQA77EnW6IwNA5x/YseElA0CBa8bUQjkDQM/8Azs2PANAueQuEjZJA0CksiAXI1QDQKPBWpuKXwNAPfMP7NhwA0CfxZXRRnQDQGFUowDMjQNAnIpfFTKOA0C/nUez7KQDQEnYJMU8pwNA9iXqdEfAA0B7JZHKgtwDQDwCSnBA/ANAOZvKItVSBkA5m8oi1VIGQDmbyiLVUgZAE+v2jPlYBkB5kAmysmUGQBAfNJSqcAZA5dAi2/l+BkDl0CLb+X4GQOXQItv5fgZAr+ainQWABkB0bu1XFIkGQE+uEadgjwZArBrgpLaXBkDuo94Efa0GQKpOHaxnrwZAUk/Q3CXDBkBJFu7YstQGQBdhsf802AZA/yH99nXgBkCkT/qkT/oGQJH4BQ1vDgdAVCTMGZwOB0BcNd2Tyx4HQM06lD+jJQdAuWN9wi0nB0DmgNKGHT0HQGbdX/V5RgdAHNdrcnBXB0A9sv38P2MHQFFlETaacAdA8lrV40V1B0BiJ3ZiJ3YHQEVF/tUyewdAbWSILymEB0C7Vz6qn4wHQOeMTxQQogdAkyzcsWWpB0BobMLQ/a8HQA7bsA3bsAdAVFVVVVXFB0BUVVVVVcUHQFZVVVVVxQdAVlVVVVXFB0CYV+VKm8UHQJdsyZZsyQdArH3D2jfcB0AeauPfLt8HQD7e4z3e4wdAos5RpAXoB0AJxW71NeoHQPNnOX+W8wdADMWtUNz6B0Cu7/qu7/oHQK3GLS9lBAhA3WoTh5sECEDgdixnjQUIQAyYxoBpDAhAS6EUSqEUCEAjCAY1xhsIQA2YxoBpHAhAAjNnCdgpCEAsFLdCcSsIQM3MzMzMPAhAnuRJnuRJCEDNzMzMzEwIQFOCPCXIUwhAWIGW/RxbCEA8xmM8xmMIQFSCPCXIYwhACrqPQ4dnCECTJk2aNGkIQHbNFt+LbQhAcSsUt0JxCEDd133d130IQCEbM02ehQhAn+h7ou+JCEBVvQGfQosIQP1Zzp/ljAhAh3mYh3mYCEB5SpCnBJkIQL9h7RvWrghAXuu1Xuu1CECB0bjhs7YIQF9H6nWkvghA9a0cBmbOCEDrrM7qrM4IQJh+6Zd+6QhATGPANAbsCEAdRVqAXu4IQCORvUCT9AhAWqAFWqAFCUDJJptssgkJQCJwYxmUCglAprN3tmspCUDNzMzMzCwJQCzGdUv/QglALMZ1S/9CCUA5L7CJjXMQQLkg44KMixBAztE3R9+cEEDlUi7lUq4QQCfkal14whBAX2V+lfnVEECPpgpn9+gQQNI3R98c/RBAL1m7ZO0SEUCumOXIzxURQE4aOWnkJBFAry6+mz0rEUCvLr6bPSsRQLDElm6rQBFAsMSWbqtAEUBa3Wl1p1URQLFab0EZVhFAsVpvQRlWEUCx8EcUh2sRQKuqqqqqmRFA3t3d3d2sEUDv7u7u7tURQFVVVVVV6hFAzczMzMz9EUDv7u7u7hcSQBERERERLBJAE5pvMx6AE0ATmm8zHoATQBOabzMegBNAE5pvMx6AE0ATmm8zHoATQBOabzMegBNAE5pvMx6AE0ATmm8zHoATQIFrxtRCuRNAbMEWbMEWFEBgUt4DwxsUQChMLMgfMxRAmzzvsodtFEB5DeU1lNcaQHkN5TWU1xpAdRbTWUznGkA=",
          "dtype": "f8"
         },
         "yaxis": "y"
        }
       ],
       "layout": {
        "barmode": "relative",
        "height": 500,
        "legend": {
         "tracegroupgap": 0
        },
        "template": {
         "data": {
          "bar": [
           {
            "error_x": {
             "color": "#2a3f5f"
            },
            "error_y": {
             "color": "#2a3f5f"
            },
            "marker": {
             "line": {
              "color": "#E5ECF6",
              "width": 0.5
             },
             "pattern": {
              "fillmode": "overlay",
              "size": 10,
              "solidity": 0.2
             }
            },
            "type": "bar"
           }
          ],
          "barpolar": [
           {
            "marker": {
             "line": {
              "color": "#E5ECF6",
              "width": 0.5
             },
             "pattern": {
              "fillmode": "overlay",
              "size": 10,
              "solidity": 0.2
             }
            },
            "type": "barpolar"
           }
          ],
          "carpet": [
           {
            "aaxis": {
             "endlinecolor": "#2a3f5f",
             "gridcolor": "white",
             "linecolor": "white",
             "minorgridcolor": "white",
             "startlinecolor": "#2a3f5f"
            },
            "baxis": {
             "endlinecolor": "#2a3f5f",
             "gridcolor": "white",
             "linecolor": "white",
             "minorgridcolor": "white",
             "startlinecolor": "#2a3f5f"
            },
            "type": "carpet"
           }
          ],
          "choropleth": [
           {
            "colorbar": {
             "outlinewidth": 0,
             "ticks": ""
            },
            "type": "choropleth"
           }
          ],
          "contour": [
           {
            "colorbar": {
             "outlinewidth": 0,
             "ticks": ""
            },
            "colorscale": [
             [
              0,
              "#0d0887"
             ],
             [
              0.1111111111111111,
              "#46039f"
             ],
             [
              0.2222222222222222,
              "#7201a8"
             ],
             [
              0.3333333333333333,
              "#9c179e"
             ],
             [
              0.4444444444444444,
              "#bd3786"
             ],
             [
              0.5555555555555556,
              "#d8576b"
             ],
             [
              0.6666666666666666,
              "#ed7953"
             ],
             [
              0.7777777777777778,
              "#fb9f3a"
             ],
             [
              0.8888888888888888,
              "#fdca26"
             ],
             [
              1,
              "#f0f921"
             ]
            ],
            "type": "contour"
           }
          ],
          "contourcarpet": [
           {
            "colorbar": {
             "outlinewidth": 0,
             "ticks": ""
            },
            "type": "contourcarpet"
           }
          ],
          "heatmap": [
           {
            "colorbar": {
             "outlinewidth": 0,
             "ticks": ""
            },
            "colorscale": [
             [
              0,
              "#0d0887"
             ],
             [
              0.1111111111111111,
              "#46039f"
             ],
             [
              0.2222222222222222,
              "#7201a8"
             ],
             [
              0.3333333333333333,
              "#9c179e"
             ],
             [
              0.4444444444444444,
              "#bd3786"
             ],
             [
              0.5555555555555556,
              "#d8576b"
             ],
             [
              0.6666666666666666,
              "#ed7953"
             ],
             [
              0.7777777777777778,
              "#fb9f3a"
             ],
             [
              0.8888888888888888,
              "#fdca26"
             ],
             [
              1,
              "#f0f921"
             ]
            ],
            "type": "heatmap"
           }
          ],
          "histogram": [
           {
            "marker": {
             "pattern": {
              "fillmode": "overlay",
              "size": 10,
              "solidity": 0.2
             }
            },
            "type": "histogram"
           }
          ],
          "histogram2d": [
           {
            "colorbar": {
             "outlinewidth": 0,
             "ticks": ""
            },
            "colorscale": [
             [
              0,
              "#0d0887"
             ],
             [
              0.1111111111111111,
              "#46039f"
             ],
             [
              0.2222222222222222,
              "#7201a8"
             ],
             [
              0.3333333333333333,
              "#9c179e"
             ],
             [
              0.4444444444444444,
              "#bd3786"
             ],
             [
              0.5555555555555556,
              "#d8576b"
             ],
             [
              0.6666666666666666,
              "#ed7953"
             ],
             [
              0.7777777777777778,
              "#fb9f3a"
             ],
             [
              0.8888888888888888,
              "#fdca26"
             ],
             [
              1,
              "#f0f921"
             ]
            ],
            "type": "histogram2d"
           }
          ],
          "histogram2dcontour": [
           {
            "colorbar": {
             "outlinewidth": 0,
             "ticks": ""
            },
            "colorscale": [
             [
              0,
              "#0d0887"
             ],
             [
              0.1111111111111111,
              "#46039f"
             ],
             [
              0.2222222222222222,
              "#7201a8"
             ],
             [
              0.3333333333333333,
              "#9c179e"
             ],
             [
              0.4444444444444444,
              "#bd3786"
             ],
             [
              0.5555555555555556,
              "#d8576b"
             ],
             [
              0.6666666666666666,
              "#ed7953"
             ],
             [
              0.7777777777777778,
              "#fb9f3a"
             ],
             [
              0.8888888888888888,
              "#fdca26"
             ],
             [
              1,
              "#f0f921"
             ]
            ],
            "type": "histogram2dcontour"
           }
          ],
          "mesh3d": [
           {
            "colorbar": {
             "outlinewidth": 0,
             "ticks": ""
            },
            "type": "mesh3d"
           }
          ],
          "parcoords": [
           {
            "line": {
             "colorbar": {
              "outlinewidth": 0,
              "ticks": ""
             }
            },
            "type": "parcoords"
           }
          ],
          "pie": [
           {
            "automargin": true,
            "type": "pie"
           }
          ],
          "scatter": [
           {
            "fillpattern": {
             "fillmode": "overlay",
             "size": 10,
             "solidity": 0.2
            },
            "type": "scatter"
           }
          ],
          "scatter3d": [
           {
            "line": {
             "colorbar": {
              "outlinewidth": 0,
              "ticks": ""
             }
            },
            "marker": {
             "colorbar": {
              "outlinewidth": 0,
              "ticks": ""
             }
            },
            "type": "scatter3d"
           }
          ],
          "scattercarpet": [
           {
            "marker": {
             "colorbar": {
              "outlinewidth": 0,
              "ticks": ""
             }
            },
            "type": "scattercarpet"
           }
          ],
          "scattergeo": [
           {
            "marker": {
             "colorbar": {
              "outlinewidth": 0,
              "ticks": ""
             }
            },
            "type": "scattergeo"
           }
          ],
          "scattergl": [
           {
            "marker": {
             "colorbar": {
              "outlinewidth": 0,
              "ticks": ""
             }
            },
            "type": "scattergl"
           }
          ],
          "scattermap": [
           {
            "marker": {
             "colorbar": {
              "outlinewidth": 0,
              "ticks": ""
             }
            },
            "type": "scattermap"
           }
          ],
          "scattermapbox": [
           {
            "marker": {
             "colorbar": {
              "outlinewidth": 0,
              "ticks": ""
             }
            },
            "type": "scattermapbox"
           }
          ],
          "scatterpolar": [
           {
            "marker": {
             "colorbar": {
              "outlinewidth": 0,
              "ticks": ""
             }
            },
            "type": "scatterpolar"
           }
          ],
          "scatterpolargl": [
           {
            "marker": {
             "colorbar": {
              "outlinewidth": 0,
              "ticks": ""
             }
            },
            "type": "scatterpolargl"
           }
          ],
          "scatterternary": [
           {
            "marker": {
             "colorbar": {
              "outlinewidth": 0,
              "ticks": ""
             }
            },
            "type": "scatterternary"
           }
          ],
          "surface": [
           {
            "colorbar": {
             "outlinewidth": 0,
             "ticks": ""
            },
            "colorscale": [
             [
              0,
              "#0d0887"
             ],
             [
              0.1111111111111111,
              "#46039f"
             ],
             [
              0.2222222222222222,
              "#7201a8"
             ],
             [
              0.3333333333333333,
              "#9c179e"
             ],
             [
              0.4444444444444444,
              "#bd3786"
             ],
             [
              0.5555555555555556,
              "#d8576b"
             ],
             [
              0.6666666666666666,
              "#ed7953"
             ],
             [
              0.7777777777777778,
              "#fb9f3a"
             ],
             [
              0.8888888888888888,
              "#fdca26"
             ],
             [
              1,
              "#f0f921"
             ]
            ],
            "type": "surface"
           }
          ],
          "table": [
           {
            "cells": {
             "fill": {
              "color": "#EBF0F8"
             },
             "line": {
              "color": "white"
             }
            },
            "header": {
             "fill": {
              "color": "#C8D4E3"
             },
             "line": {
              "color": "white"
             }
            },
            "type": "table"
           }
          ]
         },
         "layout": {
          "annotationdefaults": {
           "arrowcolor": "#2a3f5f",
           "arrowhead": 0,
           "arrowwidth": 1
          },
          "autotypenumbers": "strict",
          "coloraxis": {
           "colorbar": {
            "outlinewidth": 0,
            "ticks": ""
           }
          },
          "colorscale": {
           "diverging": [
            [
             0,
             "#8e0152"
            ],
            [
             0.1,
             "#c51b7d"
            ],
            [
             0.2,
             "#de77ae"
            ],
            [
             0.3,
             "#f1b6da"
            ],
            [
             0.4,
             "#fde0ef"
            ],
            [
             0.5,
             "#f7f7f7"
            ],
            [
             0.6,
             "#e6f5d0"
            ],
            [
             0.7,
             "#b8e186"
            ],
            [
             0.8,
             "#7fbc41"
            ],
            [
             0.9,
             "#4d9221"
            ],
            [
             1,
             "#276419"
            ]
           ],
           "sequential": [
            [
             0,
             "#0d0887"
            ],
            [
             0.1111111111111111,
             "#46039f"
            ],
            [
             0.2222222222222222,
             "#7201a8"
            ],
            [
             0.3333333333333333,
             "#9c179e"
            ],
            [
             0.4444444444444444,
             "#bd3786"
            ],
            [
             0.5555555555555556,
             "#d8576b"
            ],
            [
             0.6666666666666666,
             "#ed7953"
            ],
            [
             0.7777777777777778,
             "#fb9f3a"
            ],
            [
             0.8888888888888888,
             "#fdca26"
            ],
            [
             1,
             "#f0f921"
            ]
           ],
           "sequentialminus": [
            [
             0,
             "#0d0887"
            ],
            [
             0.1111111111111111,
             "#46039f"
            ],
            [
             0.2222222222222222,
             "#7201a8"
            ],
            [
             0.3333333333333333,
             "#9c179e"
            ],
            [
             0.4444444444444444,
             "#bd3786"
            ],
            [
             0.5555555555555556,
             "#d8576b"
            ],
            [
             0.6666666666666666,
             "#ed7953"
            ],
            [
             0.7777777777777778,
             "#fb9f3a"
            ],
            [
             0.8888888888888888,
             "#fdca26"
            ],
            [
             1,
             "#f0f921"
            ]
           ]
          },
          "colorway": [
           "#636efa",
           "#EF553B",
           "#00cc96",
           "#ab63fa",
           "#FFA15A",
           "#19d3f3",
           "#FF6692",
           "#B6E880",
           "#FF97FF",
           "#FECB52"
          ],
          "font": {
           "color": "#2a3f5f"
          },
          "geo": {
           "bgcolor": "white",
           "lakecolor": "white",
           "landcolor": "#E5ECF6",
           "showlakes": true,
           "showland": true,
           "subunitcolor": "white"
          },
          "hoverlabel": {
           "align": "left"
          },
          "hovermode": "closest",
          "mapbox": {
           "style": "light"
          },
          "paper_bgcolor": "white",
          "plot_bgcolor": "#E5ECF6",
          "polar": {
           "angularaxis": {
            "gridcolor": "white",
            "linecolor": "white",
            "ticks": ""
           },
           "bgcolor": "#E5ECF6",
           "radialaxis": {
            "gridcolor": "white",
            "linecolor": "white",
            "ticks": ""
           }
          },
          "scene": {
           "xaxis": {
            "backgroundcolor": "#E5ECF6",
            "gridcolor": "white",
            "gridwidth": 2,
            "linecolor": "white",
            "showbackground": true,
            "ticks": "",
            "zerolinecolor": "white"
           },
           "yaxis": {
            "backgroundcolor": "#E5ECF6",
            "gridcolor": "white",
            "gridwidth": 2,
            "linecolor": "white",
            "showbackground": true,
            "ticks": "",
            "zerolinecolor": "white"
           },
           "zaxis": {
            "backgroundcolor": "#E5ECF6",
            "gridcolor": "white",
            "gridwidth": 2,
            "linecolor": "white",
            "showbackground": true,
            "ticks": "",
            "zerolinecolor": "white"
           }
          },
          "shapedefaults": {
           "line": {
            "color": "#2a3f5f"
           }
          },
          "ternary": {
           "aaxis": {
            "gridcolor": "white",
            "linecolor": "white",
            "ticks": ""
           },
           "baxis": {
            "gridcolor": "white",
            "linecolor": "white",
            "ticks": ""
           },
           "bgcolor": "#E5ECF6",
           "caxis": {
            "gridcolor": "white",
            "linecolor": "white",
            "ticks": ""
           }
          },
          "title": {
           "x": 0.05
          },
          "xaxis": {
           "automargin": true,
           "gridcolor": "white",
           "linecolor": "white",
           "ticks": "",
           "title": {
            "standoff": 15
           },
           "zerolinecolor": "white",
           "zerolinewidth": 2
          },
          "yaxis": {
           "automargin": true,
           "gridcolor": "white",
           "linecolor": "white",
           "ticks": "",
           "title": {
            "standoff": 15
           },
           "zerolinecolor": "white",
           "zerolinewidth": 2
          }
         }
        },
        "title": {
         "text": "Average Headway (in Minutes) per Stop"
        },
        "xaxis": {
         "anchor": "y",
         "domain": [
          0,
          1
         ],
         "tickangle": -45,
         "title": {
          "text": "Stop Name"
         }
        },
        "yaxis": {
         "anchor": "x",
         "domain": [
          0,
          1
         ],
         "title": {
          "text": "Average Headway (Minutes)"
         }
        }
       }
      }
     },
     "metadata": {},
     "output_type": "display_data"
    }
   ],
   "source": [
    "stop_times['arrival_datetime'] = pd.to_timedelta(stop_times['arrival_time'], errors='coerce')\n",
    "headways = stop_times.sort_values(by=['stop_id', 'arrival_datetime'])\n",
    "headways['prev_arrival'] = headways.groupby('stop_id')['arrival_datetime'].shift(1)\n",
    "headways['headway_minutes'] = (headways['arrival_datetime'] - headways['prev_arrival']).dt.total_seconds() / 60\n",
    "\n",
    "avg_headway = headways.groupby('stop_id')['headway_minutes'].mean().reset_index()\n",
    "avg_headway = avg_headway.merge(stops[['stop_id', 'stop_name']], on='stop_id')\n",
    "avg_headway = avg_headway.dropna().sort_values('headway_minutes')\n",
    "\n",
    "fig = px.bar(\n",
    "    avg_headway,\n",
    "    x='stop_name',\n",
    "    y='headway_minutes',\n",
    "    title='Average Headway (in Minutes) per Stop',\n",
    "    labels={'stop_name': 'Stop Name', 'headway_minutes': 'Average Headway (Minutes)'},\n",
    ")\n",
    "fig.update_layout(xaxis_tickangle=-45, height=500)\n",
    "fig.show()"
   ]
  },
  {
   "cell_type": "markdown",
   "id": "a6394b63",
   "metadata": {},
   "source": [
    "Most Congested Stops"
   ]
  },
  {
   "cell_type": "code",
   "execution_count": 45,
   "id": "58de5499",
   "metadata": {},
   "outputs": [
    {
     "data": {
      "application/vnd.plotly.v1+json": {
       "config": {
        "plotlyServerURL": "https://plot.ly"
       },
       "data": [
        {
         "hovertemplate": "Stop Name=%{x}<br>Number of Trips=%{y}<extra></extra>",
         "legendgroup": "",
         "marker": {
          "color": "#636efa",
          "pattern": {
           "shape": ""
          }
         },
         "name": "",
         "orientation": "v",
         "showlegend": false,
         "textposition": "auto",
         "type": "bar",
         "x": [
          "Kashmere Gate",
          "Rajiv Chowk",
          "Central Secretariat",
          "Mandi House",
          "Qutab Minar",
          "Dilli Haat - INA",
          "Sikanderpur",
          "Rajouri Garden",
          "Hauz Khas",
          "Janak Puri West"
         ],
         "xaxis": "x",
         "y": {
          "bdata": "fQbBBfcE7AS/BFIEUgRHBEcEPAQ=",
          "dtype": "i2"
         },
         "yaxis": "y"
        }
       ],
       "layout": {
        "barmode": "relative",
        "height": 500,
        "legend": {
         "tracegroupgap": 0
        },
        "template": {
         "data": {
          "bar": [
           {
            "error_x": {
             "color": "#2a3f5f"
            },
            "error_y": {
             "color": "#2a3f5f"
            },
            "marker": {
             "line": {
              "color": "#E5ECF6",
              "width": 0.5
             },
             "pattern": {
              "fillmode": "overlay",
              "size": 10,
              "solidity": 0.2
             }
            },
            "type": "bar"
           }
          ],
          "barpolar": [
           {
            "marker": {
             "line": {
              "color": "#E5ECF6",
              "width": 0.5
             },
             "pattern": {
              "fillmode": "overlay",
              "size": 10,
              "solidity": 0.2
             }
            },
            "type": "barpolar"
           }
          ],
          "carpet": [
           {
            "aaxis": {
             "endlinecolor": "#2a3f5f",
             "gridcolor": "white",
             "linecolor": "white",
             "minorgridcolor": "white",
             "startlinecolor": "#2a3f5f"
            },
            "baxis": {
             "endlinecolor": "#2a3f5f",
             "gridcolor": "white",
             "linecolor": "white",
             "minorgridcolor": "white",
             "startlinecolor": "#2a3f5f"
            },
            "type": "carpet"
           }
          ],
          "choropleth": [
           {
            "colorbar": {
             "outlinewidth": 0,
             "ticks": ""
            },
            "type": "choropleth"
           }
          ],
          "contour": [
           {
            "colorbar": {
             "outlinewidth": 0,
             "ticks": ""
            },
            "colorscale": [
             [
              0,
              "#0d0887"
             ],
             [
              0.1111111111111111,
              "#46039f"
             ],
             [
              0.2222222222222222,
              "#7201a8"
             ],
             [
              0.3333333333333333,
              "#9c179e"
             ],
             [
              0.4444444444444444,
              "#bd3786"
             ],
             [
              0.5555555555555556,
              "#d8576b"
             ],
             [
              0.6666666666666666,
              "#ed7953"
             ],
             [
              0.7777777777777778,
              "#fb9f3a"
             ],
             [
              0.8888888888888888,
              "#fdca26"
             ],
             [
              1,
              "#f0f921"
             ]
            ],
            "type": "contour"
           }
          ],
          "contourcarpet": [
           {
            "colorbar": {
             "outlinewidth": 0,
             "ticks": ""
            },
            "type": "contourcarpet"
           }
          ],
          "heatmap": [
           {
            "colorbar": {
             "outlinewidth": 0,
             "ticks": ""
            },
            "colorscale": [
             [
              0,
              "#0d0887"
             ],
             [
              0.1111111111111111,
              "#46039f"
             ],
             [
              0.2222222222222222,
              "#7201a8"
             ],
             [
              0.3333333333333333,
              "#9c179e"
             ],
             [
              0.4444444444444444,
              "#bd3786"
             ],
             [
              0.5555555555555556,
              "#d8576b"
             ],
             [
              0.6666666666666666,
              "#ed7953"
             ],
             [
              0.7777777777777778,
              "#fb9f3a"
             ],
             [
              0.8888888888888888,
              "#fdca26"
             ],
             [
              1,
              "#f0f921"
             ]
            ],
            "type": "heatmap"
           }
          ],
          "histogram": [
           {
            "marker": {
             "pattern": {
              "fillmode": "overlay",
              "size": 10,
              "solidity": 0.2
             }
            },
            "type": "histogram"
           }
          ],
          "histogram2d": [
           {
            "colorbar": {
             "outlinewidth": 0,
             "ticks": ""
            },
            "colorscale": [
             [
              0,
              "#0d0887"
             ],
             [
              0.1111111111111111,
              "#46039f"
             ],
             [
              0.2222222222222222,
              "#7201a8"
             ],
             [
              0.3333333333333333,
              "#9c179e"
             ],
             [
              0.4444444444444444,
              "#bd3786"
             ],
             [
              0.5555555555555556,
              "#d8576b"
             ],
             [
              0.6666666666666666,
              "#ed7953"
             ],
             [
              0.7777777777777778,
              "#fb9f3a"
             ],
             [
              0.8888888888888888,
              "#fdca26"
             ],
             [
              1,
              "#f0f921"
             ]
            ],
            "type": "histogram2d"
           }
          ],
          "histogram2dcontour": [
           {
            "colorbar": {
             "outlinewidth": 0,
             "ticks": ""
            },
            "colorscale": [
             [
              0,
              "#0d0887"
             ],
             [
              0.1111111111111111,
              "#46039f"
             ],
             [
              0.2222222222222222,
              "#7201a8"
             ],
             [
              0.3333333333333333,
              "#9c179e"
             ],
             [
              0.4444444444444444,
              "#bd3786"
             ],
             [
              0.5555555555555556,
              "#d8576b"
             ],
             [
              0.6666666666666666,
              "#ed7953"
             ],
             [
              0.7777777777777778,
              "#fb9f3a"
             ],
             [
              0.8888888888888888,
              "#fdca26"
             ],
             [
              1,
              "#f0f921"
             ]
            ],
            "type": "histogram2dcontour"
           }
          ],
          "mesh3d": [
           {
            "colorbar": {
             "outlinewidth": 0,
             "ticks": ""
            },
            "type": "mesh3d"
           }
          ],
          "parcoords": [
           {
            "line": {
             "colorbar": {
              "outlinewidth": 0,
              "ticks": ""
             }
            },
            "type": "parcoords"
           }
          ],
          "pie": [
           {
            "automargin": true,
            "type": "pie"
           }
          ],
          "scatter": [
           {
            "fillpattern": {
             "fillmode": "overlay",
             "size": 10,
             "solidity": 0.2
            },
            "type": "scatter"
           }
          ],
          "scatter3d": [
           {
            "line": {
             "colorbar": {
              "outlinewidth": 0,
              "ticks": ""
             }
            },
            "marker": {
             "colorbar": {
              "outlinewidth": 0,
              "ticks": ""
             }
            },
            "type": "scatter3d"
           }
          ],
          "scattercarpet": [
           {
            "marker": {
             "colorbar": {
              "outlinewidth": 0,
              "ticks": ""
             }
            },
            "type": "scattercarpet"
           }
          ],
          "scattergeo": [
           {
            "marker": {
             "colorbar": {
              "outlinewidth": 0,
              "ticks": ""
             }
            },
            "type": "scattergeo"
           }
          ],
          "scattergl": [
           {
            "marker": {
             "colorbar": {
              "outlinewidth": 0,
              "ticks": ""
             }
            },
            "type": "scattergl"
           }
          ],
          "scattermap": [
           {
            "marker": {
             "colorbar": {
              "outlinewidth": 0,
              "ticks": ""
             }
            },
            "type": "scattermap"
           }
          ],
          "scattermapbox": [
           {
            "marker": {
             "colorbar": {
              "outlinewidth": 0,
              "ticks": ""
             }
            },
            "type": "scattermapbox"
           }
          ],
          "scatterpolar": [
           {
            "marker": {
             "colorbar": {
              "outlinewidth": 0,
              "ticks": ""
             }
            },
            "type": "scatterpolar"
           }
          ],
          "scatterpolargl": [
           {
            "marker": {
             "colorbar": {
              "outlinewidth": 0,
              "ticks": ""
             }
            },
            "type": "scatterpolargl"
           }
          ],
          "scatterternary": [
           {
            "marker": {
             "colorbar": {
              "outlinewidth": 0,
              "ticks": ""
             }
            },
            "type": "scatterternary"
           }
          ],
          "surface": [
           {
            "colorbar": {
             "outlinewidth": 0,
             "ticks": ""
            },
            "colorscale": [
             [
              0,
              "#0d0887"
             ],
             [
              0.1111111111111111,
              "#46039f"
             ],
             [
              0.2222222222222222,
              "#7201a8"
             ],
             [
              0.3333333333333333,
              "#9c179e"
             ],
             [
              0.4444444444444444,
              "#bd3786"
             ],
             [
              0.5555555555555556,
              "#d8576b"
             ],
             [
              0.6666666666666666,
              "#ed7953"
             ],
             [
              0.7777777777777778,
              "#fb9f3a"
             ],
             [
              0.8888888888888888,
              "#fdca26"
             ],
             [
              1,
              "#f0f921"
             ]
            ],
            "type": "surface"
           }
          ],
          "table": [
           {
            "cells": {
             "fill": {
              "color": "#EBF0F8"
             },
             "line": {
              "color": "white"
             }
            },
            "header": {
             "fill": {
              "color": "#C8D4E3"
             },
             "line": {
              "color": "white"
             }
            },
            "type": "table"
           }
          ]
         },
         "layout": {
          "annotationdefaults": {
           "arrowcolor": "#2a3f5f",
           "arrowhead": 0,
           "arrowwidth": 1
          },
          "autotypenumbers": "strict",
          "coloraxis": {
           "colorbar": {
            "outlinewidth": 0,
            "ticks": ""
           }
          },
          "colorscale": {
           "diverging": [
            [
             0,
             "#8e0152"
            ],
            [
             0.1,
             "#c51b7d"
            ],
            [
             0.2,
             "#de77ae"
            ],
            [
             0.3,
             "#f1b6da"
            ],
            [
             0.4,
             "#fde0ef"
            ],
            [
             0.5,
             "#f7f7f7"
            ],
            [
             0.6,
             "#e6f5d0"
            ],
            [
             0.7,
             "#b8e186"
            ],
            [
             0.8,
             "#7fbc41"
            ],
            [
             0.9,
             "#4d9221"
            ],
            [
             1,
             "#276419"
            ]
           ],
           "sequential": [
            [
             0,
             "#0d0887"
            ],
            [
             0.1111111111111111,
             "#46039f"
            ],
            [
             0.2222222222222222,
             "#7201a8"
            ],
            [
             0.3333333333333333,
             "#9c179e"
            ],
            [
             0.4444444444444444,
             "#bd3786"
            ],
            [
             0.5555555555555556,
             "#d8576b"
            ],
            [
             0.6666666666666666,
             "#ed7953"
            ],
            [
             0.7777777777777778,
             "#fb9f3a"
            ],
            [
             0.8888888888888888,
             "#fdca26"
            ],
            [
             1,
             "#f0f921"
            ]
           ],
           "sequentialminus": [
            [
             0,
             "#0d0887"
            ],
            [
             0.1111111111111111,
             "#46039f"
            ],
            [
             0.2222222222222222,
             "#7201a8"
            ],
            [
             0.3333333333333333,
             "#9c179e"
            ],
            [
             0.4444444444444444,
             "#bd3786"
            ],
            [
             0.5555555555555556,
             "#d8576b"
            ],
            [
             0.6666666666666666,
             "#ed7953"
            ],
            [
             0.7777777777777778,
             "#fb9f3a"
            ],
            [
             0.8888888888888888,
             "#fdca26"
            ],
            [
             1,
             "#f0f921"
            ]
           ]
          },
          "colorway": [
           "#636efa",
           "#EF553B",
           "#00cc96",
           "#ab63fa",
           "#FFA15A",
           "#19d3f3",
           "#FF6692",
           "#B6E880",
           "#FF97FF",
           "#FECB52"
          ],
          "font": {
           "color": "#2a3f5f"
          },
          "geo": {
           "bgcolor": "white",
           "lakecolor": "white",
           "landcolor": "#E5ECF6",
           "showlakes": true,
           "showland": true,
           "subunitcolor": "white"
          },
          "hoverlabel": {
           "align": "left"
          },
          "hovermode": "closest",
          "mapbox": {
           "style": "light"
          },
          "paper_bgcolor": "white",
          "plot_bgcolor": "#E5ECF6",
          "polar": {
           "angularaxis": {
            "gridcolor": "white",
            "linecolor": "white",
            "ticks": ""
           },
           "bgcolor": "#E5ECF6",
           "radialaxis": {
            "gridcolor": "white",
            "linecolor": "white",
            "ticks": ""
           }
          },
          "scene": {
           "xaxis": {
            "backgroundcolor": "#E5ECF6",
            "gridcolor": "white",
            "gridwidth": 2,
            "linecolor": "white",
            "showbackground": true,
            "ticks": "",
            "zerolinecolor": "white"
           },
           "yaxis": {
            "backgroundcolor": "#E5ECF6",
            "gridcolor": "white",
            "gridwidth": 2,
            "linecolor": "white",
            "showbackground": true,
            "ticks": "",
            "zerolinecolor": "white"
           },
           "zaxis": {
            "backgroundcolor": "#E5ECF6",
            "gridcolor": "white",
            "gridwidth": 2,
            "linecolor": "white",
            "showbackground": true,
            "ticks": "",
            "zerolinecolor": "white"
           }
          },
          "shapedefaults": {
           "line": {
            "color": "#2a3f5f"
           }
          },
          "ternary": {
           "aaxis": {
            "gridcolor": "white",
            "linecolor": "white",
            "ticks": ""
           },
           "baxis": {
            "gridcolor": "white",
            "linecolor": "white",
            "ticks": ""
           },
           "bgcolor": "#E5ECF6",
           "caxis": {
            "gridcolor": "white",
            "linecolor": "white",
            "ticks": ""
           }
          },
          "title": {
           "x": 0.05
          },
          "xaxis": {
           "automargin": true,
           "gridcolor": "white",
           "linecolor": "white",
           "ticks": "",
           "title": {
            "standoff": 15
           },
           "zerolinecolor": "white",
           "zerolinewidth": 2
          },
          "yaxis": {
           "automargin": true,
           "gridcolor": "white",
           "linecolor": "white",
           "ticks": "",
           "title": {
            "standoff": 15
           },
           "zerolinecolor": "white",
           "zerolinewidth": 2
          }
         }
        },
        "title": {
         "text": "Top 10 Most Frequently Served Stops"
        },
        "xaxis": {
         "anchor": "y",
         "domain": [
          0,
          1
         ],
         "tickangle": -45,
         "title": {
          "text": "Stop Name"
         }
        },
        "yaxis": {
         "anchor": "x",
         "domain": [
          0,
          1
         ],
         "title": {
          "text": "Number of Trips"
         }
        }
       }
      }
     },
     "metadata": {},
     "output_type": "display_data"
    }
   ],
   "source": [
    "stop_freq = stop_times['stop_id'].value_counts().reset_index()\n",
    "stop_freq.columns = ['stop_id', 'count']\n",
    "stop_freq = stop_freq.merge(stops[['stop_id', 'stop_name']], on='stop_id')\n",
    "\n",
    "top_n = 10\n",
    "top_stops = stop_freq.head(top_n)\n",
    "\n",
    "fig = px.bar(\n",
    "    top_stops,\n",
    "    x='stop_name',\n",
    "    y='count',\n",
    "    title=f'Top {top_n} Most Frequently Served Stops',\n",
    "    labels={'stop_name': 'Stop Name', 'count': 'Number of Trips'},\n",
    ")\n",
    "fig.update_layout(xaxis_tickangle=-45, height=500)\n",
    "fig.show()"
   ]
  },
  {
   "cell_type": "markdown",
   "id": "c5873ca9",
   "metadata": {},
   "source": [
    "Stop Density Heatmap"
   ]
  },
  {
   "cell_type": "code",
   "execution_count": 52,
   "id": "7d4b6ac1",
   "metadata": {},
   "outputs": [
    {
     "data": {
      "text/html": [
       "<div style=\"width:100%;\"><div style=\"position:relative;width:100%;height:0;padding-bottom:60%;\"><span style=\"color:#565656\">Make this Notebook Trusted to load map: File -> Trust Notebook</span><iframe srcdoc=\"&lt;!DOCTYPE html&gt;\n",
       "&lt;html&gt;\n",
       "&lt;head&gt;\n",
       "    \n",
       "    &lt;meta http-equiv=&quot;content-type&quot; content=&quot;text/html; charset=UTF-8&quot; /&gt;\n",
       "    &lt;script src=&quot;https://cdn.jsdelivr.net/npm/leaflet@1.9.3/dist/leaflet.js&quot;&gt;&lt;/script&gt;\n",
       "    &lt;script src=&quot;https://code.jquery.com/jquery-3.7.1.min.js&quot;&gt;&lt;/script&gt;\n",
       "    &lt;script src=&quot;https://cdn.jsdelivr.net/npm/bootstrap@5.2.2/dist/js/bootstrap.bundle.min.js&quot;&gt;&lt;/script&gt;\n",
       "    &lt;script src=&quot;https://cdnjs.cloudflare.com/ajax/libs/Leaflet.awesome-markers/2.0.2/leaflet.awesome-markers.js&quot;&gt;&lt;/script&gt;\n",
       "    &lt;link rel=&quot;stylesheet&quot; href=&quot;https://cdn.jsdelivr.net/npm/leaflet@1.9.3/dist/leaflet.css&quot;/&gt;\n",
       "    &lt;link rel=&quot;stylesheet&quot; href=&quot;https://cdn.jsdelivr.net/npm/bootstrap@5.2.2/dist/css/bootstrap.min.css&quot;/&gt;\n",
       "    &lt;link rel=&quot;stylesheet&quot; href=&quot;https://netdna.bootstrapcdn.com/bootstrap/3.0.0/css/bootstrap-glyphicons.css&quot;/&gt;\n",
       "    &lt;link rel=&quot;stylesheet&quot; href=&quot;https://cdn.jsdelivr.net/npm/@fortawesome/fontawesome-free@6.2.0/css/all.min.css&quot;/&gt;\n",
       "    &lt;link rel=&quot;stylesheet&quot; href=&quot;https://cdnjs.cloudflare.com/ajax/libs/Leaflet.awesome-markers/2.0.2/leaflet.awesome-markers.css&quot;/&gt;\n",
       "    &lt;link rel=&quot;stylesheet&quot; href=&quot;https://cdn.jsdelivr.net/gh/python-visualization/folium/folium/templates/leaflet.awesome.rotate.min.css&quot;/&gt;\n",
       "    \n",
       "            &lt;meta name=&quot;viewport&quot; content=&quot;width=device-width,\n",
       "                initial-scale=1.0, maximum-scale=1.0, user-scalable=no&quot; /&gt;\n",
       "            &lt;style&gt;\n",
       "                #map_f1e7a63bf34cfc6b294997c8945586af {\n",
       "                    position: relative;\n",
       "                    width: 100.0%;\n",
       "                    height: 100.0%;\n",
       "                    left: 0.0%;\n",
       "                    top: 0.0%;\n",
       "                }\n",
       "                .leaflet-container { font-size: 1rem; }\n",
       "            &lt;/style&gt;\n",
       "\n",
       "            &lt;style&gt;html, body {\n",
       "                width: 100%;\n",
       "                height: 100%;\n",
       "                margin: 0;\n",
       "                padding: 0;\n",
       "            }\n",
       "            &lt;/style&gt;\n",
       "\n",
       "            &lt;style&gt;#map {\n",
       "                position:absolute;\n",
       "                top:0;\n",
       "                bottom:0;\n",
       "                right:0;\n",
       "                left:0;\n",
       "                }\n",
       "            &lt;/style&gt;\n",
       "\n",
       "            &lt;script&gt;\n",
       "                L_NO_TOUCH = false;\n",
       "                L_DISABLE_3D = false;\n",
       "            &lt;/script&gt;\n",
       "\n",
       "        \n",
       "    &lt;script src=&quot;https://cdn.jsdelivr.net/gh/python-visualization/folium@main/folium/templates/leaflet_heat.min.js&quot;&gt;&lt;/script&gt;\n",
       "&lt;/head&gt;\n",
       "&lt;body&gt;\n",
       "    \n",
       "    \n",
       "            &lt;div class=&quot;folium-map&quot; id=&quot;map_f1e7a63bf34cfc6b294997c8945586af&quot; &gt;&lt;/div&gt;\n",
       "        \n",
       "&lt;/body&gt;\n",
       "&lt;script&gt;\n",
       "    \n",
       "    \n",
       "            var map_f1e7a63bf34cfc6b294997c8945586af = L.map(\n",
       "                &quot;map_f1e7a63bf34cfc6b294997c8945586af&quot;,\n",
       "                {\n",
       "                    center: [28.59654679389313, 77.21688050763359],\n",
       "                    crs: L.CRS.EPSG3857,\n",
       "                    ...{\n",
       "  &quot;zoom&quot;: 11,\n",
       "  &quot;zoomControl&quot;: true,\n",
       "  &quot;preferCanvas&quot;: false,\n",
       "}\n",
       "\n",
       "                }\n",
       "            );\n",
       "\n",
       "            \n",
       "\n",
       "        \n",
       "    \n",
       "            var tile_layer_7a81181f351fdad62432d2a753f3969e = L.tileLayer(\n",
       "                &quot;https://tile.openstreetmap.org/{z}/{x}/{y}.png&quot;,\n",
       "                {\n",
       "  &quot;minZoom&quot;: 0,\n",
       "  &quot;maxZoom&quot;: 19,\n",
       "  &quot;maxNativeZoom&quot;: 19,\n",
       "  &quot;noWrap&quot;: false,\n",
       "  &quot;attribution&quot;: &quot;\\u0026copy; \\u003ca href=\\&quot;https://www.openstreetmap.org/copyright\\&quot;\\u003eOpenStreetMap\\u003c/a\\u003e contributors&quot;,\n",
       "  &quot;subdomains&quot;: &quot;abc&quot;,\n",
       "  &quot;detectRetina&quot;: false,\n",
       "  &quot;tms&quot;: false,\n",
       "  &quot;opacity&quot;: 1,\n",
       "}\n",
       "\n",
       "            );\n",
       "        \n",
       "    \n",
       "            tile_layer_7a81181f351fdad62432d2a753f3969e.addTo(map_f1e7a63bf34cfc6b294997c8945586af);\n",
       "        \n",
       "    \n",
       "            var heat_map_7f7dc2eb4e7a9497000621b4f2a09eac = L.heatLayer(\n",
       "                [[28.675991, 77.321495], [28.675648, 77.312393], [28.675352, 77.301178], [28.673531, 77.28727], [28.671986, 77.277931], [28.670324, 77.267311], [28.668451, 77.250404], [28.667879, 77.228012], [28.667137, 77.216721], [28.66571, 77.206329], [28.666632, 77.196869], [28.670135, 77.181679], [28.673452, 77.170235], [28.682386, 77.162552], [28.688944, 77.161774], [28.695637, 77.152428], [28.697943, 77.140465], [28.70318, 77.132355], [28.707941, 77.125732], [28.715008, 77.115746], [28.720821, 77.105042], [28.682411, 77.028282], [28.682217, 77.043869], [28.682091, 77.05619], [28.682356, 77.064728], [28.681833, 77.073891], [28.681047, 77.078674], [28.67972, 77.092491], [28.678539, 77.102119], [28.677305, 77.112251], [28.676418, 77.117294], [28.674965, 77.128258], [28.672943, 77.146011], [28.671572, 77.155159], [28.662188, 77.157829], [28.742872, 77.146545], [28.740192, 77.135574], [28.718657, 77.149956], [28.72818, 77.16124], [28.696377, 77.208809], [28.707287, 77.179863], [28.702833, 77.193764], [28.698195, 77.206985], [28.694765, 77.212418], [28.687845, 77.221626], [28.676945, 77.224953], [28.656443, 77.229218], [28.649635, 77.22628], [28.642944, 77.222351], [28.632896, 77.219574], [28.622967, 77.212288], [28.614973, 77.212029], [28.611525, 77.210052], [28.597519, 77.209122], [28.587234, 77.212662], [28.575195, 77.209473], [28.568199, 77.207947], [28.559853, 77.206902], [28.543346, 77.206673], [28.52817, 77.205612], [28.520638, 77.199379], [28.512714, 77.185791], [28.506584, 77.174866], [28.499214, 77.161362], [28.49383, 77.149071], [28.48082, 77.12587], [28.482075, 77.102219], [28.481352, 77.092995], [28.47967, 77.080444], [28.472137, 77.072502], [28.459118, 77.072586], [28.650059, 77.337608], [28.645428, 77.322273], [28.647005, 77.316185], [28.648653, 77.304581], [28.641352, 77.295158], [28.637049, 77.287872], [28.629843, 77.276428], [28.574593, 77.356117], [28.566917, 77.345726], [28.564198, 77.334656], [28.570843, 77.326088], [28.577921, 77.318115], [28.585018, 77.311584], [28.58847, 77.30146], [28.594124, 77.294495], [28.604425, 77.289421], [28.618364, 77.279816], [28.623178, 77.267937], [28.620272, 77.250076], [28.623438, 77.2425], [28.625816, 77.234726], [28.629662, 77.224876], [28.639217, 77.206291], [28.644312, 77.199791], [28.643925, 77.188416], [28.64241, 77.191833], [28.645037, 77.167046], [28.65143, 77.156021], [28.655773, 77.148499], [28.657803, 77.140488], [28.652809, 77.131462], [28.649157, 77.122749], [28.643795, 77.112747], [28.640381, 77.10273], [28.636568, 77.096336], [28.633121, 77.086578], [28.629637, 77.077866], [28.624643, 77.063126], [28.621672, 77.055664], [28.620222, 77.044991], [28.619366, 77.033188], [28.614899, 77.022629], [28.602232, 77.02594], [28.59705, 77.033043], [28.592234, 77.040558], [28.58642, 77.049255], [28.581108, 77.05719], [28.574284, 77.065086], [28.565706, 77.064896], [28.552322, 77.056198], [28.627205, 77.240952], [28.627817, 77.218956], [28.602682, 77.228096], [28.590475, 77.23307], [28.583231, 77.239662], [28.570705, 77.233124], [28.564629, 77.234222], [28.554617, 77.239738], [28.551134, 77.251511], [28.549532, 77.258789], [28.544413, 77.264259], [28.543194, 77.275955], [28.538084, 77.285538], [28.528622, 77.288345], [28.51959, 77.294518], [28.502232, 77.29866], [28.4932, 77.30085], [28.47794, 77.304932], [28.462435, 77.305252], [28.4485, 77.308098], [28.440586, 77.305992], [28.422707, 77.310234], [28.412172, 77.311272], [28.400707, 77.309105], [28.386362, 77.298782], [28.370199, 77.315002], [28.480833, 77.094246], [28.488371, 77.092865], [28.492065, 77.088142], [28.498478, 77.089088], [28.501572, 77.094536], [28.494329, 77.093552], [28.554869, 77.087921], [28.548792, 77.120743], [28.591776, 77.161545], [28.629007, 77.209213], [28.640488, 77.240303], [28.650393, 77.237556], [28.657576, 77.236595], [28.552816, 77.321564], [28.542835, 77.310173], [28.546005, 77.296715], [28.561255, 77.291916], [28.562944, 77.286209], [28.559887, 77.275116], [28.554575, 77.26487], [28.471981, 77.094009], [28.458475, 77.09684], [28.447533, 77.100487], [28.434212, 77.104782], [28.424587, 77.105042], [28.724157, 77.182068], [28.70182, 77.165184], [28.685781, 77.149651], [28.672747, 77.139183], [28.658159, 77.127319], [28.637098, 77.129738], [28.624121, 77.136482], [28.608641, 77.140373], [28.589376, 77.169518], [28.545856, 77.25116], [28.541836, 77.238243], [28.541229, 77.229385], [28.542339, 77.220512], [28.547194, 77.193832], [28.550486, 77.184952], [28.557821, 77.174026], [28.558378, 77.160774], [28.560787, 77.140442], [28.565275, 77.122391], [28.577108, 77.111305], [28.589067, 77.082954], [28.602333, 77.08255], [28.615904, 77.085258], [28.68396, 76.989822], [28.685289, 76.993584], [28.686899, 76.977249], [28.687876, 76.963783], [28.689213, 76.951088], [28.690784, 76.935265], [28.697428, 76.919128], [28.578529, 77.175713], [28.570208, 77.187866], [28.570208, 77.187866], [28.5686, 77.219818], [28.613506, 77.308678], [28.620052, 77.305588], [28.624861, 77.304146], [28.631599, 77.310898], [28.649473, 77.295341], [28.65782, 77.290306], [28.665043, 77.284599], [28.682943, 77.27507], [28.692057, 77.280922], [28.703009, 77.286301], [28.713297, 77.290154], [28.721863, 77.289635], [28.354666, 77.316261], [28.339899, 77.331657], [28.566179, 77.249367], [28.576065, 77.25753], [28.5889, 77.253189], [28.606598, 77.296326], [28.670177, 77.416031], [28.673508, 77.40654], [28.6772, 77.391876], [28.67856, 77.384209], [28.678217, 77.370911], [28.678095, 77.359528], [28.677122, 77.346466], [28.676615, 77.333809], [28.580229, 77.363518], [28.586849, 77.372749], [28.597677, 77.372368], [28.609089, 77.372955], [28.616991, 77.373611], [28.628685, 77.375229], [28.61722, 77.010345], [28.613316, 76.986259], [28.611858, 76.975426], [28.585548, 77.375374], [28.574547, 77.378357], [28.565445, 77.37973], [28.556065, 77.385056], [28.549259, 77.390099], [28.532248, 77.394951], [28.522284, 77.396477], [28.510817, 77.403625], [28.498999, 77.412567], [28.494246, 77.422318], [28.486376, 77.432968], [28.47913, 77.442307], [28.468822, 77.455101], [28.4594, 77.465965], [28.448021, 77.476692], [28.456865, 77.500298], [28.463331, 77.508308], [28.470879, 77.512718], [28.478374, 77.525581], [28.484531, 77.536621], [28.488651, 77.544075]],\n",
       "                {\n",
       "  &quot;minOpacity&quot;: 0.5,\n",
       "  &quot;maxZoom&quot;: 18,\n",
       "  &quot;radius&quot;: 25,\n",
       "  &quot;blur&quot;: 15,\n",
       "}\n",
       "            );\n",
       "        \n",
       "    \n",
       "            heat_map_7f7dc2eb4e7a9497000621b4f2a09eac.addTo(map_f1e7a63bf34cfc6b294997c8945586af);\n",
       "        \n",
       "&lt;/script&gt;\n",
       "&lt;/html&gt;\" style=\"position:absolute;width:100%;height:100%;left:0;top:0;border:none !important;\" allowfullscreen webkitallowfullscreen mozallowfullscreen></iframe></div></div>"
      ],
      "text/plain": [
       "<folium.folium.Map at 0x15d0ebded40>"
      ]
     },
     "execution_count": 52,
     "metadata": {},
     "output_type": "execute_result"
    }
   ],
   "source": [
    "# Center the map on the average coordinates of all stops\n",
    "map_center = [stops['stop_lat'].mean(), stops['stop_lon'].mean()]\n",
    "metro_map = folium.Map(location=map_center, zoom_start=11)\n",
    "\n",
    "# Prepare data for the heatmap:\n",
    "heat_data = [[row['stop_lat'], row['stop_lon']] for _, row in stops.iterrows()]\n",
    "\n",
    "# Add heatmap to the map\n",
    "HeatMap(heat_data).add_to(metro_map)\n",
    "\n",
    "metro_map\n"
   ]
  },
  {
   "cell_type": "markdown",
   "id": "77ac7032",
   "metadata": {},
   "source": [
    "Metro Route Map"
   ]
  },
  {
   "cell_type": "code",
   "execution_count": 47,
   "id": "033b5fa0",
   "metadata": {},
   "outputs": [
    {
     "data": {
      "text/html": [
       "<div style=\"width:100%;\"><div style=\"position:relative;width:100%;height:0;padding-bottom:60%;\"><span style=\"color:#565656\">Make this Notebook Trusted to load map: File -> Trust Notebook</span><iframe srcdoc=\"&lt;!DOCTYPE html&gt;\n",
       "&lt;html&gt;\n",
       "&lt;head&gt;\n",
       "    \n",
       "    &lt;meta http-equiv=&quot;content-type&quot; content=&quot;text/html; charset=UTF-8&quot; /&gt;\n",
       "    &lt;script src=&quot;https://cdn.jsdelivr.net/npm/leaflet@1.9.3/dist/leaflet.js&quot;&gt;&lt;/script&gt;\n",
       "    &lt;script src=&quot;https://code.jquery.com/jquery-3.7.1.min.js&quot;&gt;&lt;/script&gt;\n",
       "    &lt;script src=&quot;https://cdn.jsdelivr.net/npm/bootstrap@5.2.2/dist/js/bootstrap.bundle.min.js&quot;&gt;&lt;/script&gt;\n",
       "    &lt;script src=&quot;https://cdnjs.cloudflare.com/ajax/libs/Leaflet.awesome-markers/2.0.2/leaflet.awesome-markers.js&quot;&gt;&lt;/script&gt;\n",
       "    &lt;link rel=&quot;stylesheet&quot; href=&quot;https://cdn.jsdelivr.net/npm/leaflet@1.9.3/dist/leaflet.css&quot;/&gt;\n",
       "    &lt;link rel=&quot;stylesheet&quot; href=&quot;https://cdn.jsdelivr.net/npm/bootstrap@5.2.2/dist/css/bootstrap.min.css&quot;/&gt;\n",
       "    &lt;link rel=&quot;stylesheet&quot; href=&quot;https://netdna.bootstrapcdn.com/bootstrap/3.0.0/css/bootstrap-glyphicons.css&quot;/&gt;\n",
       "    &lt;link rel=&quot;stylesheet&quot; href=&quot;https://cdn.jsdelivr.net/npm/@fortawesome/fontawesome-free@6.2.0/css/all.min.css&quot;/&gt;\n",
       "    &lt;link rel=&quot;stylesheet&quot; href=&quot;https://cdnjs.cloudflare.com/ajax/libs/Leaflet.awesome-markers/2.0.2/leaflet.awesome-markers.css&quot;/&gt;\n",
       "    &lt;link rel=&quot;stylesheet&quot; href=&quot;https://cdn.jsdelivr.net/gh/python-visualization/folium/folium/templates/leaflet.awesome.rotate.min.css&quot;/&gt;\n",
       "    \n",
       "            &lt;meta name=&quot;viewport&quot; content=&quot;width=device-width,\n",
       "                initial-scale=1.0, maximum-scale=1.0, user-scalable=no&quot; /&gt;\n",
       "            &lt;style&gt;\n",
       "                #map_e72b66969ac0eee53d392bc950de994e {\n",
       "                    position: relative;\n",
       "                    width: 100.0%;\n",
       "                    height: 100.0%;\n",
       "                    left: 0.0%;\n",
       "                    top: 0.0%;\n",
       "                }\n",
       "                .leaflet-container { font-size: 1rem; }\n",
       "            &lt;/style&gt;\n",
       "\n",
       "            &lt;style&gt;html, body {\n",
       "                width: 100%;\n",
       "                height: 100%;\n",
       "                margin: 0;\n",
       "                padding: 0;\n",
       "            }\n",
       "            &lt;/style&gt;\n",
       "\n",
       "            &lt;style&gt;#map {\n",
       "                position:absolute;\n",
       "                top:0;\n",
       "                bottom:0;\n",
       "                right:0;\n",
       "                left:0;\n",
       "                }\n",
       "            &lt;/style&gt;\n",
       "\n",
       "            &lt;script&gt;\n",
       "                L_NO_TOUCH = false;\n",
       "                L_DISABLE_3D = false;\n",
       "            &lt;/script&gt;\n",
       "\n",
       "        \n",
       "    &lt;script src=&quot;https://cdn.jsdelivr.net/gh/python-visualization/folium@main/folium/templates/leaflet_heat.min.js&quot;&gt;&lt;/script&gt;\n",
       "&lt;/head&gt;\n",
       "&lt;body&gt;\n",
       "    \n",
       "    \n",
       "            &lt;div class=&quot;folium-map&quot; id=&quot;map_e72b66969ac0eee53d392bc950de994e&quot; &gt;&lt;/div&gt;\n",
       "        \n",
       "&lt;/body&gt;\n",
       "&lt;script&gt;\n",
       "    \n",
       "    \n",
       "            var map_e72b66969ac0eee53d392bc950de994e = L.map(\n",
       "                &quot;map_e72b66969ac0eee53d392bc950de994e&quot;,\n",
       "                {\n",
       "                    center: [28.59654679389313, 77.21688050763359],\n",
       "                    crs: L.CRS.EPSG3857,\n",
       "                    ...{\n",
       "  &quot;zoom&quot;: 11,\n",
       "  &quot;zoomControl&quot;: true,\n",
       "  &quot;preferCanvas&quot;: false,\n",
       "}\n",
       "\n",
       "                }\n",
       "            );\n",
       "\n",
       "            \n",
       "\n",
       "        \n",
       "    \n",
       "            var tile_layer_624cac7557baf716851177406d8b421d = L.tileLayer(\n",
       "                &quot;https://tile.openstreetmap.org/{z}/{x}/{y}.png&quot;,\n",
       "                {\n",
       "  &quot;minZoom&quot;: 0,\n",
       "  &quot;maxZoom&quot;: 19,\n",
       "  &quot;maxNativeZoom&quot;: 19,\n",
       "  &quot;noWrap&quot;: false,\n",
       "  &quot;attribution&quot;: &quot;\\u0026copy; \\u003ca href=\\&quot;https://www.openstreetmap.org/copyright\\&quot;\\u003eOpenStreetMap\\u003c/a\\u003e contributors&quot;,\n",
       "  &quot;subdomains&quot;: &quot;abc&quot;,\n",
       "  &quot;detectRetina&quot;: false,\n",
       "  &quot;tms&quot;: false,\n",
       "  &quot;opacity&quot;: 1,\n",
       "}\n",
       "\n",
       "            );\n",
       "        \n",
       "    \n",
       "            tile_layer_624cac7557baf716851177406d8b421d.addTo(map_e72b66969ac0eee53d392bc950de994e);\n",
       "        \n",
       "    \n",
       "            var heat_map_1692002c78ee65e821e2470240bf9412 = L.heatLayer(\n",
       "                [[28.675991, 77.321495], [28.675648, 77.312393], [28.675352, 77.301178], [28.673531, 77.28727], [28.671986, 77.277931], [28.670324, 77.267311], [28.668451, 77.250404], [28.667879, 77.228012], [28.667137, 77.216721], [28.66571, 77.206329], [28.666632, 77.196869], [28.670135, 77.181679], [28.673452, 77.170235], [28.682386, 77.162552], [28.688944, 77.161774], [28.695637, 77.152428], [28.697943, 77.140465], [28.70318, 77.132355], [28.707941, 77.125732], [28.715008, 77.115746], [28.720821, 77.105042], [28.682411, 77.028282], [28.682217, 77.043869], [28.682091, 77.05619], [28.682356, 77.064728], [28.681833, 77.073891], [28.681047, 77.078674], [28.67972, 77.092491], [28.678539, 77.102119], [28.677305, 77.112251], [28.676418, 77.117294], [28.674965, 77.128258], [28.672943, 77.146011], [28.671572, 77.155159], [28.662188, 77.157829], [28.742872, 77.146545], [28.740192, 77.135574], [28.718657, 77.149956], [28.72818, 77.16124], [28.696377, 77.208809], [28.707287, 77.179863], [28.702833, 77.193764], [28.698195, 77.206985], [28.694765, 77.212418], [28.687845, 77.221626], [28.676945, 77.224953], [28.656443, 77.229218], [28.649635, 77.22628], [28.642944, 77.222351], [28.632896, 77.219574], [28.622967, 77.212288], [28.614973, 77.212029], [28.611525, 77.210052], [28.597519, 77.209122], [28.587234, 77.212662], [28.575195, 77.209473], [28.568199, 77.207947], [28.559853, 77.206902], [28.543346, 77.206673], [28.52817, 77.205612], [28.520638, 77.199379], [28.512714, 77.185791], [28.506584, 77.174866], [28.499214, 77.161362], [28.49383, 77.149071], [28.48082, 77.12587], [28.482075, 77.102219], [28.481352, 77.092995], [28.47967, 77.080444], [28.472137, 77.072502], [28.459118, 77.072586], [28.650059, 77.337608], [28.645428, 77.322273], [28.647005, 77.316185], [28.648653, 77.304581], [28.641352, 77.295158], [28.637049, 77.287872], [28.629843, 77.276428], [28.574593, 77.356117], [28.566917, 77.345726], [28.564198, 77.334656], [28.570843, 77.326088], [28.577921, 77.318115], [28.585018, 77.311584], [28.58847, 77.30146], [28.594124, 77.294495], [28.604425, 77.289421], [28.618364, 77.279816], [28.623178, 77.267937], [28.620272, 77.250076], [28.623438, 77.2425], [28.625816, 77.234726], [28.629662, 77.224876], [28.639217, 77.206291], [28.644312, 77.199791], [28.643925, 77.188416], [28.64241, 77.191833], [28.645037, 77.167046], [28.65143, 77.156021], [28.655773, 77.148499], [28.657803, 77.140488], [28.652809, 77.131462], [28.649157, 77.122749], [28.643795, 77.112747], [28.640381, 77.10273], [28.636568, 77.096336], [28.633121, 77.086578], [28.629637, 77.077866], [28.624643, 77.063126], [28.621672, 77.055664], [28.620222, 77.044991], [28.619366, 77.033188], [28.614899, 77.022629], [28.602232, 77.02594], [28.59705, 77.033043], [28.592234, 77.040558], [28.58642, 77.049255], [28.581108, 77.05719], [28.574284, 77.065086], [28.565706, 77.064896], [28.552322, 77.056198], [28.627205, 77.240952], [28.627817, 77.218956], [28.602682, 77.228096], [28.590475, 77.23307], [28.583231, 77.239662], [28.570705, 77.233124], [28.564629, 77.234222], [28.554617, 77.239738], [28.551134, 77.251511], [28.549532, 77.258789], [28.544413, 77.264259], [28.543194, 77.275955], [28.538084, 77.285538], [28.528622, 77.288345], [28.51959, 77.294518], [28.502232, 77.29866], [28.4932, 77.30085], [28.47794, 77.304932], [28.462435, 77.305252], [28.4485, 77.308098], [28.440586, 77.305992], [28.422707, 77.310234], [28.412172, 77.311272], [28.400707, 77.309105], [28.386362, 77.298782], [28.370199, 77.315002], [28.480833, 77.094246], [28.488371, 77.092865], [28.492065, 77.088142], [28.498478, 77.089088], [28.501572, 77.094536], [28.494329, 77.093552], [28.554869, 77.087921], [28.548792, 77.120743], [28.591776, 77.161545], [28.629007, 77.209213], [28.640488, 77.240303], [28.650393, 77.237556], [28.657576, 77.236595], [28.552816, 77.321564], [28.542835, 77.310173], [28.546005, 77.296715], [28.561255, 77.291916], [28.562944, 77.286209], [28.559887, 77.275116], [28.554575, 77.26487], [28.471981, 77.094009], [28.458475, 77.09684], [28.447533, 77.100487], [28.434212, 77.104782], [28.424587, 77.105042], [28.724157, 77.182068], [28.70182, 77.165184], [28.685781, 77.149651], [28.672747, 77.139183], [28.658159, 77.127319], [28.637098, 77.129738], [28.624121, 77.136482], [28.608641, 77.140373], [28.589376, 77.169518], [28.545856, 77.25116], [28.541836, 77.238243], [28.541229, 77.229385], [28.542339, 77.220512], [28.547194, 77.193832], [28.550486, 77.184952], [28.557821, 77.174026], [28.558378, 77.160774], [28.560787, 77.140442], [28.565275, 77.122391], [28.577108, 77.111305], [28.589067, 77.082954], [28.602333, 77.08255], [28.615904, 77.085258], [28.68396, 76.989822], [28.685289, 76.993584], [28.686899, 76.977249], [28.687876, 76.963783], [28.689213, 76.951088], [28.690784, 76.935265], [28.697428, 76.919128], [28.578529, 77.175713], [28.570208, 77.187866], [28.570208, 77.187866], [28.5686, 77.219818], [28.613506, 77.308678], [28.620052, 77.305588], [28.624861, 77.304146], [28.631599, 77.310898], [28.649473, 77.295341], [28.65782, 77.290306], [28.665043, 77.284599], [28.682943, 77.27507], [28.692057, 77.280922], [28.703009, 77.286301], [28.713297, 77.290154], [28.721863, 77.289635], [28.354666, 77.316261], [28.339899, 77.331657], [28.566179, 77.249367], [28.576065, 77.25753], [28.5889, 77.253189], [28.606598, 77.296326], [28.670177, 77.416031], [28.673508, 77.40654], [28.6772, 77.391876], [28.67856, 77.384209], [28.678217, 77.370911], [28.678095, 77.359528], [28.677122, 77.346466], [28.676615, 77.333809], [28.580229, 77.363518], [28.586849, 77.372749], [28.597677, 77.372368], [28.609089, 77.372955], [28.616991, 77.373611], [28.628685, 77.375229], [28.61722, 77.010345], [28.613316, 76.986259], [28.611858, 76.975426], [28.585548, 77.375374], [28.574547, 77.378357], [28.565445, 77.37973], [28.556065, 77.385056], [28.549259, 77.390099], [28.532248, 77.394951], [28.522284, 77.396477], [28.510817, 77.403625], [28.498999, 77.412567], [28.494246, 77.422318], [28.486376, 77.432968], [28.47913, 77.442307], [28.468822, 77.455101], [28.4594, 77.465965], [28.448021, 77.476692], [28.456865, 77.500298], [28.463331, 77.508308], [28.470879, 77.512718], [28.478374, 77.525581], [28.484531, 77.536621], [28.488651, 77.544075]],\n",
       "                {\n",
       "  &quot;minOpacity&quot;: 0.5,\n",
       "  &quot;maxZoom&quot;: 18,\n",
       "  &quot;radius&quot;: 25,\n",
       "  &quot;blur&quot;: 15,\n",
       "}\n",
       "            );\n",
       "        \n",
       "    \n",
       "            heat_map_1692002c78ee65e821e2470240bf9412.addTo(map_e72b66969ac0eee53d392bc950de994e);\n",
       "        \n",
       "    \n",
       "            tile_layer_624cac7557baf716851177406d8b421d.addTo(map_e72b66969ac0eee53d392bc950de994e);\n",
       "        \n",
       "    \n",
       "            heat_map_1692002c78ee65e821e2470240bf9412.addTo(map_e72b66969ac0eee53d392bc950de994e);\n",
       "        \n",
       "    \n",
       "            var poly_line_94385a8aded1b4845c05aff10bfcbef2 = L.polyline(\n",
       "                [[28.615887, 77.022461], [28.616341, 77.022499], [28.617985, 77.022453], [28.618252, 77.022453], [28.618425, 77.022438], [28.61871, 77.022369], [28.618958, 77.022285], [28.619217, 77.022163], [28.619474, 77.022018], [28.619741, 77.021797], [28.620062, 77.021408], [28.620296, 77.020973], [28.620378, 77.02079], [28.620525, 77.020317], [28.620575, 77.019806], [28.620543, 77.019218], [28.620426, 77.0187], [28.62023, 77.018272], [28.619978, 77.017746], [28.619724, 77.017174], [28.619505, 77.016556], [28.618519, 77.013885], [28.617323, 77.010429], [28.617323, 77.010429], [28.616274, 77.007408], [28.615828, 77.006096], [28.615513, 77.005318], [28.614643, 77.003624], [28.614332, 77.003052], [28.614187, 77.002678], [28.613871, 77.00164], [28.613548, 77.000641], [28.613352, 76.999664], [28.613253, 76.998276], [28.61248, 76.986557], [28.61248, 76.986557], [28.611858, 76.975426]],\n",
       "                {&quot;bubblingMouseEvents&quot;: true, &quot;color&quot;: &quot;blue&quot;, &quot;dashArray&quot;: null, &quot;dashOffset&quot;: null, &quot;fill&quot;: false, &quot;fillColor&quot;: &quot;blue&quot;, &quot;fillOpacity&quot;: 0.2, &quot;fillRule&quot;: &quot;evenodd&quot;, &quot;lineCap&quot;: &quot;round&quot;, &quot;lineJoin&quot;: &quot;round&quot;, &quot;noClip&quot;: false, &quot;opacity&quot;: 0.7, &quot;smoothFactor&quot;: 1.0, &quot;stroke&quot;: true, &quot;weight&quot;: 2.5}\n",
       "            ).addTo(map_e72b66969ac0eee53d392bc950de994e);\n",
       "        \n",
       "    \n",
       "            var poly_line_4070fe20ccf6a49720b2b36e743514a8 = L.polyline(\n",
       "                [[28.611858, 76.975426], [28.61248, 76.986557], [28.61248, 76.986557], [28.613253, 76.998276], [28.613352, 76.999664], [28.613548, 77.000641], [28.613871, 77.00164], [28.614187, 77.002678], [28.614332, 77.003052], [28.614643, 77.003624], [28.615513, 77.005318], [28.615828, 77.006096], [28.616274, 77.007408], [28.617323, 77.010429], [28.617323, 77.010429], [28.618519, 77.013885], [28.619505, 77.016556], [28.619724, 77.017174], [28.619978, 77.017746], [28.62023, 77.018272], [28.620426, 77.0187], [28.620543, 77.019218], [28.620575, 77.019806], [28.620525, 77.020317], [28.620378, 77.02079], [28.620296, 77.020973], [28.620062, 77.021408], [28.619741, 77.021797], [28.619474, 77.022018], [28.619217, 77.022163], [28.618958, 77.022285], [28.61871, 77.022369], [28.618425, 77.022438], [28.618252, 77.022453], [28.617985, 77.022453], [28.616341, 77.022499], [28.615887, 77.022461]],\n",
       "                {&quot;bubblingMouseEvents&quot;: true, &quot;color&quot;: &quot;blue&quot;, &quot;dashArray&quot;: null, &quot;dashOffset&quot;: null, &quot;fill&quot;: false, &quot;fillColor&quot;: &quot;blue&quot;, &quot;fillOpacity&quot;: 0.2, &quot;fillRule&quot;: &quot;evenodd&quot;, &quot;lineCap&quot;: &quot;round&quot;, &quot;lineJoin&quot;: &quot;round&quot;, &quot;noClip&quot;: false, &quot;opacity&quot;: 0.7, &quot;smoothFactor&quot;: 1.0, &quot;stroke&quot;: true, &quot;weight&quot;: 2.5}\n",
       "            ).addTo(map_e72b66969ac0eee53d392bc950de994e);\n",
       "        \n",
       "    \n",
       "            var poly_line_52603d0f9d4fd11908f1d5cebb726145 = L.polyline(\n",
       "                [[28.697393, 76.919182], [28.696844, 76.920227], [28.694012, 76.925438], [28.692097, 76.928986], [28.69186, 76.929482], [28.691654, 76.930107], [28.69136, 76.931137], [28.691133, 76.932053], [28.690928, 76.933205], [28.690716, 76.935448], [28.690716, 76.935448], [28.690086, 76.94175], [28.689686, 76.946167], [28.689213, 76.951157], [28.689213, 76.951157], [28.689051, 76.952888], [28.688805, 76.956314], [28.688515, 76.959564], [28.688059, 76.963028], [28.687956, 76.964073], [28.687956, 76.964073], [28.687777, 76.965973], [28.68726, 76.972], [28.686789, 76.977203], [28.686789, 76.977203], [28.686571, 76.979927], [28.686005, 76.986237], [28.685717, 76.989571], [28.685572, 76.992699], [28.685499, 76.993599], [28.685499, 76.993599], [28.68396, 76.989822], [28.68396, 76.989822], [28.682547, 77.02829], [28.682547, 77.02829], [28.682421, 77.03006], [28.682426, 77.030571], [28.682381, 77.032608], [28.682301, 77.043938], [28.682301, 77.043938], [28.682209, 77.051994], [28.682196, 77.054016], [28.68219, 77.056236], [28.68219, 77.056236], [28.682203, 77.056999], [28.682232, 77.057693], [28.682314, 77.058182], [28.682379, 77.058693], [28.682415, 77.059128], [28.682392, 77.064728], [28.682392, 77.064728], [28.682335, 77.070862], [28.682299, 77.071381], [28.682049, 77.072624], [28.681953, 77.073311], [28.68187, 77.073997], [28.68187, 77.073997], [28.681339, 77.078705], [28.681339, 77.078705], [28.680132, 77.089417], [28.679792, 77.092667], [28.679792, 77.092667], [28.679724, 77.093864], [28.678644, 77.102219], [28.678644, 77.102219], [28.677387, 77.112289], [28.677387, 77.112289], [28.676727, 77.117332], [28.676727, 77.117332], [28.676464, 77.119354], [28.675707, 77.124763], [28.675325, 77.127693], [28.675259, 77.128288], [28.675259, 77.128288], [28.675018, 77.130463], [28.674421, 77.134918], [28.674395, 77.135254], [28.674412, 77.136955], [28.674391, 77.137703], [28.674181, 77.139671], [28.673893, 77.142052], [28.673811, 77.142548], [28.673374, 77.144051], [28.67321, 77.144524], [28.67313, 77.144951], [28.672985, 77.146126], [28.672985, 77.146126], [28.6726, 77.148773], [28.67226, 77.151215], [28.672117, 77.152184], [28.671616, 77.155296], [28.671616, 77.155296], [28.671467, 77.156258], [28.671356, 77.157036], [28.67131, 77.1577], [28.671339, 77.158203], [28.671629, 77.159828], [28.671751, 77.160606], [28.671761, 77.160889], [28.671757, 77.161308], [28.671688, 77.161743], [28.670734, 77.164101], [28.670588, 77.164711], [28.67058, 77.16494], [28.670589, 77.165215], [28.67063, 77.165703], [28.670732, 77.166122], [28.670946, 77.166565], [28.671749, 77.167961], [28.67358, 77.170204]],\n",
       "                {&quot;bubblingMouseEvents&quot;: true, &quot;color&quot;: &quot;blue&quot;, &quot;dashArray&quot;: null, &quot;dashOffset&quot;: null, &quot;fill&quot;: false, &quot;fillColor&quot;: &quot;blue&quot;, &quot;fillOpacity&quot;: 0.2, &quot;fillRule&quot;: &quot;evenodd&quot;, &quot;lineCap&quot;: &quot;round&quot;, &quot;lineJoin&quot;: &quot;round&quot;, &quot;noClip&quot;: false, &quot;opacity&quot;: 0.7, &quot;smoothFactor&quot;: 1.0, &quot;stroke&quot;: true, &quot;weight&quot;: 2.5}\n",
       "            ).addTo(map_e72b66969ac0eee53d392bc950de994e);\n",
       "        \n",
       "    \n",
       "            var poly_line_a09e40212d40b931dfc2c033df7e1294 = L.polyline(\n",
       "                [[28.697393, 76.919182], [28.696844, 76.920227], [28.694012, 76.925438], [28.692097, 76.928986], [28.69186, 76.929482], [28.691654, 76.930107], [28.69136, 76.931137], [28.691133, 76.932053], [28.690928, 76.933205], [28.690716, 76.935448], [28.690716, 76.935448], [28.690086, 76.94175], [28.689686, 76.946167], [28.689213, 76.951157], [28.689213, 76.951157], [28.689051, 76.952888], [28.688805, 76.956314], [28.688515, 76.959564], [28.688059, 76.963028], [28.687956, 76.964073], [28.687956, 76.964073], [28.687777, 76.965973], [28.68726, 76.972], [28.686789, 76.977203], [28.686789, 76.977203], [28.686571, 76.979927], [28.686005, 76.986237], [28.685717, 76.989571], [28.685572, 76.992699], [28.685499, 76.993599], [28.685499, 76.993599], [28.68396, 76.989822], [28.68396, 76.989822], [28.682547, 77.02829], [28.682547, 77.02829], [28.682421, 77.03006], [28.682426, 77.030571], [28.682381, 77.032608], [28.682301, 77.043938], [28.682301, 77.043938], [28.682209, 77.051994], [28.682196, 77.054016], [28.68219, 77.056236], [28.68219, 77.056236], [28.682203, 77.056999], [28.682232, 77.057693], [28.682314, 77.058182], [28.682379, 77.058693], [28.682415, 77.059128], [28.682392, 77.064728], [28.682392, 77.064728], [28.682335, 77.070862], [28.682299, 77.071381], [28.682049, 77.072624], [28.681953, 77.073311], [28.68187, 77.073997], [28.68187, 77.073997], [28.681339, 77.078705], [28.681339, 77.078705], [28.680132, 77.089417], [28.679792, 77.092667], [28.679792, 77.092667], [28.679724, 77.093864], [28.678644, 77.102219], [28.678644, 77.102219], [28.677387, 77.112289], [28.677387, 77.112289], [28.676727, 77.117332], [28.676727, 77.117332], [28.676464, 77.119354], [28.675707, 77.124763], [28.675325, 77.127693], [28.675259, 77.128288], [28.675259, 77.128288], [28.675018, 77.130463], [28.674421, 77.134918], [28.674395, 77.135254], [28.674412, 77.136955], [28.674391, 77.137703], [28.674181, 77.139671], [28.673893, 77.142052], [28.673811, 77.142548], [28.673374, 77.144051], [28.67321, 77.144524], [28.67313, 77.144951], [28.672985, 77.146126], [28.672985, 77.146126], [28.6726, 77.148773], [28.67226, 77.151215], [28.672117, 77.152184], [28.671616, 77.155296], [28.671616, 77.155296], [28.671467, 77.156258], [28.671391, 77.15657], [28.671215, 77.157639], [28.67112, 77.158119], [28.670954, 77.158882], [28.670712, 77.159584], [28.670435, 77.160294], [28.669729, 77.161888], [28.669275, 77.162956], [28.669092, 77.16333], [28.668823, 77.163681], [28.66855, 77.163963], [28.668213, 77.1642], [28.66799, 77.164307], [28.667608, 77.164421], [28.667316, 77.164459], [28.666842, 77.164482], [28.666374, 77.164383], [28.66592, 77.164146], [28.665527, 77.163795], [28.66518, 77.163361], [28.664938, 77.162918], [28.664307, 77.161598], [28.663956, 77.160995], [28.663025, 77.15934], [28.662035, 77.157715], [28.662035, 77.157715], [28.655773, 77.148499]],\n",
       "                {&quot;bubblingMouseEvents&quot;: true, &quot;color&quot;: &quot;blue&quot;, &quot;dashArray&quot;: null, &quot;dashOffset&quot;: null, &quot;fill&quot;: false, &quot;fillColor&quot;: &quot;blue&quot;, &quot;fillOpacity&quot;: 0.2, &quot;fillRule&quot;: &quot;evenodd&quot;, &quot;lineCap&quot;: &quot;round&quot;, &quot;lineJoin&quot;: &quot;round&quot;, &quot;noClip&quot;: false, &quot;opacity&quot;: 0.7, &quot;smoothFactor&quot;: 1.0, &quot;stroke&quot;: true, &quot;weight&quot;: 2.5}\n",
       "            ).addTo(map_e72b66969ac0eee53d392bc950de994e);\n",
       "        \n",
       "    \n",
       "            var poly_line_bd79bd11f8cbe4abfaaee77cd529a61e = L.polyline(\n",
       "                [[28.552322, 77.056198], [28.554869, 77.087921], [28.554869, 77.087921], [28.548798, 77.120811], [28.548798, 77.120811], [28.548737, 77.122108], [28.54891, 77.123428], [28.549776, 77.125618], [28.552006, 77.129189], [28.552691, 77.13018], [28.553484, 77.130905], [28.554585, 77.131485], [28.555759, 77.131935], [28.558853, 77.132942], [28.559397, 77.133095], [28.560162, 77.133202], [28.560925, 77.133209], [28.561577, 77.133148], [28.562078, 77.133064], [28.563389, 77.132713], [28.564045, 77.13253], [28.564697, 77.132393], [28.565376, 77.132286], [28.565994, 77.132263], [28.566608, 77.132301], [28.567276, 77.132431], [28.567884, 77.132576], [28.568487, 77.13279], [28.569002, 77.133034], [28.569508, 77.133331], [28.569874, 77.133583], [28.57024, 77.133873], [28.570784, 77.134384], [28.571236, 77.134857], [28.571629, 77.135414], [28.572409, 77.136612], [28.573057, 77.137566], [28.573666, 77.13868], [28.574034, 77.139481], [28.574402, 77.140327], [28.574768, 77.141075], [28.575207, 77.141739], [28.575628, 77.142288], [28.576099, 77.142761], [28.576504, 77.143105], [28.576857, 77.143379], [28.577188, 77.143585], [28.577904, 77.143951], [28.578667, 77.144226], [28.580721, 77.144928], [28.582943, 77.145584], [28.583633, 77.145866], [28.584211, 77.146179], [28.584763, 77.146553], [28.58526, 77.14695], [28.585741, 77.147408], [28.58614, 77.147881], [28.586727, 77.14872], [28.587231, 77.149681], [28.588085, 77.151665], [28.589739, 77.155724], [28.590046, 77.156555], [28.590302, 77.157379], [28.590803, 77.159088], [28.59189, 77.161705], [28.59189, 77.161705], [28.59247, 77.163155], [28.592728, 77.163643], [28.59297, 77.16404], [28.593254, 77.164452], [28.593513, 77.16478], [28.593807, 77.1651], [28.594496, 77.165695], [28.595152, 77.1661], [28.595518, 77.166313], [28.595917, 77.166466], [28.596498, 77.166641], [28.597118, 77.166748], [28.598423, 77.166916], [28.599224, 77.167137], [28.599625, 77.16729], [28.600035, 77.167465], [28.603022, 77.169266], [28.604239, 77.169991], [28.605604, 77.170723], [28.606241, 77.170982], [28.607693, 77.171478], [28.608099, 77.171677], [28.608824, 77.172066], [28.609478, 77.172523], [28.610645, 77.173492], [28.611425, 77.174095], [28.61277, 77.175789], [28.614252, 77.178238], [28.615776, 77.18161], [28.621347, 77.194427], [28.628147, 77.209602], [28.628147, 77.209602], [28.630419, 77.214653], [28.631058, 77.215477], [28.631542, 77.215866], [28.642464, 77.223076]],\n",
       "                {&quot;bubblingMouseEvents&quot;: true, &quot;color&quot;: &quot;blue&quot;, &quot;dashArray&quot;: null, &quot;dashOffset&quot;: null, &quot;fill&quot;: false, &quot;fillColor&quot;: &quot;blue&quot;, &quot;fillOpacity&quot;: 0.2, &quot;fillRule&quot;: &quot;evenodd&quot;, &quot;lineCap&quot;: &quot;round&quot;, &quot;lineJoin&quot;: &quot;round&quot;, &quot;noClip&quot;: false, &quot;opacity&quot;: 0.7, &quot;smoothFactor&quot;: 1.0, &quot;stroke&quot;: true, &quot;weight&quot;: 2.5}\n",
       "            ).addTo(map_e72b66969ac0eee53d392bc950de994e);\n",
       "        \n",
       "    \n",
       "            var poly_line_a828ec4537a9a5b1f4a566c5c5e94ccd = L.polyline(\n",
       "                [[28.4932, 77.30085], [28.502377, 77.299187], [28.502377, 77.299187], [28.504316, 77.300003], [28.505013, 77.300247], [28.50535, 77.300285], [28.505629, 77.300285], [28.505905, 77.300247], [28.506157, 77.300186], [28.506409, 77.300102], [28.508617, 77.299103], [28.514328, 77.296745], [28.515501, 77.296227], [28.51692, 77.295662], [28.518137, 77.295151], [28.518751, 77.294922], [28.519701, 77.29454], [28.519701, 77.29454], [28.520441, 77.294136], [28.520897, 77.293854], [28.522152, 77.293236], [28.524748, 77.291916], [28.52511, 77.291649], [28.525406, 77.291374], [28.525759, 77.291023], [28.526123, 77.290649], [28.527206, 77.289429], [28.527803, 77.288849], [28.528605, 77.288399], [28.528605, 77.288399], [28.538084, 77.285538], [28.538084, 77.285538], [28.543238, 77.275696], [28.543238, 77.275696], [28.542109, 77.27356], [28.541882, 77.273048], [28.540958, 77.270714], [28.540352, 77.269356], [28.540241, 77.268974], [28.54018, 77.268555], [28.540182, 77.268028], [28.540245, 77.267548], [28.540344, 77.267143], [28.540487, 77.266762], [28.540678, 77.266403], [28.540874, 77.266121], [28.541082, 77.265877], [28.541401, 77.265594], [28.541666, 77.265434], [28.542225, 77.265175], [28.544359, 77.264214], [28.544359, 77.264214], [28.5459, 77.263611], [28.546289, 77.263306], [28.546667, 77.262825], [28.547377, 77.261642], [28.54829, 77.260277], [28.549017, 77.259506], [28.549461, 77.259071], [28.549461, 77.259071], [28.550011, 77.258667], [28.550819, 77.258125], [28.551105, 77.257835], [28.551298, 77.257568], [28.551502, 77.257271], [28.551712, 77.256866], [28.551817, 77.256447], [28.551891, 77.256027], [28.551912, 77.255508], [28.551849, 77.254967], [28.551746, 77.254433], [28.551664, 77.254082], [28.551491, 77.253059], [28.551405, 77.252258], [28.551392, 77.25174], [28.551392, 77.25174], [28.554617, 77.239738], [28.554617, 77.239738], [28.564405, 77.23423], [28.564405, 77.23423], [28.570898, 77.233101], [28.570898, 77.233101], [28.583036, 77.239288], [28.583036, 77.239288], [28.583334, 77.239197], [28.584496, 77.238266], [28.584906, 77.237923], [28.587463, 77.234352], [28.588228, 77.233757], [28.590504, 77.233185], [28.590504, 77.233185], [28.590879, 77.233093], [28.595345, 77.231651], [28.601507, 77.230133], [28.60178, 77.229805], [28.602224, 77.229111], [28.602224, 77.229111], [28.605112, 77.224556], [28.614218, 77.212715], [28.614508, 77.212509], [28.614796, 77.212402], [28.615877, 77.212303], [28.615877, 77.212303], [28.627817, 77.218956], [28.627817, 77.218956], [28.625542, 77.234192], [28.625542, 77.234192], [28.625414, 77.236679], [28.625523, 77.23761], [28.625753, 77.238297], [28.626163, 77.239044], [28.626524, 77.239632], [28.627089, 77.240395], [28.627522, 77.240799], [28.62793, 77.240982], [28.628195, 77.241013], [28.628195, 77.241013], [28.636002, 77.241219], [28.637209, 77.241249], [28.637856, 77.241173], [28.638529, 77.240974], [28.639208, 77.240753], [28.640108, 77.240501], [28.640511, 77.240372], [28.640511, 77.240372], [28.640814, 77.24028], [28.643696, 77.239906], [28.64418, 77.239876], [28.647596, 77.239403], [28.648304, 77.239113], [28.649202, 77.238251], [28.650017, 77.23764], [28.650017, 77.23764], [28.651068, 77.236855], [28.651281, 77.236702], [28.651968, 77.236481], [28.652569, 77.236313], [28.653423, 77.236259], [28.655861, 77.236465], [28.656563, 77.23658], [28.657484, 77.236633], [28.657484, 77.236633], [28.658831, 77.23671], [28.65959, 77.236496], [28.660395, 77.23597], [28.660902, 77.235649], [28.66111, 77.235405], [28.663746, 77.231522], [28.663958, 77.231339], [28.666374, 77.229721], [28.668659, 77.228027]],\n",
       "                {&quot;bubblingMouseEvents&quot;: true, &quot;color&quot;: &quot;blue&quot;, &quot;dashArray&quot;: null, &quot;dashOffset&quot;: null, &quot;fill&quot;: false, &quot;fillColor&quot;: &quot;blue&quot;, &quot;fillOpacity&quot;: 0.2, &quot;fillRule&quot;: &quot;evenodd&quot;, &quot;lineCap&quot;: &quot;round&quot;, &quot;lineJoin&quot;: &quot;round&quot;, &quot;noClip&quot;: false, &quot;opacity&quot;: 0.7, &quot;smoothFactor&quot;: 1.0, &quot;stroke&quot;: true, &quot;weight&quot;: 2.5}\n",
       "            ).addTo(map_e72b66969ac0eee53d392bc950de994e);\n",
       "        \n",
       "    \n",
       "            var poly_line_411a6602152f11715559ee372b511c7b = L.polyline(\n",
       "                [[28.675854, 77.321518], [28.675865, 77.320732], [28.675917, 77.320175], [28.676041, 77.318619], [28.67606, 77.317772], [28.676043, 77.317245], [28.676004, 77.316811], [28.675919, 77.31604], [28.675865, 77.31543], [28.675751, 77.312393], [28.675751, 77.312393], [28.675709, 77.309868], [28.675735, 77.308464], [28.675505, 77.303551], [28.675421, 77.302597], [28.675417, 77.301178], [28.675417, 77.301178], [28.675421, 77.299751], [28.675398, 77.299484], [28.675358, 77.299202], [28.67528, 77.298904], [28.675152, 77.298523], [28.674551, 77.297333], [28.674368, 77.29689], [28.674126, 77.296021], [28.674007, 77.29467], [28.673641, 77.291176], [28.673363, 77.289017], [28.673166, 77.287308], [28.673166, 77.287308], [28.672983, 77.285637], [28.672743, 77.283714], [28.672256, 77.280685], [28.671782, 77.277847], [28.671782, 77.277847], [28.671593, 77.276772], [28.671021, 77.273605], [28.670324, 77.269661], [28.670059, 77.267975], [28.670015, 77.267807], [28.67005, 77.267784], [28.67, 77.267479], [28.670141, 77.267448], [28.670156, 77.267387], [28.670168, 77.267296], [28.670168, 77.267296], [28.670179, 77.267197], [28.670116, 77.267113], [28.670055, 77.26696], [28.670004, 77.266785], [28.669985, 77.266563], [28.669991, 77.266441], [28.670023, 77.266319], [28.669895, 77.266106], [28.669765, 77.266129], [28.669716, 77.265823], [28.669666, 77.265846], [28.669611, 77.265862], [28.66951, 77.26532], [28.669153, 77.263573], [28.668419, 77.260704], [28.667213, 77.256378], [28.66713, 77.255875], [28.667101, 77.255234], [28.667139, 77.254807], [28.667202, 77.254387], [28.66729, 77.253967], [28.667515, 77.253212], [28.667797, 77.252357], [28.668119, 77.251427], [28.668409, 77.250519], [28.668409, 77.250519], [28.66967, 77.246735], [28.670019, 77.245789], [28.67065, 77.244621], [28.671488, 77.24292], [28.671618, 77.242561], [28.671703, 77.242218], [28.671761, 77.241829], [28.671764, 77.241386], [28.671707, 77.240906], [28.671629, 77.24057], [28.671461, 77.240112], [28.670837, 77.238327], [28.669283, 77.234337], [28.668959, 77.233444], [28.668682, 77.232506], [28.66857, 77.232162], [28.668383, 77.23175], [28.667969, 77.230934], [28.667793, 77.230515], [28.66765, 77.23008], [28.667591, 77.229797], [28.667526, 77.229401], [28.667465, 77.228874], [28.667418, 77.228249], [28.667418, 77.228249], [28.667421, 77.227142], [28.66749, 77.226425], [28.667622, 77.225525], [28.66774, 77.224609], [28.667765, 77.224136], [28.667755, 77.223679], [28.667667, 77.223076], [28.66699, 77.2202], [28.666929, 77.219826], [28.666906, 77.219383], [28.666952, 77.218445], [28.667028, 77.217606], [28.667131, 77.216621], [28.667131, 77.216621], [28.667288, 77.21563], [28.66774, 77.213211], [28.667793, 77.212883], [28.667801, 77.212448], [28.667791, 77.212151], [28.667763, 77.211906], [28.667566, 77.21106], [28.667072, 77.209961], [28.666815, 77.209358], [28.666552, 77.208374], [28.666376, 77.20742], [28.666376, 77.20742], [28.666243, 77.206116], [28.666166, 77.205597], [28.665888, 77.204666], [28.665709, 77.203949], [28.665663, 77.203392], [28.665686, 77.20256], [28.666687, 77.198883], [28.666973, 77.197693], [28.667154, 77.197006], [28.667154, 77.197006], [28.667847, 77.194382], [28.669481, 77.1884], [28.669767, 77.186996], [28.669872, 77.185387], [28.670002, 77.18277], [28.670059, 77.181854], [28.670059, 77.181854], [28.670198, 77.180794], [28.671389, 77.17482], [28.671532, 77.174141], [28.671743, 77.173584], [28.672398, 77.172104], [28.672792, 77.171394], [28.673563, 77.170326], [28.673563, 77.170326], [28.682386, 77.162552], [28.682386, 77.162552], [28.688938, 77.161713], [28.688938, 77.161713], [28.690228, 77.16111], [28.691032, 77.160576], [28.692348, 77.159904], [28.694359, 77.158928], [28.695435, 77.158417], [28.695705, 77.158272], [28.695929, 77.158112], [28.696157, 77.157906], [28.696329, 77.157722], [28.696472, 77.157539], [28.696621, 77.15731], [28.696741, 77.157082], [28.696877, 77.156807], [28.696972, 77.156578], [28.697056, 77.156303], [28.697109, 77.156021], [28.697153, 77.155731], [28.697149, 77.15519], [28.697113, 77.1549], [28.697048, 77.154594], [28.69696, 77.154327], [28.696825, 77.153976], [28.696075, 77.152466], [28.696075, 77.152466], [28.69533, 77.151016], [28.695097, 77.150436], [28.695004, 77.15007], [28.694931, 77.149651], [28.694908, 77.149345], [28.694899, 77.148849], [28.694921, 77.148514], [28.694977, 77.148163], [28.695103, 77.147675], [28.695251, 77.147202], [28.695435, 77.14666], [28.695652, 77.146126], [28.695986, 77.145386], [28.697666, 77.141464], [28.698069, 77.140556], [28.698069, 77.140556], [28.698669, 77.139198], [28.698959, 77.138657], [28.699512, 77.137749], [28.702652, 77.133217], [28.703218, 77.132378], [28.703218, 77.132378], [28.703718, 77.131691], [28.705465, 77.129112], [28.707872, 77.125687], [28.707872, 77.125687], [28.714983, 77.115402], [28.714983, 77.115402], [28.720821, 77.105042]],\n",
       "                {&quot;bubblingMouseEvents&quot;: true, &quot;color&quot;: &quot;blue&quot;, &quot;dashArray&quot;: null, &quot;dashOffset&quot;: null, &quot;fill&quot;: false, &quot;fillColor&quot;: &quot;blue&quot;, &quot;fillOpacity&quot;: 0.2, &quot;fillRule&quot;: &quot;evenodd&quot;, &quot;lineCap&quot;: &quot;round&quot;, &quot;lineJoin&quot;: &quot;round&quot;, &quot;noClip&quot;: false, &quot;opacity&quot;: 0.7, &quot;smoothFactor&quot;: 1.0, &quot;stroke&quot;: true, &quot;weight&quot;: 2.5}\n",
       "            ).addTo(map_e72b66969ac0eee53d392bc950de994e);\n",
       "        \n",
       "    \n",
       "            var poly_line_b5f810dd55b679de40125cfa732aeff6 = L.polyline(\n",
       "                [[28.563845, 77.333755], [28.562721, 77.334663], [28.562006, 77.335121], [28.561682, 77.335213], [28.561338, 77.335236], [28.560881, 77.335213], [28.560408, 77.335075], [28.559931, 77.334801], [28.559549, 77.334412], [28.559175, 77.333748], [28.558102, 77.331116], [28.557388, 77.329399], [28.556374, 77.326904], [28.556101, 77.326332], [28.555344, 77.324921], [28.552959, 77.321579], [28.552959, 77.321579], [28.55221, 77.320572], [28.551212, 77.319618], [28.55085, 77.319305], [28.55006, 77.318504], [28.546545, 77.314293], [28.542931, 77.310097], [28.542931, 77.310097], [28.542028, 77.309113], [28.541422, 77.308479], [28.539158, 77.306526], [28.538689, 77.306023], [28.53841, 77.30558], [28.538189, 77.305031], [28.538097, 77.304626], [28.538055, 77.304207], [28.538063, 77.30378], [28.538149, 77.303261], [28.538328, 77.302734], [28.538782, 77.301811], [28.539221, 77.301155], [28.539955, 77.300537], [28.541964, 77.299057], [28.542566, 77.298599], [28.542883, 77.298393], [28.543545, 77.298027], [28.545839, 77.296684], [28.545839, 77.296684], [28.546871, 77.296143], [28.548079, 77.295395], [28.550154, 77.294197], [28.550919, 77.29377], [28.551807, 77.293381], [28.552713, 77.293167], [28.553499, 77.292946], [28.554176, 77.292648], [28.555603, 77.291985], [28.556229, 77.291656], [28.556835, 77.291458], [28.557453, 77.291374], [28.558016, 77.291389], [28.558472, 77.291512], [28.559032, 77.291695], [28.559462, 77.291809], [28.559864, 77.291901], [28.5613, 77.291954], [28.5613, 77.291954], [28.561987, 77.291977], [28.562908, 77.291977], [28.563513, 77.291832], [28.564075, 77.291504], [28.564552, 77.290985], [28.564808, 77.290443], [28.564934, 77.290077], [28.565029, 77.289627], [28.565025, 77.289154], [28.564936, 77.288696], [28.564772, 77.288254], [28.564529, 77.287888], [28.564035, 77.287224], [28.563633, 77.286789], [28.563066, 77.286316], [28.563066, 77.286316], [28.562162, 77.285507], [28.561863, 77.285126], [28.561562, 77.284508], [28.561266, 77.283752], [28.56111, 77.283157], [28.56106, 77.282623], [28.561085, 77.281509], [28.561073, 77.278458], [28.560986, 77.277672], [28.560766, 77.276901], [28.560547, 77.276421], [28.559763, 77.274895], [28.559763, 77.274895], [28.559437, 77.274239], [28.559147, 77.273621], [28.558739, 77.272667], [28.558222, 77.271675], [28.557341, 77.26992], [28.557058, 77.269371], [28.556721, 77.26886], [28.556337, 77.267906], [28.555147, 77.265648], [28.554491, 77.264816], [28.554491, 77.264816], [28.549461, 77.259071], [28.549461, 77.259071], [28.546038, 77.251518], [28.546038, 77.251518], [28.545164, 77.249352], [28.541872, 77.238464], [28.541872, 77.238464], [28.540932, 77.236176], [28.540731, 77.234322], [28.541092, 77.230293], [28.541092, 77.230293], [28.541275, 77.228928], [28.541925, 77.226593], [28.542274, 77.222542], [28.542353, 77.221092], [28.542353, 77.221092], [28.543142, 77.206665], [28.543142, 77.206665], [28.543165, 77.206215], [28.54335, 77.205017], [28.543476, 77.203918], [28.544086, 77.201736], [28.545828, 77.19796], [28.546583, 77.195854], [28.547003, 77.194511], [28.547003, 77.194511], [28.547394, 77.193108], [28.549139, 77.188454], [28.550364, 77.185509], [28.550602, 77.185005], [28.550602, 77.185005], [28.55109, 77.18399], [28.556877, 77.175049], [28.557533, 77.174324], [28.557842, 77.174049], [28.557842, 77.174049], [28.55817, 77.173767], [28.558628, 77.173027], [28.558985, 77.171982], [28.558968, 77.170303], [28.557821, 77.165863], [28.557669, 77.162598], [28.557808, 77.161087], [28.557808, 77.161087], [28.557926, 77.159645], [28.558777, 77.150291], [28.559759, 77.14534], [28.560455, 77.142853], [28.560631, 77.141884], [28.560736, 77.14093], [28.560827, 77.140251], [28.560827, 77.140251], [28.561779, 77.135643], [28.56197, 77.134476], [28.561972, 77.133362], [28.561872, 77.132492], [28.56168, 77.131714], [28.560863, 77.128807], [28.560537, 77.126183], [28.560757, 77.124603], [28.561502, 77.123756], [28.562111, 77.123276], [28.562706, 77.123077], [28.564859, 77.12262], [28.564859, 77.12262], [28.567593, 77.122063], [28.568892, 77.121872], [28.569685, 77.121994], [28.57115, 77.121941], [28.573101, 77.121552], [28.573875, 77.121307], [28.5744, 77.120857], [28.574804, 77.120026], [28.575222, 77.118416], [28.575359, 77.11776], [28.576063, 77.114258], [28.576328, 77.11348], [28.576811, 77.112137], [28.57715, 77.111153], [28.57715, 77.111153], [28.577341, 77.110352], [28.577509, 77.109482], [28.577755, 77.108566], [28.578543, 77.106117], [28.578735, 77.105377], [28.578806, 77.104904], [28.578915, 77.104309], [28.578983, 77.10405], [28.579592, 77.102547], [28.579931, 77.101433], [28.581205, 77.096939], [28.582808, 77.093422], [28.587355, 77.084419], [28.588148, 77.08358], [28.588909, 77.083046], [28.588909, 77.083046], [28.58989, 77.082344], [28.590891, 77.081696], [28.591938, 77.08149], [28.595867, 77.081093], [28.601875, 77.082359], [28.601875, 77.082359], [28.602818, 77.082581], [28.613577, 77.084206], [28.615755, 77.085175], [28.615755, 77.085175], [28.616533, 77.085442], [28.61738, 77.08564], [28.618795, 77.085159], [28.620255, 77.084221], [28.622038, 77.083031], [28.625586, 77.079582], [28.628178, 77.078354], [28.628637, 77.07811], [28.62895, 77.077927]],\n",
       "                {&quot;bubblingMouseEvents&quot;: true, &quot;color&quot;: &quot;blue&quot;, &quot;dashArray&quot;: null, &quot;dashOffset&quot;: null, &quot;fill&quot;: false, &quot;fillColor&quot;: &quot;blue&quot;, &quot;fillOpacity&quot;: 0.2, &quot;fillRule&quot;: &quot;evenodd&quot;, &quot;lineCap&quot;: &quot;round&quot;, &quot;lineJoin&quot;: &quot;round&quot;, &quot;noClip&quot;: false, &quot;opacity&quot;: 0.7, &quot;smoothFactor&quot;: 1.0, &quot;stroke&quot;: true, &quot;weight&quot;: 2.5}\n",
       "            ).addTo(map_e72b66969ac0eee53d392bc950de994e);\n",
       "        \n",
       "    \n",
       "            var poly_line_ee02638a46a3539b9fe924c13e37ca33 = L.polyline(\n",
       "                [[28.459364, 77.072639], [28.460171, 77.073341], [28.46032, 77.073456], [28.460487, 77.07357], [28.460644, 77.073647], [28.460823, 77.073723], [28.461012, 77.073792], [28.461264, 77.073845], [28.461544, 77.073883], [28.461836, 77.073883], [28.462107, 77.073853], [28.472324, 77.072388], [28.472324, 77.072388], [28.475864, 77.071861], [28.47654, 77.071938], [28.477003, 77.072083], [28.477468, 77.072319], [28.477886, 77.072708], [28.478178, 77.073074], [28.478363, 77.073418], [28.47847, 77.073677], [28.478559, 77.073959], [28.478628, 77.074249], [28.479588, 77.07988], [28.479588, 77.07988], [28.480606, 77.086815], [28.480696, 77.087761], [28.480639, 77.08831], [28.480589, 77.088966], [28.480652, 77.089439], [28.480852, 77.09079], [28.481024, 77.091583], [28.481298, 77.09301], [28.481298, 77.09301], [28.481642, 77.094406], [28.481813, 77.095192], [28.481941, 77.095993], [28.482042, 77.096848], [28.482101, 77.09742], [28.482094, 77.097961], [28.482046, 77.098564], [28.481905, 77.099846], [28.481869, 77.100471], [28.481932, 77.101212], [28.482046, 77.102219], [28.482046, 77.102219], [28.482172, 77.103271], [28.482172, 77.104355], [28.482231, 77.105156], [28.482317, 77.105713], [28.482553, 77.106766], [28.482647, 77.1073], [28.482662, 77.107628], [28.482656, 77.107941], [28.482624, 77.108223], [28.482569, 77.108528], [28.482422, 77.108994], [28.482327, 77.10923], [28.482046, 77.109772], [28.481819, 77.110237], [28.481691, 77.110603], [28.481602, 77.110992], [28.48156, 77.111244], [28.481546, 77.111771], [28.481581, 77.112373], [28.481611, 77.113129], [28.481619, 77.113594], [28.481539, 77.114204], [28.481396, 77.114876], [28.481188, 77.115982], [28.48097, 77.117035], [28.480803, 77.117752], [28.480602, 77.118225], [28.480017, 77.119141], [28.479185, 77.120384], [28.478931, 77.120987], [28.478804, 77.121635], [28.478783, 77.122223], [28.47884, 77.12265], [28.478941, 77.123032], [28.479307, 77.123779], [28.47978, 77.12439], [28.480757, 77.125748], [28.480757, 77.125748], [28.481091, 77.126221], [28.482063, 77.127502], [28.48402, 77.13031], [28.485138, 77.131416], [28.486706, 77.133369], [28.487669, 77.135223], [28.489418, 77.138992], [28.490578, 77.141327], [28.491026, 77.142143], [28.492096, 77.145203], [28.492638, 77.146545], [28.493776, 77.14917], [28.493776, 77.14917], [28.494364, 77.150436], [28.497009, 77.156364], [28.498455, 77.159637], [28.498764, 77.160355], [28.499146, 77.161369], [28.499146, 77.161369], [28.499508, 77.162331], [28.49971, 77.162811], [28.501726, 77.167114], [28.503729, 77.171768], [28.50411, 77.17247], [28.504187, 77.172623], [28.504271, 77.172768], [28.504885, 77.173447], [28.506592, 77.174858], [28.506592, 77.174858], [28.506741, 77.17498], [28.507732, 77.175644], [28.508215, 77.176094], [28.508369, 77.176262], [28.508505, 77.17643], [28.508575, 77.176537], [28.508678, 77.17672], [28.508863, 77.177124], [28.508928, 77.177292], [28.508978, 77.177452], [28.509027, 77.177673], [28.509167, 77.17894], [28.50927, 77.179497], [28.509375, 77.179871], [28.509539, 77.180237], [28.511543, 77.184303], [28.512594, 77.185875]],\n",
       "                {&quot;bubblingMouseEvents&quot;: true, &quot;color&quot;: &quot;blue&quot;, &quot;dashArray&quot;: null, &quot;dashOffset&quot;: null, &quot;fill&quot;: false, &quot;fillColor&quot;: &quot;blue&quot;, &quot;fillOpacity&quot;: 0.2, &quot;fillRule&quot;: &quot;evenodd&quot;, &quot;lineCap&quot;: &quot;round&quot;, &quot;lineJoin&quot;: &quot;round&quot;, &quot;noClip&quot;: false, &quot;opacity&quot;: 0.7, &quot;smoothFactor&quot;: 1.0, &quot;stroke&quot;: true, &quot;weight&quot;: 2.5}\n",
       "            ).addTo(map_e72b66969ac0eee53d392bc950de994e);\n",
       "        \n",
       "    \n",
       "            var poly_line_8f48f0859686c897719a66cbda0c039d = L.polyline(\n",
       "                [[28.489029, 77.543983], [28.484701, 77.536484], [28.484701, 77.536484], [28.478491, 77.525696], [28.478491, 77.525696], [28.47105, 77.512711], [28.47105, 77.512711], [28.469505, 77.510048], [28.469355, 77.509842], [28.469191, 77.509674], [28.469093, 77.50959], [28.468874, 77.50943], [28.468748, 77.509369], [28.468523, 77.509285], [28.468321, 77.509247], [28.468142, 77.509239], [28.467867, 77.509262], [28.467634, 77.509315], [28.467379, 77.509445], [28.467184, 77.509575], [28.466707, 77.509987], [28.466511, 77.510139], [28.466244, 77.510277], [28.466026, 77.510345], [28.465826, 77.510368], [28.465595, 77.510361], [28.465391, 77.51033], [28.465244, 77.510292], [28.465067, 77.510208], [28.464897, 77.510109], [28.464689, 77.509949], [28.464491, 77.509727], [28.463413, 77.508339], [28.463413, 77.508339], [28.460886, 77.505219], [28.458565, 77.50222], [28.457052, 77.500305], [28.457052, 77.500305], [28.456478, 77.499542], [28.455198, 77.497665], [28.453423, 77.495415], [28.452583, 77.494125], [28.452223, 77.493629], [28.451468, 77.492653], [28.450794, 77.491928], [28.449942, 77.491096], [28.449495, 77.490646], [28.447495, 77.488235], [28.446638, 77.487083], [28.445652, 77.485703], [28.445431, 77.485336], [28.445232, 77.484947], [28.445034, 77.484482], [28.444864, 77.483971], [28.44475, 77.483467], [28.444672, 77.482887], [28.444635, 77.482346], [28.444649, 77.481827], [28.444685, 77.481453], [28.444761, 77.480995], [28.444851, 77.480606], [28.44496, 77.480263], [28.44507, 77.47995], [28.44523, 77.479546], [28.445494, 77.479057], [28.445946, 77.478401], [28.446495, 77.477829], [28.446924, 77.477463], [28.44808, 77.476624], [28.44808, 77.476624], [28.450949, 77.474472], [28.452103, 77.473518], [28.453642, 77.472168], [28.455, 77.470909], [28.456255, 77.469589], [28.456886, 77.468872], [28.458054, 77.467461], [28.459314, 77.466171], [28.459314, 77.466171], [28.461901, 77.463348], [28.463501, 77.461464], [28.465511, 77.459602], [28.466709, 77.458313], [28.46751, 77.457245], [28.468544, 77.455536], [28.468782, 77.455215], [28.468782, 77.455215], [28.46937, 77.454269], [28.472507, 77.449455], [28.472908, 77.448883], [28.473392, 77.44828], [28.475111, 77.446663], [28.475901, 77.445869], [28.476748, 77.444954], [28.479021, 77.442421], [28.479021, 77.442421], [28.480556, 77.44072], [28.481234, 77.439926], [28.481709, 77.439293], [28.483387, 77.436974], [28.484623, 77.435219], [28.486313, 77.43309], [28.486313, 77.43309], [28.487667, 77.431259], [28.488211, 77.430336], [28.490328, 77.427315], [28.494282, 77.422394], [28.494282, 77.422394], [28.494841, 77.421616], [28.49544, 77.420685], [28.495819, 77.419991], [28.49732, 77.416733], [28.497831, 77.415604], [28.498968, 77.412857]],\n",
       "                {&quot;bubblingMouseEvents&quot;: true, &quot;color&quot;: &quot;blue&quot;, &quot;dashArray&quot;: null, &quot;dashOffset&quot;: null, &quot;fill&quot;: false, &quot;fillColor&quot;: &quot;blue&quot;, &quot;fillOpacity&quot;: 0.2, &quot;fillRule&quot;: &quot;evenodd&quot;, &quot;lineCap&quot;: &quot;round&quot;, &quot;lineJoin&quot;: &quot;round&quot;, &quot;noClip&quot;: false, &quot;opacity&quot;: 0.7, &quot;smoothFactor&quot;: 1.0, &quot;stroke&quot;: true, &quot;weight&quot;: 2.5}\n",
       "            ).addTo(map_e72b66969ac0eee53d392bc950de994e);\n",
       "        \n",
       "    \n",
       "            var poly_line_91bd41234cdf07a60023449da99c8e98 = L.polyline(\n",
       "                [[28.673536, 77.17025], [28.671703, 77.168007], [28.670897, 77.166595], [28.670677, 77.166145], [28.67057, 77.165718], [28.67053, 77.165215], [28.670519, 77.16494], [28.670528, 77.164703], [28.670677, 77.164078], [28.671631, 77.16172], [28.671698, 77.161308], [28.671701, 77.160889], [28.671684, 77.160431], [28.671591, 77.159866], [28.671354, 77.158539], [28.671276, 77.157883], [28.671282, 77.157471], [28.671335, 77.156929], [28.671391, 77.15657], [28.671415, 77.156235], [28.671537, 77.155281], [28.671537, 77.155281], [28.671751, 77.153969], [28.67206, 77.152168], [28.672201, 77.151199], [28.672541, 77.148758], [28.672926, 77.146118], [28.672926, 77.146118], [28.673073, 77.144943], [28.673155, 77.144501], [28.673319, 77.144028], [28.673752, 77.142525], [28.673834, 77.142044], [28.674124, 77.139664], [28.674332, 77.137703], [28.674353, 77.136955], [28.674334, 77.135506], [28.674362, 77.134911], [28.674961, 77.130455], [28.6752, 77.128281], [28.6752, 77.128281], [28.675266, 77.127686], [28.675648, 77.124748], [28.676405, 77.119347], [28.676668, 77.117325], [28.676668, 77.117325], [28.677328, 77.112274], [28.677328, 77.112274], [28.678585, 77.102211], [28.678585, 77.102211], [28.679665, 77.093857], [28.679733, 77.092667], [28.679733, 77.092667], [28.680073, 77.089409], [28.681038, 77.080841], [28.681286, 77.078705], [28.681286, 77.078705], [28.681828, 77.074005], [28.681828, 77.074005], [28.68199, 77.072617], [28.68224, 77.071365], [28.682276, 77.070862], [28.682333, 77.064728], [28.682333, 77.064728], [28.682356, 77.059128], [28.68232, 77.058701], [28.682255, 77.058189], [28.682173, 77.057701], [28.682144, 77.056999], [28.682131, 77.056236], [28.682131, 77.056236], [28.682137, 77.054016], [28.68215, 77.051994], [28.682241, 77.043938], [28.682241, 77.043938], [28.682322, 77.032608], [28.682367, 77.030571], [28.682362, 77.03006], [28.682489, 77.02829], [28.682489, 77.02829], [28.68396, 76.989822], [28.68396, 76.989822], [28.68544, 76.993599], [28.68544, 76.993599], [28.685513, 76.992691], [28.685658, 76.989563], [28.685946, 76.986229], [28.686512, 76.979919], [28.686729, 76.977196], [28.686729, 76.977196], [28.687201, 76.971992], [28.687717, 76.965965], [28.687899, 76.964066], [28.687899, 76.964066], [28.688, 76.96302], [28.688456, 76.959557], [28.688745, 76.956306], [28.688992, 76.952881], [28.689156, 76.951149], [28.689156, 76.951149], [28.689627, 76.946159], [28.690027, 76.941742], [28.690535, 76.936668], [28.69059, 76.936241], [28.690626, 76.935905], [28.690659, 76.93544], [28.690659, 76.93544], [28.69087, 76.933197], [28.691076, 76.932037], [28.691303, 76.931122], [28.691599, 76.930084], [28.691807, 76.929459], [28.692045, 76.928947], [28.693962, 76.9254], [28.696793, 76.920197], [28.697344, 76.919144]],\n",
       "                {&quot;bubblingMouseEvents&quot;: true, &quot;color&quot;: &quot;blue&quot;, &quot;dashArray&quot;: null, &quot;dashOffset&quot;: null, &quot;fill&quot;: false, &quot;fillColor&quot;: &quot;blue&quot;, &quot;fillOpacity&quot;: 0.2, &quot;fillRule&quot;: &quot;evenodd&quot;, &quot;lineCap&quot;: &quot;round&quot;, &quot;lineJoin&quot;: &quot;round&quot;, &quot;noClip&quot;: false, &quot;opacity&quot;: 0.7, &quot;smoothFactor&quot;: 1.0, &quot;stroke&quot;: true, &quot;weight&quot;: 2.5}\n",
       "            ).addTo(map_e72b66969ac0eee53d392bc950de994e);\n",
       "        \n",
       "    \n",
       "            var poly_line_fe49152825b6b855343d60bfb9137f0a = L.polyline(\n",
       "                [[28.668686, 77.228073], [28.666401, 77.229767], [28.663984, 77.231384], [28.66378, 77.23156], [28.661146, 77.235443], [28.660933, 77.235695], [28.660418, 77.236023], [28.659609, 77.236549], [28.658836, 77.236763], [28.657482, 77.236687], [28.657482, 77.236687], [28.656559, 77.236641], [28.655855, 77.236519], [28.653423, 77.236313], [28.652576, 77.236366], [28.651981, 77.236534], [28.651302, 77.236755], [28.651094, 77.2369], [28.650045, 77.237686], [28.650045, 77.237686], [28.649233, 77.238297], [28.648329, 77.239166], [28.647608, 77.239456], [28.640823, 77.240334], [28.640528, 77.240425], [28.640528, 77.240425], [28.64012, 77.240562], [28.639221, 77.240807], [28.638542, 77.241028], [28.637865, 77.241226], [28.637211, 77.241302], [28.636002, 77.24128], [28.628191, 77.241074], [28.628191, 77.241074], [28.627918, 77.241035], [28.627497, 77.240845], [28.627054, 77.240433], [28.626484, 77.239662], [28.626122, 77.239075], [28.625708, 77.238319], [28.625473, 77.237617], [28.625364, 77.236679], [28.625492, 77.234192], [28.625492, 77.234192], [28.627817, 77.218956], [28.627817, 77.218956], [28.61587, 77.212364], [28.61587, 77.212364], [28.614807, 77.212456], [28.614531, 77.212555], [28.61425, 77.212761], [28.605152, 77.224586], [28.602264, 77.229141], [28.602264, 77.229141], [28.601818, 77.229843], [28.601532, 77.230186], [28.595356, 77.231705], [28.590891, 77.233147], [28.590517, 77.233238], [28.590517, 77.233238], [28.588249, 77.23381], [28.587498, 77.23439], [28.58494, 77.237961], [28.584526, 77.238312], [28.583355, 77.23925], [28.58304, 77.239349], [28.58304, 77.239349], [28.570898, 77.233101], [28.570898, 77.233101], [28.564405, 77.23423], [28.564405, 77.23423], [28.554617, 77.239738], [28.554617, 77.239738], [28.551441, 77.25174], [28.551441, 77.25174], [28.551455, 77.252258], [28.55154, 77.253044], [28.551714, 77.254066], [28.551794, 77.254417], [28.551899, 77.254959], [28.551962, 77.255508], [28.551941, 77.256035], [28.551867, 77.256454], [28.551758, 77.256889], [28.551544, 77.257309], [28.551142, 77.257874], [28.550848, 77.258171], [28.550037, 77.25872], [28.549496, 77.259109], [28.549496, 77.259109], [28.549049, 77.259544], [28.548326, 77.260315], [28.547417, 77.261673], [28.546707, 77.262856], [28.546324, 77.263344], [28.545923, 77.263664], [28.544376, 77.264267], [28.544376, 77.264267], [28.542244, 77.265228], [28.541687, 77.265488], [28.541428, 77.26564], [28.541115, 77.265923], [28.540911, 77.266151], [28.540718, 77.266434], [28.540529, 77.266792], [28.54039, 77.267159], [28.540293, 77.267555], [28.540232, 77.268036], [28.54023, 77.268555], [28.540289, 77.268959], [28.540398, 77.269333], [28.541002, 77.270691], [28.541927, 77.273026], [28.542152, 77.273537], [28.543282, 77.275665], [28.543282, 77.275665], [28.538084, 77.285538], [28.538084, 77.285538], [28.528605, 77.288399], [28.528605, 77.288399], [28.527803, 77.288849], [28.527206, 77.289429], [28.526123, 77.290649], [28.525759, 77.291023], [28.525406, 77.291374], [28.52511, 77.291649], [28.524748, 77.291916], [28.522152, 77.293236], [28.520897, 77.293854], [28.520441, 77.294136], [28.519701, 77.29454], [28.519701, 77.29454], [28.518751, 77.294922], [28.518137, 77.295151], [28.51692, 77.295662], [28.515501, 77.296227], [28.514328, 77.296745], [28.508617, 77.299103], [28.506409, 77.300102], [28.506157, 77.300186], [28.505905, 77.300247], [28.505629, 77.300285], [28.50535, 77.300285], [28.505013, 77.300247], [28.504316, 77.300003], [28.502377, 77.299187], [28.502377, 77.299187], [28.4932, 77.30085]],\n",
       "                {&quot;bubblingMouseEvents&quot;: true, &quot;color&quot;: &quot;blue&quot;, &quot;dashArray&quot;: null, &quot;dashOffset&quot;: null, &quot;fill&quot;: false, &quot;fillColor&quot;: &quot;blue&quot;, &quot;fillOpacity&quot;: 0.2, &quot;fillRule&quot;: &quot;evenodd&quot;, &quot;lineCap&quot;: &quot;round&quot;, &quot;lineJoin&quot;: &quot;round&quot;, &quot;noClip&quot;: false, &quot;opacity&quot;: 0.7, &quot;smoothFactor&quot;: 1.0, &quot;stroke&quot;: true, &quot;weight&quot;: 2.5}\n",
       "            ).addTo(map_e72b66969ac0eee53d392bc950de994e);\n",
       "        \n",
       "    \n",
       "            var poly_line_11837429f9c318f4861bfdb85bf5bff9 = L.polyline(\n",
       "                [[28.552322, 77.056198], [28.565706, 77.064896], [28.565706, 77.064896], [28.574263, 77.065308], [28.574263, 77.065308], [28.575247, 77.064644], [28.575857, 77.064194], [28.576361, 77.063789], [28.576923, 77.063263], [28.577358, 77.062767], [28.57799, 77.062004], [28.578463, 77.061363], [28.581039, 77.057487], [28.581039, 77.057487], [28.58643, 77.049423], [28.58643, 77.049423], [28.589029, 77.045471], [28.592218, 77.040718], [28.592218, 77.040718], [28.596992, 77.033524], [28.596992, 77.033524], [28.601267, 77.027168], [28.602203, 77.025963], [28.602203, 77.025963], [28.602556, 77.025551], [28.603048, 77.025085], [28.604055, 77.0242], [28.605062, 77.023361], [28.60582, 77.022873], [28.606897, 77.022316], [28.607872, 77.022003], [28.609299, 77.021774], [28.610395, 77.021767], [28.611441, 77.02179], [28.61207, 77.021881], [28.612741, 77.022034], [28.614084, 77.02243], [28.614943, 77.022743], [28.614943, 77.022743], [28.616684, 77.023209], [28.617331, 77.023399], [28.617832, 77.023636], [28.618248, 77.023933], [28.618599, 77.024277], [28.618849, 77.024635], [28.619045, 77.024986], [28.619238, 77.025467], [28.619354, 77.026047], [28.619368, 77.02655], [28.619087, 77.030243], [28.619078, 77.03054], [28.619085, 77.03093], [28.619114, 77.031471], [28.619331, 77.033279], [28.619331, 77.033279], [28.619707, 77.035545], [28.62005, 77.037872], [28.620193, 77.038895], [28.620327, 77.040291], [28.620329, 77.041229], [28.620291, 77.041916], [28.620213, 77.043007], [28.620199, 77.043388], [28.620213, 77.043976], [28.620296, 77.045074], [28.620296, 77.045074], [28.62056, 77.046974], [28.620667, 77.047928], [28.620853, 77.049423], [28.621029, 77.05101], [28.62129, 77.052902], [28.621777, 77.05571], [28.621777, 77.05571], [28.622015, 77.056664], [28.622259, 77.0578], [28.6224, 77.058372], [28.622746, 77.059662], [28.622932, 77.06031], [28.623325, 77.061417], [28.6241, 77.063347], [28.6241, 77.063347], [28.624868, 77.065277], [28.625643, 77.067337], [28.626289, 77.069092], [28.627052, 77.071022], [28.627817, 77.073036], [28.628057, 77.073654], [28.62821, 77.074165], [28.628328, 77.074638], [28.628479, 77.075157], [28.628714, 77.075783], [28.629087, 77.076683], [28.629602, 77.078072], [28.629602, 77.078072], [28.630377, 77.079849], [28.630747, 77.080727], [28.631262, 77.082191], [28.632, 77.08403], [28.632704, 77.085815], [28.633026, 77.086708], [28.633026, 77.086708], [28.634007, 77.089287], [28.634527, 77.091187], [28.63485, 77.092049], [28.635307, 77.09301], [28.635649, 77.09375], [28.635958, 77.094666], [28.636242, 77.095589], [28.636564, 77.096458], [28.636564, 77.096458], [28.636816, 77.097023], [28.637127, 77.097687], [28.637711, 77.098846], [28.638155, 77.099617], [28.638823, 77.100739], [28.639046, 77.101295], [28.639482, 77.102486], [28.639671, 77.102997], [28.639671, 77.102997], [28.640501, 77.105217], [28.640974, 77.106384], [28.641848, 77.108345], [28.64242, 77.10965], [28.642851, 77.110817], [28.643158, 77.111626], [28.643457, 77.112244], [28.643764, 77.112846], [28.643764, 77.112846], [28.644955, 77.114876], [28.645546, 77.115761], [28.646545, 77.117149], [28.647022, 77.117912], [28.647379, 77.118561], [28.64768, 77.119247], [28.649075, 77.122719], [28.649075, 77.122719], [28.649546, 77.123695], [28.650566, 77.125572], [28.651518, 77.127182], [28.651749, 77.127724], [28.651901, 77.128258], [28.652765, 77.131645], [28.652765, 77.131645], [28.653175, 77.133232], [28.653379, 77.133995], [28.653488, 77.134377], [28.653622, 77.134727], [28.653761, 77.135071], [28.654222, 77.135765], [28.654945, 77.137238], [28.657032, 77.140923], [28.657032, 77.140923], [28.655773, 77.148499], [28.655773, 77.148499], [28.65143, 77.156021], [28.65143, 77.156021], [28.645037, 77.167046], [28.645037, 77.167046], [28.64241, 77.191833], [28.64241, 77.191833], [28.64399, 77.18853], [28.64399, 77.18853], [28.644489, 77.192276], [28.645151, 77.196556], [28.645218, 77.197227], [28.645151, 77.197899], [28.644918, 77.198593], [28.6443, 77.199905], [28.6443, 77.199905], [28.639217, 77.206291], [28.639217, 77.206291], [28.632759, 77.219688], [28.632759, 77.219688], [28.632254, 77.220619], [28.629782, 77.224945], [28.629782, 77.224945], [28.626026, 77.2314], [28.625727, 77.232246], [28.625591, 77.234192], [28.625591, 77.234192], [28.625391, 77.238754], [28.625309, 77.239761], [28.625212, 77.240112], [28.625051, 77.240578], [28.624626, 77.241257], [28.623455, 77.242516], [28.623455, 77.242516], [28.622442, 77.243599], [28.621811, 77.244301], [28.6215, 77.244873], [28.621334, 77.245331], [28.621248, 77.245735], [28.621088, 77.247269], [28.620972, 77.247841], [28.620583, 77.249542], [28.620583, 77.249542], [28.620247, 77.251312], [28.620115, 77.252174], [28.620087, 77.252686], [28.620159, 77.253555], [28.62042, 77.255554], [28.621056, 77.260803], [28.621214, 77.261848], [28.621416, 77.262886], [28.62163, 77.263611], [28.622953, 77.26709], [28.622873, 77.267128], [28.623133, 77.267876], [28.623133, 77.267876], [28.623461, 77.268822], [28.623585, 77.268768], [28.62431, 77.270737], [28.624491, 77.271164], [28.624681, 77.271507], [28.624863, 77.271751], [28.625032, 77.271965], [28.625179, 77.27211], [28.625423, 77.272331], [28.62569, 77.27253], [28.626139, 77.272781], [28.627308, 77.273491], [28.627888, 77.273857], [28.628139, 77.27404], [28.628382, 77.274261], [28.628607, 77.274506], [28.629829, 77.276436], [28.629829, 77.276436], [28.630552, 77.277573], [28.635794, 77.285469], [28.637054, 77.287872], [28.637054, 77.287872], [28.639751, 77.293037], [28.640388, 77.293915], [28.641441, 77.295258], [28.641441, 77.295258], [28.642317, 77.296379], [28.644684, 77.299431], [28.647448, 77.302963], [28.647652, 77.303291], [28.647821, 77.30365], [28.648226, 77.304573], [28.648249, 77.304672], [28.648249, 77.304672], [28.648443, 77.305527], [28.648588, 77.306488], [28.648674, 77.307625], [28.648703, 77.308868], [28.648645, 77.309784], [28.648333, 77.311134], [28.647438, 77.314644], [28.647282, 77.31514], [28.646893, 77.316055], [28.646893, 77.316055], [28.645706, 77.318222], [28.645521, 77.318649], [28.645378, 77.319183], [28.645275, 77.319832], [28.645304, 77.322273], [28.645304, 77.322273], [28.645329, 77.324348], [28.64579, 77.331924], [28.645834, 77.332359], [28.645899, 77.332771], [28.646027, 77.333275], [28.646135, 77.333549], [28.64632, 77.333946], [28.646519, 77.33429], [28.647518, 77.335922], [28.649071, 77.338531], [28.649712, 77.339561]],\n",
       "                {&quot;bubblingMouseEvents&quot;: true, &quot;color&quot;: &quot;blue&quot;, &quot;dashArray&quot;: null, &quot;dashOffset&quot;: null, &quot;fill&quot;: false, &quot;fillColor&quot;: &quot;blue&quot;, &quot;fillOpacity&quot;: 0.2, &quot;fillRule&quot;: &quot;evenodd&quot;, &quot;lineCap&quot;: &quot;round&quot;, &quot;lineJoin&quot;: &quot;round&quot;, &quot;noClip&quot;: false, &quot;opacity&quot;: 0.7, &quot;smoothFactor&quot;: 1.0, &quot;stroke&quot;: true, &quot;weight&quot;: 2.5}\n",
       "            ).addTo(map_e72b66969ac0eee53d392bc950de994e);\n",
       "        \n",
       "    \n",
       "            var poly_line_fcab1a6278b260f1bee2654ee814183b = L.polyline(\n",
       "                [[28.655773, 77.148499], [28.662069, 77.157692], [28.662069, 77.157692], [28.663061, 77.159309], [28.66399, 77.160973], [28.664341, 77.161575], [28.664974, 77.162895], [28.665213, 77.16333], [28.665556, 77.163757], [28.665941, 77.164108], [28.666386, 77.164337], [28.666845, 77.164429], [28.667315, 77.164413], [28.667601, 77.164368], [28.667976, 77.164261], [28.668196, 77.164162], [28.668526, 77.163925], [28.668793, 77.163651], [28.669058, 77.1633], [28.669239, 77.162941], [28.669691, 77.161865], [28.670397, 77.160271], [28.670671, 77.159561], [28.670914, 77.158867], [28.671078, 77.158112], [28.671173, 77.157631], [28.671415, 77.156235], [28.671537, 77.155281], [28.671537, 77.155281], [28.671751, 77.153969], [28.67206, 77.152168], [28.672201, 77.151199], [28.672541, 77.148758], [28.672926, 77.146118], [28.672926, 77.146118], [28.673073, 77.144943], [28.673155, 77.144501], [28.673319, 77.144028], [28.673752, 77.142525], [28.673834, 77.142044], [28.674124, 77.139664], [28.674332, 77.137703], [28.674353, 77.136955], [28.674334, 77.135506], [28.674362, 77.134911], [28.674961, 77.130455], [28.6752, 77.128281], [28.6752, 77.128281], [28.675266, 77.127686], [28.675648, 77.124748], [28.676405, 77.119347], [28.676668, 77.117325], [28.676668, 77.117325], [28.677328, 77.112274], [28.677328, 77.112274], [28.678585, 77.102211], [28.678585, 77.102211], [28.679665, 77.093857], [28.679733, 77.092667], [28.679733, 77.092667], [28.680073, 77.089409], [28.681038, 77.080841], [28.681286, 77.078705], [28.681286, 77.078705], [28.681828, 77.074005], [28.681828, 77.074005], [28.68199, 77.072617], [28.68224, 77.071365], [28.682276, 77.070862], [28.682333, 77.064728], [28.682333, 77.064728], [28.682356, 77.059128], [28.68232, 77.058701], [28.682255, 77.058189], [28.682173, 77.057701], [28.682144, 77.056999], [28.682131, 77.056236], [28.682131, 77.056236], [28.682137, 77.054016], [28.68215, 77.051994], [28.682241, 77.043938], [28.682241, 77.043938], [28.682322, 77.032608], [28.682367, 77.030571], [28.682362, 77.03006], [28.682489, 77.02829], [28.682489, 77.02829], [28.68396, 76.989822], [28.68396, 76.989822], [28.68544, 76.993599], [28.68544, 76.993599], [28.685513, 76.992691], [28.685658, 76.989563], [28.685946, 76.986229], [28.686512, 76.979919], [28.686729, 76.977196], [28.686729, 76.977196], [28.687201, 76.971992], [28.687717, 76.965965], [28.687899, 76.964066], [28.687899, 76.964066], [28.688, 76.96302], [28.688456, 76.959557], [28.688745, 76.956306], [28.688992, 76.952881], [28.689156, 76.951149], [28.689156, 76.951149], [28.689627, 76.946159], [28.690027, 76.941742], [28.690535, 76.936668], [28.69059, 76.936241], [28.690626, 76.935905], [28.690659, 76.93544], [28.690659, 76.93544], [28.69087, 76.933197], [28.691076, 76.932037], [28.691303, 76.931122], [28.691599, 76.930084], [28.691807, 76.929459], [28.692045, 76.928947], [28.693962, 76.9254], [28.696793, 76.920197], [28.697344, 76.919144]],\n",
       "                {&quot;bubblingMouseEvents&quot;: true, &quot;color&quot;: &quot;blue&quot;, &quot;dashArray&quot;: null, &quot;dashOffset&quot;: null, &quot;fill&quot;: false, &quot;fillColor&quot;: &quot;blue&quot;, &quot;fillOpacity&quot;: 0.2, &quot;fillRule&quot;: &quot;evenodd&quot;, &quot;lineCap&quot;: &quot;round&quot;, &quot;lineJoin&quot;: &quot;round&quot;, &quot;noClip&quot;: false, &quot;opacity&quot;: 0.7, &quot;smoothFactor&quot;: 1.0, &quot;stroke&quot;: true, &quot;weight&quot;: 2.5}\n",
       "            ).addTo(map_e72b66969ac0eee53d392bc950de994e);\n",
       "        \n",
       "    \n",
       "            var poly_line_7f310444fc83b905dd431b9524999752 = L.polyline(\n",
       "                [[28.459364, 77.072639], [28.460171, 77.073341], [28.46032, 77.073456], [28.460487, 77.07357], [28.460644, 77.073647], [28.460823, 77.073723], [28.461012, 77.073792], [28.461264, 77.073845], [28.461544, 77.073883], [28.461836, 77.073883], [28.462107, 77.073853], [28.472324, 77.072388], [28.472324, 77.072388], [28.475864, 77.071861], [28.47654, 77.071938], [28.477003, 77.072083], [28.477468, 77.072319], [28.477886, 77.072708], [28.478178, 77.073074], [28.478363, 77.073418], [28.47847, 77.073677], [28.478559, 77.073959], [28.478628, 77.074249], [28.479588, 77.07988], [28.479588, 77.07988], [28.480606, 77.086815], [28.480696, 77.087761], [28.480639, 77.08831], [28.480589, 77.088966], [28.480652, 77.089439], [28.480852, 77.09079], [28.481024, 77.091583], [28.481298, 77.09301], [28.481298, 77.09301], [28.481642, 77.094406], [28.481813, 77.095192], [28.481941, 77.095993], [28.482042, 77.096848], [28.482101, 77.09742], [28.482094, 77.097961], [28.482046, 77.098564], [28.481905, 77.099846], [28.481869, 77.100471], [28.481932, 77.101212], [28.482046, 77.102219], [28.482046, 77.102219], [28.482172, 77.103271], [28.482172, 77.104355], [28.482231, 77.105156], [28.482317, 77.105713], [28.482553, 77.106766], [28.482647, 77.1073], [28.482662, 77.107628], [28.482656, 77.107941], [28.482624, 77.108223], [28.482569, 77.108528], [28.482422, 77.108994], [28.482327, 77.10923], [28.482046, 77.109772], [28.481819, 77.110237], [28.481691, 77.110603], [28.481602, 77.110992], [28.48156, 77.111244], [28.481546, 77.111771], [28.481581, 77.112373], [28.481611, 77.113129], [28.481619, 77.113594], [28.481539, 77.114204], [28.481396, 77.114876], [28.481188, 77.115982], [28.48097, 77.117035], [28.480803, 77.117752], [28.480602, 77.118225], [28.480017, 77.119141], [28.479185, 77.120384], [28.478931, 77.120987], [28.478804, 77.121635], [28.478783, 77.122223], [28.47884, 77.12265], [28.478941, 77.123032], [28.479307, 77.123779], [28.47978, 77.12439], [28.480757, 77.125748], [28.480757, 77.125748], [28.481091, 77.126221], [28.482063, 77.127502], [28.48402, 77.13031], [28.485138, 77.131416], [28.486706, 77.133369], [28.487669, 77.135223], [28.489418, 77.138992], [28.490578, 77.141327], [28.491026, 77.142143], [28.492096, 77.145203], [28.492638, 77.146545], [28.493776, 77.14917], [28.493776, 77.14917], [28.494364, 77.150436], [28.497009, 77.156364], [28.498455, 77.159637], [28.498764, 77.160355], [28.499146, 77.161369], [28.499146, 77.161369], [28.499508, 77.162331], [28.49971, 77.162811], [28.501726, 77.167114], [28.503729, 77.171768], [28.50411, 77.17247], [28.504187, 77.172623], [28.504271, 77.172768], [28.504885, 77.173447], [28.506592, 77.174858], [28.506592, 77.174858], [28.506741, 77.17498], [28.507732, 77.175644], [28.508215, 77.176094], [28.508369, 77.176262], [28.508505, 77.17643], [28.508575, 77.176537], [28.508678, 77.17672], [28.508863, 77.177124], [28.508928, 77.177292], [28.508978, 77.177452], [28.509027, 77.177673], [28.509167, 77.17894], [28.50927, 77.179497], [28.509375, 77.179871], [28.509539, 77.180237], [28.511543, 77.184303], [28.512594, 77.185875], [28.512594, 77.185875], [28.520638, 77.199379], [28.520638, 77.199379], [28.529057, 77.204796], [28.529057, 77.204796], [28.529774, 77.204613], [28.530121, 77.20459], [28.532854, 77.205345], [28.535564, 77.206116], [28.538406, 77.206696], [28.542471, 77.206398], [28.544262, 77.20668], [28.544262, 77.20668], [28.546585, 77.206772], [28.547405, 77.206635], [28.548542, 77.205971], [28.549095, 77.20591], [28.551859, 77.205688], [28.555206, 77.206116], [28.556484, 77.206444], [28.55801, 77.206764], [28.559828, 77.207062], [28.559828, 77.207062], [28.561657, 77.207359], [28.563559, 77.207535], [28.566032, 77.20755], [28.566868, 77.207771], [28.567183, 77.207863], [28.56794, 77.208046], [28.568171, 77.208092], [28.568171, 77.208092], [28.574169, 77.209274], [28.574951, 77.209457], [28.575174, 77.209534], [28.575174, 77.209534], [28.583437, 77.212303], [28.583832, 77.212326], [28.584867, 77.212318], [28.586599, 77.212502], [28.587244, 77.212563], [28.587244, 77.212563], [28.58963, 77.212769], [28.591269, 77.212639], [28.597345, 77.211067], [28.597345, 77.211067], [28.611525, 77.210052], [28.611525, 77.210052], [28.615883, 77.21225], [28.615883, 77.21225], [28.616922, 77.212349], [28.621136, 77.212708], [28.621489, 77.212891], [28.622982, 77.214005], [28.622982, 77.214005], [28.625504, 77.21563], [28.62583, 77.215744], [28.627283, 77.215775], [28.627865, 77.216064], [28.631824, 77.218758], [28.63225, 77.218994], [28.632795, 77.219238], [28.632795, 77.219238], [28.633139, 77.219376], [28.633596, 77.219513], [28.63406, 77.219627], [28.643492, 77.222717], [28.643492, 77.222717], [28.649277, 77.226486], [28.649277, 77.226486], [28.656029, 77.230011], [28.656029, 77.230011], [28.656122, 77.230057], [28.65649, 77.230179], [28.658422, 77.230309], [28.659256, 77.230339], [28.663395, 77.230011], [28.665253, 77.229309], [28.667503, 77.228165], [28.667503, 77.228165], [28.6686, 77.227577], [28.669811, 77.227127], [28.671947, 77.226219], [28.672489, 77.226013], [28.673347, 77.225868], [28.674191, 77.225739], [28.675117, 77.22554], [28.675667, 77.225403], [28.676842, 77.224998], [28.676842, 77.224998], [28.67877, 77.224373], [28.679277, 77.224182], [28.679722, 77.223915], [28.680069, 77.223679], [28.680651, 77.223312], [28.681057, 77.223045], [28.681576, 77.222717], [28.681902, 77.222565], [28.68218, 77.222534], [28.682682, 77.222511], [28.686317, 77.221695], [28.687819, 77.221458], [28.687819, 77.221458], [28.694765, 77.212418], [28.694765, 77.212418], [28.697979, 77.206909], [28.697979, 77.206909], [28.70274, 77.194008], [28.70274, 77.194008], [28.703617, 77.19178], [28.704493, 77.189796], [28.704729, 77.189178], [28.706079, 77.184967], [28.70627, 77.18364], [28.706366, 77.182739], [28.706497, 77.182076], [28.706678, 77.181496], [28.707069, 77.180382], [28.707069, 77.180382], [28.706678, 77.181496], [28.706497, 77.182076], [28.706366, 77.182739], [28.70627, 77.18364], [28.706079, 77.184967], [28.704729, 77.189178], [28.704493, 77.189796], [28.703617, 77.19178], [28.70274, 77.194008], [28.698156, 77.206421], [28.697184, 77.209099], [28.697184, 77.209099], [28.697014, 77.209572], [28.695059, 77.214729], [28.697014, 77.209572], [28.698156, 77.206421], [28.70274, 77.194008], [28.703617, 77.19178], [28.704493, 77.189796], [28.704729, 77.189178], [28.706079, 77.184967], [28.70627, 77.18364], [28.706366, 77.182739], [28.706497, 77.182076], [28.706678, 77.181496], [28.707462, 77.179245], [28.707745, 77.178642], [28.707985, 77.178238], [28.708263, 77.177841], [28.710386, 77.175949], [28.716599, 77.170448], [28.717316, 77.1698], [28.720636, 77.166946], [28.721815, 77.165833], [28.7227, 77.165092], [28.725986, 77.162682], [28.728075, 77.161102], [28.728075, 77.161102], [28.718657, 77.149956], [28.718657, 77.149956], [28.740192, 77.135574], [28.740192, 77.135574], [28.742872, 77.146545]],\n",
       "                {&quot;bubblingMouseEvents&quot;: true, &quot;color&quot;: &quot;blue&quot;, &quot;dashArray&quot;: null, &quot;dashOffset&quot;: null, &quot;fill&quot;: false, &quot;fillColor&quot;: &quot;blue&quot;, &quot;fillOpacity&quot;: 0.2, &quot;fillRule&quot;: &quot;evenodd&quot;, &quot;lineCap&quot;: &quot;round&quot;, &quot;lineJoin&quot;: &quot;round&quot;, &quot;noClip&quot;: false, &quot;opacity&quot;: 0.7, &quot;smoothFactor&quot;: 1.0, &quot;stroke&quot;: true, &quot;weight&quot;: 2.5}\n",
       "            ).addTo(map_e72b66969ac0eee53d392bc950de994e);\n",
       "        \n",
       "    \n",
       "            var poly_line_8b8fe05a2a18ceabf7639f4a037e3fed = L.polyline(\n",
       "                [[28.62895, 77.077927], [28.628637, 77.07811], [28.628178, 77.078354], [28.625586, 77.079582], [28.622038, 77.083031], [28.620255, 77.084221], [28.618795, 77.085159], [28.61738, 77.08564], [28.616533, 77.085442], [28.615755, 77.085175], [28.615755, 77.085175], [28.613577, 77.084206], [28.602818, 77.082581], [28.601875, 77.082359], [28.601875, 77.082359], [28.595867, 77.081093], [28.591938, 77.08149], [28.590891, 77.081696], [28.58989, 77.082344], [28.588909, 77.083046], [28.588909, 77.083046], [28.588148, 77.08358], [28.587355, 77.084419], [28.582808, 77.093422], [28.581205, 77.096939], [28.579931, 77.101433], [28.579592, 77.102547], [28.578983, 77.10405], [28.578915, 77.104309], [28.578806, 77.104904], [28.578735, 77.105377], [28.578543, 77.106117], [28.577755, 77.108566], [28.577509, 77.109482], [28.577341, 77.110352], [28.57715, 77.111153], [28.57715, 77.111153], [28.576811, 77.112137], [28.576328, 77.11348], [28.576063, 77.114258], [28.575359, 77.11776], [28.575222, 77.118416], [28.574804, 77.120026], [28.5744, 77.120857], [28.573875, 77.121307], [28.573101, 77.121552], [28.57115, 77.121941], [28.569685, 77.121994], [28.568892, 77.121872], [28.567593, 77.122063], [28.564859, 77.12262], [28.564859, 77.12262], [28.562706, 77.123077], [28.562111, 77.123276], [28.561502, 77.123756], [28.560757, 77.124603], [28.560537, 77.126183], [28.560863, 77.128807], [28.56168, 77.131714], [28.561872, 77.132492], [28.561972, 77.133362], [28.56197, 77.134476], [28.561779, 77.135643], [28.560827, 77.140251], [28.560827, 77.140251], [28.560736, 77.14093], [28.560631, 77.141884], [28.560455, 77.142853], [28.559759, 77.14534], [28.558777, 77.150291], [28.557926, 77.159645], [28.557808, 77.161087], [28.557808, 77.161087], [28.557669, 77.162598], [28.557821, 77.165863], [28.558968, 77.170303], [28.558985, 77.171982], [28.558628, 77.173027], [28.55817, 77.173767], [28.557842, 77.174049], [28.557842, 77.174049], [28.557533, 77.174324], [28.556877, 77.175049], [28.55109, 77.18399], [28.550602, 77.185005], [28.550602, 77.185005], [28.550364, 77.185509], [28.549139, 77.188454], [28.547394, 77.193108], [28.547003, 77.194511], [28.547003, 77.194511], [28.546583, 77.195854], [28.545828, 77.19796], [28.544086, 77.201736], [28.543476, 77.203918], [28.54335, 77.205017], [28.543165, 77.206215], [28.543142, 77.206665], [28.543142, 77.206665], [28.542353, 77.221092], [28.542353, 77.221092], [28.542274, 77.222542], [28.541925, 77.226593], [28.541275, 77.228928], [28.541092, 77.230293], [28.541092, 77.230293], [28.540731, 77.234322], [28.540932, 77.236176], [28.541872, 77.238464], [28.541872, 77.238464], [28.545164, 77.249352], [28.546038, 77.251518], [28.546038, 77.251518], [28.549461, 77.259071], [28.549461, 77.259071], [28.554491, 77.264816], [28.554491, 77.264816], [28.555147, 77.265648], [28.556337, 77.267906], [28.556721, 77.26886], [28.557058, 77.269371], [28.557341, 77.26992], [28.558222, 77.271675], [28.558739, 77.272667], [28.559147, 77.273621], [28.559437, 77.274239], [28.559763, 77.274895], [28.559763, 77.274895], [28.560547, 77.276421], [28.560766, 77.276901], [28.560986, 77.277672], [28.561073, 77.278458], [28.561085, 77.281509], [28.56106, 77.282623], [28.56111, 77.283157], [28.561266, 77.283752], [28.561562, 77.284508], [28.561863, 77.285126], [28.562162, 77.285507], [28.563066, 77.286316], [28.563066, 77.286316], [28.563633, 77.286789], [28.564035, 77.287224], [28.564529, 77.287888], [28.564772, 77.288254], [28.564936, 77.288696], [28.565025, 77.289154], [28.565029, 77.289627], [28.564934, 77.290077], [28.564808, 77.290443], [28.564552, 77.290985], [28.564075, 77.291504], [28.563513, 77.291832], [28.562908, 77.291977], [28.561987, 77.291977], [28.5613, 77.291954], [28.5613, 77.291954], [28.559864, 77.291901], [28.559462, 77.291809], [28.559032, 77.291695], [28.558472, 77.291512], [28.558016, 77.291389], [28.557453, 77.291374], [28.556835, 77.291458], [28.556229, 77.291656], [28.555603, 77.291985], [28.554176, 77.292648], [28.553499, 77.292946], [28.552713, 77.293167], [28.551807, 77.293381], [28.550919, 77.29377], [28.550154, 77.294197], [28.548079, 77.295395], [28.546871, 77.296143], [28.545839, 77.296684], [28.545839, 77.296684], [28.543545, 77.298027], [28.542883, 77.298393], [28.542566, 77.298599], [28.541964, 77.299057], [28.539955, 77.300537], [28.539221, 77.301155], [28.538782, 77.301811], [28.538328, 77.302734], [28.538149, 77.303261], [28.538063, 77.30378], [28.538055, 77.304207], [28.538097, 77.304626], [28.538189, 77.305031], [28.53841, 77.30558], [28.538689, 77.306023], [28.539158, 77.306526], [28.541422, 77.308479], [28.542028, 77.309113], [28.542931, 77.310097], [28.542931, 77.310097], [28.546545, 77.314293], [28.55006, 77.318504], [28.55085, 77.319305], [28.551212, 77.319618], [28.55221, 77.320572], [28.552959, 77.321579], [28.552959, 77.321579], [28.555344, 77.324921], [28.556101, 77.326332], [28.556374, 77.326904], [28.557388, 77.329399], [28.558102, 77.331116], [28.559175, 77.333748], [28.559549, 77.334412], [28.559931, 77.334801], [28.560408, 77.335075], [28.560881, 77.335213], [28.561338, 77.335236], [28.561682, 77.335213], [28.562006, 77.335121], [28.562721, 77.334663], [28.563845, 77.333755]],\n",
       "                {&quot;bubblingMouseEvents&quot;: true, &quot;color&quot;: &quot;blue&quot;, &quot;dashArray&quot;: null, &quot;dashOffset&quot;: null, &quot;fill&quot;: false, &quot;fillColor&quot;: &quot;blue&quot;, &quot;fillOpacity&quot;: 0.2, &quot;fillRule&quot;: &quot;evenodd&quot;, &quot;lineCap&quot;: &quot;round&quot;, &quot;lineJoin&quot;: &quot;round&quot;, &quot;noClip&quot;: false, &quot;opacity&quot;: 0.7, &quot;smoothFactor&quot;: 1.0, &quot;stroke&quot;: true, &quot;weight&quot;: 2.5}\n",
       "            ).addTo(map_e72b66969ac0eee53d392bc950de994e);\n",
       "        \n",
       "    \n",
       "            var poly_line_a86eacf7ccefbf7f978e527d04175583 = L.polyline(\n",
       "                [[28.642464, 77.223076], [28.631542, 77.215866], [28.631058, 77.215477], [28.630419, 77.214653], [28.628147, 77.209602], [28.628147, 77.209602], [28.621347, 77.194427], [28.615776, 77.18161], [28.614252, 77.178238], [28.61277, 77.175789], [28.611425, 77.174095], [28.610645, 77.173492], [28.609478, 77.172523], [28.608824, 77.172066], [28.608099, 77.171677], [28.607693, 77.171478], [28.606241, 77.170982], [28.605604, 77.170723], [28.604239, 77.169991], [28.603022, 77.169266], [28.600035, 77.167465], [28.599625, 77.16729], [28.599224, 77.167137], [28.598423, 77.166916], [28.597118, 77.166748], [28.596498, 77.166641], [28.595917, 77.166466], [28.595518, 77.166313], [28.595152, 77.1661], [28.594496, 77.165695], [28.593807, 77.1651], [28.593513, 77.16478], [28.593254, 77.164452], [28.59297, 77.16404], [28.592728, 77.163643], [28.59247, 77.163155], [28.59189, 77.161705], [28.59189, 77.161705], [28.590803, 77.159088], [28.590302, 77.157379], [28.590046, 77.156555], [28.589739, 77.155724], [28.588085, 77.151665], [28.587231, 77.149681], [28.586727, 77.14872], [28.58614, 77.147881], [28.585741, 77.147408], [28.58526, 77.14695], [28.584763, 77.146553], [28.584211, 77.146179], [28.583633, 77.145866], [28.582943, 77.145584], [28.580721, 77.144928], [28.578667, 77.144226], [28.577904, 77.143951], [28.577188, 77.143585], [28.576857, 77.143379], [28.576504, 77.143105], [28.576099, 77.142761], [28.575628, 77.142288], [28.575207, 77.141739], [28.574768, 77.141075], [28.574402, 77.140327], [28.574034, 77.139481], [28.573666, 77.13868], [28.573057, 77.137566], [28.572409, 77.136612], [28.571629, 77.135414], [28.571236, 77.134857], [28.570784, 77.134384], [28.57024, 77.133873], [28.569874, 77.133583], [28.569508, 77.133331], [28.569002, 77.133034], [28.568487, 77.13279], [28.567884, 77.132576], [28.567276, 77.132431], [28.566608, 77.132301], [28.565994, 77.132263], [28.565376, 77.132286], [28.564697, 77.132393], [28.564045, 77.13253], [28.563389, 77.132713], [28.562078, 77.133064], [28.561577, 77.133148], [28.560925, 77.133209], [28.560162, 77.133202], [28.559397, 77.133095], [28.558853, 77.132942], [28.555759, 77.131935], [28.554585, 77.131485], [28.553484, 77.130905], [28.552691, 77.13018], [28.552006, 77.129189], [28.549776, 77.125618], [28.54891, 77.123428], [28.548737, 77.122108], [28.548798, 77.120811], [28.548798, 77.120811], [28.554869, 77.087921], [28.554869, 77.087921], [28.552322, 77.056198]],\n",
       "                {&quot;bubblingMouseEvents&quot;: true, &quot;color&quot;: &quot;blue&quot;, &quot;dashArray&quot;: null, &quot;dashOffset&quot;: null, &quot;fill&quot;: false, &quot;fillColor&quot;: &quot;blue&quot;, &quot;fillOpacity&quot;: 0.2, &quot;fillRule&quot;: &quot;evenodd&quot;, &quot;lineCap&quot;: &quot;round&quot;, &quot;lineJoin&quot;: &quot;round&quot;, &quot;noClip&quot;: false, &quot;opacity&quot;: 0.7, &quot;smoothFactor&quot;: 1.0, &quot;stroke&quot;: true, &quot;weight&quot;: 2.5}\n",
       "            ).addTo(map_e72b66969ac0eee53d392bc950de994e);\n",
       "        \n",
       "    \n",
       "            var poly_line_8af0ce3995615285e2e29ca4c04daa30 = L.polyline(\n",
       "                [[28.668686, 77.228073], [28.666401, 77.229767], [28.663984, 77.231384], [28.66378, 77.23156], [28.661146, 77.235443], [28.660933, 77.235695], [28.660418, 77.236023], [28.659609, 77.236549], [28.658836, 77.236763], [28.657482, 77.236687], [28.657482, 77.236687], [28.656559, 77.236641], [28.655855, 77.236519], [28.653423, 77.236313], [28.652576, 77.236366], [28.651981, 77.236534], [28.651302, 77.236755], [28.651094, 77.2369], [28.650045, 77.237686], [28.650045, 77.237686], [28.649233, 77.238297], [28.648329, 77.239166], [28.647608, 77.239456], [28.640823, 77.240334], [28.640528, 77.240425], [28.640528, 77.240425], [28.64012, 77.240562], [28.639221, 77.240807], [28.638542, 77.241028], [28.637865, 77.241226], [28.637211, 77.241302], [28.636002, 77.24128], [28.628191, 77.241074], [28.628191, 77.241074], [28.627918, 77.241035], [28.627497, 77.240845], [28.627054, 77.240433], [28.626484, 77.239662], [28.626122, 77.239075], [28.625708, 77.238319], [28.625473, 77.237617], [28.625364, 77.236679], [28.625492, 77.234192], [28.625492, 77.234192], [28.627817, 77.218956], [28.627817, 77.218956], [28.61587, 77.212364], [28.61587, 77.212364], [28.614807, 77.212456], [28.614531, 77.212555], [28.61425, 77.212761], [28.605152, 77.224586], [28.602264, 77.229141], [28.602264, 77.229141], [28.601818, 77.229843], [28.601532, 77.230186], [28.595356, 77.231705], [28.590891, 77.233147], [28.590517, 77.233238], [28.590517, 77.233238], [28.588249, 77.23381], [28.587498, 77.23439], [28.58494, 77.237961], [28.584526, 77.238312], [28.583355, 77.23925], [28.58304, 77.239349], [28.58304, 77.239349], [28.570898, 77.233101], [28.570898, 77.233101], [28.564405, 77.23423], [28.564405, 77.23423], [28.554617, 77.239738], [28.554617, 77.239738], [28.551441, 77.25174], [28.551441, 77.25174], [28.551455, 77.252258], [28.55154, 77.253044], [28.551714, 77.254066], [28.551794, 77.254417], [28.551899, 77.254959], [28.551962, 77.255508], [28.551941, 77.256035], [28.551867, 77.256454], [28.551758, 77.256889], [28.551544, 77.257309], [28.551142, 77.257874], [28.550848, 77.258171], [28.550037, 77.25872], [28.549496, 77.259109], [28.549496, 77.259109], [28.549049, 77.259544], [28.548326, 77.260315], [28.547417, 77.261673], [28.546707, 77.262856], [28.546324, 77.263344], [28.545923, 77.263664], [28.544376, 77.264267], [28.544376, 77.264267], [28.542244, 77.265228], [28.541687, 77.265488], [28.541428, 77.26564], [28.541115, 77.265923], [28.540911, 77.266151], [28.540718, 77.266434], [28.540529, 77.266792], [28.54039, 77.267159], [28.540293, 77.267555], [28.540232, 77.268036], [28.54023, 77.268555], [28.540289, 77.268959], [28.540398, 77.269333], [28.541002, 77.270691], [28.541927, 77.273026], [28.542152, 77.273537], [28.543282, 77.275665], [28.543282, 77.275665], [28.538084, 77.285538], [28.538084, 77.285538], [28.528605, 77.288399], [28.528605, 77.288399], [28.527803, 77.288849], [28.527206, 77.289429], [28.526123, 77.290649], [28.525759, 77.291023], [28.525406, 77.291374], [28.52511, 77.291649], [28.524748, 77.291916], [28.522152, 77.293236], [28.520897, 77.293854], [28.520441, 77.294136], [28.519701, 77.29454], [28.519701, 77.29454], [28.518751, 77.294922], [28.518137, 77.295151], [28.51692, 77.295662], [28.515501, 77.296227], [28.514328, 77.296745], [28.508617, 77.299103], [28.506409, 77.300102], [28.506157, 77.300186], [28.505905, 77.300247], [28.505629, 77.300285], [28.50535, 77.300285], [28.505013, 77.300247], [28.504316, 77.300003], [28.502377, 77.299187], [28.502377, 77.299187], [28.4932, 77.30085], [28.4932, 77.30085], [28.47797, 77.304916], [28.47797, 77.304916], [28.462435, 77.305252], [28.462435, 77.305252], [28.44862, 77.308098], [28.44862, 77.308098], [28.440586, 77.305992], [28.440586, 77.305992], [28.42271, 77.310318], [28.42271, 77.310318], [28.416553, 77.310852], [28.415279, 77.310944], [28.413368, 77.311203], [28.412468, 77.311287], [28.412174, 77.311302], [28.412174, 77.311302], [28.400707, 77.309105], [28.400707, 77.309105], [28.386362, 77.298782], [28.386362, 77.298782], [28.370232, 77.314865], [28.370232, 77.314865], [28.368078, 77.315025], [28.366817, 77.315155], [28.363749, 77.315399], [28.361563, 77.31559], [28.354649, 77.31617], [28.354649, 77.31617], [28.339899, 77.331657]],\n",
       "                {&quot;bubblingMouseEvents&quot;: true, &quot;color&quot;: &quot;blue&quot;, &quot;dashArray&quot;: null, &quot;dashOffset&quot;: null, &quot;fill&quot;: false, &quot;fillColor&quot;: &quot;blue&quot;, &quot;fillOpacity&quot;: 0.2, &quot;fillRule&quot;: &quot;evenodd&quot;, &quot;lineCap&quot;: &quot;round&quot;, &quot;lineJoin&quot;: &quot;round&quot;, &quot;noClip&quot;: false, &quot;opacity&quot;: 0.7, &quot;smoothFactor&quot;: 1.0, &quot;stroke&quot;: true, &quot;weight&quot;: 2.5}\n",
       "            ).addTo(map_e72b66969ac0eee53d392bc950de994e);\n",
       "        \n",
       "    \n",
       "            var poly_line_e2686de728e9e9809e81ab0ebd099cd7 = L.polyline(\n",
       "                [[28.552322, 77.056198], [28.565706, 77.064896], [28.565706, 77.064896], [28.574263, 77.065308], [28.574263, 77.065308], [28.575247, 77.064644], [28.575857, 77.064194], [28.576361, 77.063789], [28.576923, 77.063263], [28.577358, 77.062767], [28.57799, 77.062004], [28.578463, 77.061363], [28.581039, 77.057487], [28.581039, 77.057487], [28.58643, 77.049423], [28.58643, 77.049423], [28.589029, 77.045471], [28.592218, 77.040718], [28.592218, 77.040718], [28.596992, 77.033524], [28.596992, 77.033524], [28.601267, 77.027168], [28.602203, 77.025963], [28.602203, 77.025963], [28.602556, 77.025551], [28.603048, 77.025085], [28.604055, 77.0242], [28.605062, 77.023361], [28.60582, 77.022873], [28.606897, 77.022316], [28.607872, 77.022003], [28.609299, 77.021774], [28.610395, 77.021767], [28.611441, 77.02179], [28.61207, 77.021881], [28.612741, 77.022034], [28.614084, 77.02243], [28.614943, 77.022743], [28.614943, 77.022743], [28.616684, 77.023209], [28.617331, 77.023399], [28.617832, 77.023636], [28.618248, 77.023933], [28.618599, 77.024277], [28.618849, 77.024635], [28.619045, 77.024986], [28.619238, 77.025467], [28.619354, 77.026047], [28.619368, 77.02655], [28.619087, 77.030243], [28.619078, 77.03054], [28.619085, 77.03093], [28.619114, 77.031471], [28.619331, 77.033279], [28.619331, 77.033279], [28.619707, 77.035545], [28.62005, 77.037872], [28.620193, 77.038895], [28.620327, 77.040291], [28.620329, 77.041229], [28.620291, 77.041916], [28.620213, 77.043007], [28.620199, 77.043388], [28.620213, 77.043976], [28.620296, 77.045074], [28.620296, 77.045074], [28.62056, 77.046974], [28.620667, 77.047928], [28.620853, 77.049423], [28.621029, 77.05101], [28.62129, 77.052902], [28.621777, 77.05571], [28.621777, 77.05571], [28.622015, 77.056664], [28.622259, 77.0578], [28.6224, 77.058372], [28.622746, 77.059662], [28.622932, 77.06031], [28.623325, 77.061417], [28.6241, 77.063347], [28.6241, 77.063347], [28.624868, 77.065277], [28.625643, 77.067337], [28.626289, 77.069092], [28.627052, 77.071022], [28.627817, 77.073036], [28.628057, 77.073654], [28.62821, 77.074165], [28.628328, 77.074638], [28.628479, 77.075157], [28.628714, 77.075783], [28.629087, 77.076683], [28.629602, 77.078072], [28.629602, 77.078072], [28.630377, 77.079849], [28.630747, 77.080727], [28.631262, 77.082191], [28.632, 77.08403], [28.632704, 77.085815], [28.633026, 77.086708], [28.633026, 77.086708], [28.634007, 77.089287], [28.634527, 77.091187], [28.63485, 77.092049], [28.635307, 77.09301], [28.635649, 77.09375], [28.635958, 77.094666], [28.636242, 77.095589], [28.636564, 77.096458], [28.636564, 77.096458], [28.636816, 77.097023], [28.637127, 77.097687], [28.637711, 77.098846], [28.638155, 77.099617], [28.638823, 77.100739], [28.639046, 77.101295], [28.639482, 77.102486], [28.639671, 77.102997], [28.639671, 77.102997], [28.640501, 77.105217], [28.640974, 77.106384], [28.641848, 77.108345], [28.64242, 77.10965], [28.642851, 77.110817], [28.643158, 77.111626], [28.643457, 77.112244], [28.643764, 77.112846], [28.643764, 77.112846], [28.644955, 77.114876], [28.645546, 77.115761], [28.646545, 77.117149], [28.647022, 77.117912], [28.647379, 77.118561], [28.64768, 77.119247], [28.649075, 77.122719], [28.649075, 77.122719], [28.649546, 77.123695], [28.650566, 77.125572], [28.651518, 77.127182], [28.651749, 77.127724], [28.651901, 77.128258], [28.652765, 77.131645], [28.652765, 77.131645], [28.653175, 77.133232], [28.653379, 77.133995], [28.653488, 77.134377], [28.653622, 77.134727], [28.653761, 77.135071], [28.654222, 77.135765], [28.654945, 77.137238], [28.657032, 77.140923], [28.657032, 77.140923], [28.655773, 77.148499], [28.655773, 77.148499], [28.65143, 77.156021], [28.65143, 77.156021], [28.645037, 77.167046], [28.645037, 77.167046], [28.64241, 77.191833], [28.64241, 77.191833], [28.64399, 77.18853], [28.64399, 77.18853], [28.644489, 77.192276], [28.645151, 77.196556], [28.645218, 77.197227], [28.645151, 77.197899], [28.644918, 77.198593], [28.6443, 77.199905], [28.6443, 77.199905], [28.639217, 77.206291], [28.639217, 77.206291], [28.632759, 77.219688], [28.632759, 77.219688], [28.632254, 77.220619], [28.629782, 77.224945], [28.629782, 77.224945], [28.626026, 77.2314], [28.625727, 77.232246], [28.625591, 77.234192], [28.625591, 77.234192], [28.625391, 77.238754], [28.625309, 77.239761], [28.625212, 77.240112], [28.625051, 77.240578], [28.624626, 77.241257], [28.623455, 77.242516], [28.623455, 77.242516], [28.622442, 77.243599], [28.621811, 77.244301], [28.6215, 77.244873], [28.621334, 77.245331], [28.621248, 77.245735], [28.621088, 77.247269], [28.620972, 77.247841], [28.620583, 77.249542], [28.620583, 77.249542], [28.620247, 77.251312], [28.620115, 77.252174], [28.620087, 77.252686], [28.620159, 77.253555], [28.62042, 77.255554], [28.621056, 77.260803], [28.621214, 77.261848], [28.621416, 77.262886], [28.62163, 77.263611], [28.622284, 77.265343], [28.622509, 77.265984], [28.622847, 77.267128], [28.623114, 77.267899], [28.623114, 77.267899], [28.623446, 77.268837], [28.623663, 77.269524], [28.624449, 77.27166], [28.624569, 77.272102], [28.624619, 77.272491], [28.624638, 77.272812], [28.624624, 77.273193], [28.624578, 77.273529], [28.624512, 77.273811], [28.624376, 77.27417], [28.624201, 77.274498], [28.624025, 77.274773], [28.623842, 77.275002], [28.623615, 77.275223], [28.623388, 77.275414], [28.62289, 77.275795], [28.618694, 77.278862], [28.61788, 77.279526], [28.61788, 77.279526], [28.617207, 77.279999], [28.616854, 77.280281], [28.616571, 77.280563], [28.616283, 77.280907], [28.615959, 77.28138], [28.615711, 77.281731], [28.61544, 77.282051], [28.615177, 77.282303], [28.614876, 77.282547], [28.612581, 77.284172], [28.61186, 77.284714], [28.610285, 77.286026], [28.609699, 77.28653], [28.608942, 77.287056], [28.608425, 77.287392], [28.607784, 77.287682], [28.60605, 77.288513], [28.604055, 77.28952], [28.604055, 77.28952], [28.60359, 77.289742], [28.603292, 77.289871], [28.603016, 77.290024], [28.60256, 77.290237], [28.60017, 77.291534], [28.598858, 77.292175], [28.59667, 77.293304], [28.596476, 77.293396], [28.594467, 77.294426], [28.594467, 77.294426], [28.592632, 77.29541], [28.592272, 77.295639], [28.591669, 77.296021], [28.590334, 77.296921], [28.590084, 77.297119], [28.589878, 77.29734], [28.589643, 77.297668], [28.589437, 77.298027], [28.589317, 77.298325], [28.589207, 77.298691], [28.58913, 77.299133], [28.589109, 77.299629], [28.589106, 77.301582], [28.589106, 77.301582], [28.589115, 77.303162], [28.589161, 77.306999], [28.589149, 77.307442], [28.589119, 77.30777], [28.589058, 77.308083], [28.589016, 77.308243], [28.588911, 77.308548], [28.588842, 77.308708], [28.588762, 77.308868], [28.588676, 77.309021], [28.588583, 77.309166], [28.588482, 77.309303], [28.588373, 77.309441], [28.588257, 77.309563], [28.588137, 77.309677], [28.588009, 77.309792], [28.587875, 77.309891], [28.587738, 77.309982], [28.586094, 77.310905], [28.584927, 77.311684], [28.584927, 77.311684], [28.582708, 77.313225], [28.582293, 77.31356], [28.581848, 77.314003], [28.580042, 77.315887], [28.578106, 77.317833], [28.578106, 77.317833], [28.577494, 77.318535], [28.576509, 77.319717], [28.574427, 77.322105], [28.574015, 77.322678], [28.573542, 77.323219], [28.57081, 77.326126], [28.57081, 77.326126], [28.569572, 77.327423], [28.568638, 77.328453], [28.567585, 77.329781], [28.566179, 77.331848], [28.565281, 77.332977], [28.563921, 77.334381], [28.563921, 77.334381], [28.562668, 77.335716], [28.562563, 77.335854], [28.562464, 77.335991], [28.562372, 77.336136], [28.562288, 77.336296], [28.562212, 77.336449], [28.562145, 77.336617], [28.562084, 77.336784], [28.561991, 77.337128], [28.561956, 77.337303], [28.561932, 77.337479], [28.561916, 77.337662], [28.561909, 77.337837], [28.561911, 77.33802], [28.56192, 77.338203], [28.561941, 77.338379], [28.56197, 77.338554], [28.562008, 77.33873], [28.562054, 77.338905], [28.562109, 77.339073], [28.562172, 77.339241], [28.562243, 77.339401], [28.562323, 77.339554], [28.562408, 77.339706], [28.562504, 77.339851], [28.565281, 77.343613], [28.567427, 77.346397], [28.567427, 77.346397], [28.571815, 77.352219], [28.574785, 77.356247], [28.574785, 77.356247], [28.577576, 77.360046], [28.580227, 77.363518], [28.580227, 77.363518], [28.582401, 77.366447], [28.585533, 77.370575], [28.585779, 77.370972], [28.586212, 77.371758], [28.586847, 77.373039], [28.586847, 77.373039], [28.587259, 77.373802], [28.587433, 77.374092], [28.587566, 77.37426], [28.587687, 77.37439], [28.587812, 77.374512], [28.587946, 77.374619], [28.588083, 77.374725], [28.588226, 77.374817], [28.588373, 77.374901], [28.588524, 77.374969], [28.58868, 77.375031], [28.588837, 77.375084], [28.588997, 77.37513], [28.589159, 77.37516], [28.589314, 77.375175], [28.58947, 77.375191], [28.589624, 77.375183], [28.589779, 77.375175], [28.589933, 77.375153], [28.590088, 77.37513], [28.590239, 77.375084], [28.590387, 77.375038], [28.590534, 77.374977], [28.590677, 77.374908], [28.590818, 77.374832], [28.590954, 77.374748], [28.591085, 77.374657], [28.591799, 77.374054], [28.592381, 77.373604], [28.592655, 77.373413], [28.592924, 77.37326], [28.593254, 77.373116], [28.595516, 77.372353], [28.595819, 77.372299], [28.59627, 77.372253], [28.59687, 77.372261], [28.59758, 77.372307], [28.59758, 77.372307], [28.602982, 77.372566], [28.606525, 77.372719], [28.609097, 77.372841], [28.609097, 77.372841], [28.609514, 77.372871], [28.610172, 77.372925], [28.615292, 77.373444], [28.616983, 77.373619], [28.616983, 77.373619], [28.617889, 77.37368], [28.622513, 77.374153], [28.623722, 77.37426], [28.624878, 77.374527], [28.625626, 77.374847], [28.626305, 77.374939], [28.62826, 77.375046]],\n",
       "                {&quot;bubblingMouseEvents&quot;: true, &quot;color&quot;: &quot;blue&quot;, &quot;dashArray&quot;: null, &quot;dashOffset&quot;: null, &quot;fill&quot;: false, &quot;fillColor&quot;: &quot;blue&quot;, &quot;fillOpacity&quot;: 0.2, &quot;fillRule&quot;: &quot;evenodd&quot;, &quot;lineCap&quot;: &quot;round&quot;, &quot;lineJoin&quot;: &quot;round&quot;, &quot;noClip&quot;: false, &quot;opacity&quot;: 0.7, &quot;smoothFactor&quot;: 1.0, &quot;stroke&quot;: true, &quot;weight&quot;: 2.5}\n",
       "            ).addTo(map_e72b66969ac0eee53d392bc950de994e);\n",
       "        \n",
       "    \n",
       "            var poly_line_979cb49fb70a4db6ed34a1d57d5b081b = L.polyline(\n",
       "                [[28.498968, 77.412857], [28.499722, 77.410889], [28.500267, 77.409691], [28.500544, 77.409233], [28.501028, 77.408806], [28.501711, 77.408516], [28.502487, 77.408417], [28.502872, 77.408455], [28.503237, 77.408478], [28.503624, 77.40844], [28.504265, 77.40815], [28.504541, 77.40799], [28.506504, 77.406609], [28.510788, 77.403625], [28.510788, 77.403625], [28.513422, 77.401802], [28.514063, 77.401413], [28.515181, 77.400856], [28.517183, 77.399834], [28.519144, 77.398796], [28.520643, 77.397903], [28.521198, 77.397545], [28.521551, 77.397217], [28.522295, 77.396461], [28.522295, 77.396461], [28.522972, 77.395737], [28.523512, 77.395287], [28.523897, 77.395042], [28.524342, 77.394875], [28.525303, 77.394943], [28.52603, 77.395226], [28.52647, 77.395363], [28.526852, 77.39547], [28.52964, 77.395111], [28.532415, 77.394783], [28.532415, 77.394783], [28.534136, 77.394585], [28.540438, 77.394463], [28.540625, 77.394417], [28.540785, 77.394333], [28.54211, 77.393089], [28.542461, 77.392815], [28.544031, 77.391876], [28.544485, 77.39164], [28.544966, 77.391495], [28.54661, 77.391045], [28.547766, 77.390709], [28.548222, 77.390526], [28.548691, 77.39032], [28.549316, 77.389969], [28.549316, 77.389969], [28.54961, 77.389809], [28.550943, 77.389107], [28.551167, 77.388977], [28.551731, 77.388588], [28.553337, 77.386887], [28.553873, 77.386398], [28.554977, 77.385681], [28.555199, 77.385544], [28.556068, 77.384972], [28.556068, 77.384972], [28.561342, 77.381477], [28.56275, 77.380531], [28.563297, 77.380173], [28.563505, 77.380066], [28.564129, 77.379875], [28.564564, 77.379822], [28.56534, 77.379684], [28.56534, 77.379684], [28.569965, 77.37899], [28.572836, 77.37851], [28.574362, 77.378258], [28.574362, 77.378258], [28.575861, 77.378044], [28.578535, 77.37764], [28.579737, 77.377396], [28.58173, 77.376862], [28.582121, 77.376678], [28.583574, 77.375954], [28.584236, 77.37574], [28.585726, 77.37529]],\n",
       "                {&quot;bubblingMouseEvents&quot;: true, &quot;color&quot;: &quot;blue&quot;, &quot;dashArray&quot;: null, &quot;dashOffset&quot;: null, &quot;fill&quot;: false, &quot;fillColor&quot;: &quot;blue&quot;, &quot;fillOpacity&quot;: 0.2, &quot;fillRule&quot;: &quot;evenodd&quot;, &quot;lineCap&quot;: &quot;round&quot;, &quot;lineJoin&quot;: &quot;round&quot;, &quot;noClip&quot;: false, &quot;opacity&quot;: 0.7, &quot;smoothFactor&quot;: 1.0, &quot;stroke&quot;: true, &quot;weight&quot;: 2.5}\n",
       "            ).addTo(map_e72b66969ac0eee53d392bc950de994e);\n",
       "        \n",
       "    \n",
       "            var poly_line_b25eaea53fc797319763aa582f5d87cd = L.polyline(\n",
       "                [[28.585726, 77.37529], [28.584236, 77.37574], [28.583574, 77.375954], [28.582121, 77.376678], [28.58173, 77.376862], [28.579737, 77.377396], [28.578535, 77.37764], [28.575861, 77.378044], [28.574362, 77.378258], [28.574362, 77.378258], [28.572836, 77.37851], [28.569965, 77.37899], [28.56534, 77.379684], [28.56534, 77.379684], [28.564564, 77.379822], [28.564129, 77.379875], [28.563505, 77.380066], [28.563297, 77.380173], [28.56275, 77.380531], [28.561342, 77.381477], [28.556068, 77.384972], [28.556068, 77.384972], [28.555199, 77.385544], [28.554977, 77.385681], [28.553873, 77.386398], [28.553337, 77.386887], [28.551731, 77.388588], [28.551167, 77.388977], [28.550943, 77.389107], [28.54961, 77.389809], [28.549316, 77.389969], [28.549316, 77.389969], [28.548691, 77.39032], [28.548222, 77.390526], [28.547766, 77.390709], [28.54661, 77.391045], [28.544966, 77.391495], [28.544485, 77.39164], [28.544031, 77.391876], [28.542461, 77.392815], [28.54211, 77.393089], [28.540785, 77.394333], [28.540625, 77.394417], [28.540438, 77.394463], [28.534136, 77.394585], [28.532415, 77.394783], [28.532415, 77.394783], [28.52964, 77.395111], [28.526852, 77.39547], [28.52647, 77.395363], [28.52603, 77.395226], [28.525303, 77.394943], [28.524342, 77.394875], [28.523897, 77.395042], [28.523512, 77.395287], [28.522972, 77.395737], [28.522295, 77.396461], [28.522295, 77.396461], [28.521551, 77.397217], [28.521198, 77.397545], [28.520643, 77.397903], [28.519144, 77.398796], [28.517183, 77.399834], [28.515181, 77.400856], [28.514063, 77.401413], [28.513422, 77.401802], [28.510788, 77.403625], [28.510788, 77.403625], [28.506504, 77.406609], [28.504541, 77.40799], [28.504265, 77.40815], [28.503624, 77.40844], [28.503237, 77.408478], [28.502872, 77.408455], [28.502487, 77.408417], [28.501711, 77.408516], [28.501028, 77.408806], [28.500544, 77.409233], [28.500267, 77.409691], [28.499722, 77.410889], [28.498968, 77.412857]],\n",
       "                {&quot;bubblingMouseEvents&quot;: true, &quot;color&quot;: &quot;blue&quot;, &quot;dashArray&quot;: null, &quot;dashOffset&quot;: null, &quot;fill&quot;: false, &quot;fillColor&quot;: &quot;blue&quot;, &quot;fillOpacity&quot;: 0.2, &quot;fillRule&quot;: &quot;evenodd&quot;, &quot;lineCap&quot;: &quot;round&quot;, &quot;lineJoin&quot;: &quot;round&quot;, &quot;noClip&quot;: false, &quot;opacity&quot;: 0.7, &quot;smoothFactor&quot;: 1.0, &quot;stroke&quot;: true, &quot;weight&quot;: 2.5}\n",
       "            ).addTo(map_e72b66969ac0eee53d392bc950de994e);\n",
       "        \n",
       "    \n",
       "            var poly_line_428105678da589d36c1d054e0cb597dd = L.polyline(\n",
       "                [[28.498968, 77.412857], [28.497831, 77.415604], [28.49732, 77.416733], [28.495819, 77.419991], [28.49544, 77.420685], [28.494841, 77.421616], [28.494282, 77.422394], [28.494282, 77.422394], [28.490328, 77.427315], [28.488211, 77.430336], [28.487667, 77.431259], [28.486313, 77.43309], [28.486313, 77.43309], [28.484623, 77.435219], [28.483387, 77.436974], [28.481709, 77.439293], [28.481234, 77.439926], [28.480556, 77.44072], [28.479021, 77.442421], [28.479021, 77.442421], [28.476748, 77.444954], [28.475901, 77.445869], [28.475111, 77.446663], [28.473392, 77.44828], [28.472908, 77.448883], [28.472507, 77.449455], [28.46937, 77.454269], [28.468782, 77.455215], [28.468782, 77.455215], [28.468544, 77.455536], [28.46751, 77.457245], [28.466709, 77.458313], [28.465511, 77.459602], [28.463501, 77.461464], [28.461901, 77.463348], [28.459314, 77.466171], [28.459314, 77.466171], [28.458054, 77.467461], [28.456886, 77.468872], [28.456255, 77.469589], [28.455, 77.470909], [28.453642, 77.472168], [28.452103, 77.473518], [28.450949, 77.474472], [28.44808, 77.476624], [28.44808, 77.476624], [28.446924, 77.477463], [28.446495, 77.477829], [28.445946, 77.478401], [28.445494, 77.479057], [28.44523, 77.479546], [28.44507, 77.47995], [28.44496, 77.480263], [28.444851, 77.480606], [28.444761, 77.480995], [28.444685, 77.481453], [28.444649, 77.481827], [28.444635, 77.482346], [28.444672, 77.482887], [28.44475, 77.483467], [28.444864, 77.483971], [28.445034, 77.484482], [28.445232, 77.484947], [28.445431, 77.485336], [28.445652, 77.485703], [28.446638, 77.487083], [28.447495, 77.488235], [28.449495, 77.490646], [28.449942, 77.491096], [28.450794, 77.491928], [28.451468, 77.492653], [28.452223, 77.493629], [28.452583, 77.494125], [28.453423, 77.495415], [28.455198, 77.497665], [28.456478, 77.499542], [28.457052, 77.500305], [28.457052, 77.500305], [28.458565, 77.50222], [28.460886, 77.505219], [28.463413, 77.508339], [28.463413, 77.508339], [28.464491, 77.509727], [28.464689, 77.509949], [28.464897, 77.510109], [28.465067, 77.510208], [28.465244, 77.510292], [28.465391, 77.51033], [28.465595, 77.510361], [28.465826, 77.510368], [28.466026, 77.510345], [28.466244, 77.510277], [28.466511, 77.510139], [28.466707, 77.509987], [28.467184, 77.509575], [28.467379, 77.509445], [28.467634, 77.509315], [28.467867, 77.509262], [28.468142, 77.509239], [28.468321, 77.509247], [28.468523, 77.509285], [28.468748, 77.509369], [28.468874, 77.50943], [28.469093, 77.50959], [28.469191, 77.509674], [28.469355, 77.509842], [28.469505, 77.510048], [28.47105, 77.512711], [28.47105, 77.512711], [28.478491, 77.525696], [28.478491, 77.525696], [28.484701, 77.536484], [28.484701, 77.536484], [28.489029, 77.543983]],\n",
       "                {&quot;bubblingMouseEvents&quot;: true, &quot;color&quot;: &quot;blue&quot;, &quot;dashArray&quot;: null, &quot;dashOffset&quot;: null, &quot;fill&quot;: false, &quot;fillColor&quot;: &quot;blue&quot;, &quot;fillOpacity&quot;: 0.2, &quot;fillRule&quot;: &quot;evenodd&quot;, &quot;lineCap&quot;: &quot;round&quot;, &quot;lineJoin&quot;: &quot;round&quot;, &quot;noClip&quot;: false, &quot;opacity&quot;: 0.7, &quot;smoothFactor&quot;: 1.0, &quot;stroke&quot;: true, &quot;weight&quot;: 2.5}\n",
       "            ).addTo(map_e72b66969ac0eee53d392bc950de994e);\n",
       "        \n",
       "    \n",
       "            var poly_line_7decb18e2cf1b60d40ae85d33fd29781 = L.polyline(\n",
       "                [[28.512594, 77.185875], [28.511543, 77.184303], [28.509539, 77.180237], [28.509375, 77.179871], [28.50927, 77.179497], [28.509167, 77.17894], [28.509027, 77.177673], [28.508978, 77.177452], [28.508928, 77.177292], [28.508863, 77.177124], [28.508678, 77.17672], [28.508575, 77.176537], [28.508505, 77.17643], [28.508369, 77.176262], [28.508215, 77.176094], [28.507732, 77.175644], [28.506741, 77.17498], [28.506592, 77.174858], [28.506592, 77.174858], [28.504885, 77.173447], [28.504271, 77.172768], [28.504187, 77.172623], [28.50411, 77.17247], [28.503729, 77.171768], [28.501726, 77.167114], [28.49971, 77.162811], [28.499508, 77.162331], [28.499146, 77.161369], [28.499146, 77.161369], [28.498764, 77.160355], [28.498455, 77.159637], [28.497009, 77.156364], [28.494364, 77.150436], [28.493776, 77.14917], [28.493776, 77.14917], [28.492638, 77.146545], [28.492096, 77.145203], [28.491026, 77.142143], [28.490578, 77.141327], [28.489418, 77.138992], [28.487669, 77.135223], [28.486706, 77.133369], [28.485138, 77.131416], [28.48402, 77.13031], [28.482063, 77.127502], [28.481091, 77.126221], [28.480757, 77.125748], [28.480757, 77.125748], [28.47978, 77.12439], [28.479307, 77.123779], [28.478941, 77.123032], [28.47884, 77.12265], [28.478783, 77.122223], [28.478804, 77.121635], [28.478931, 77.120987], [28.479185, 77.120384], [28.480017, 77.119141], [28.480602, 77.118225], [28.480803, 77.117752], [28.48097, 77.117035], [28.481188, 77.115982], [28.481396, 77.114876], [28.481539, 77.114204], [28.481619, 77.113594], [28.481611, 77.113129], [28.481581, 77.112373], [28.481546, 77.111771], [28.48156, 77.111244], [28.481602, 77.110992], [28.481691, 77.110603], [28.481819, 77.110237], [28.482046, 77.109772], [28.482327, 77.10923], [28.482422, 77.108994], [28.482569, 77.108528], [28.482624, 77.108223], [28.482656, 77.107941], [28.482662, 77.107628], [28.482647, 77.1073], [28.482553, 77.106766], [28.482317, 77.105713], [28.482231, 77.105156], [28.482172, 77.104355], [28.482172, 77.103271], [28.482046, 77.102219], [28.482046, 77.102219], [28.481932, 77.101212], [28.481869, 77.100471], [28.481905, 77.099846], [28.482046, 77.098564], [28.482094, 77.097961], [28.482101, 77.09742], [28.482042, 77.096848], [28.481941, 77.095993], [28.481813, 77.095192], [28.481642, 77.094406], [28.481298, 77.09301], [28.481298, 77.09301], [28.481024, 77.091583], [28.480852, 77.09079], [28.480652, 77.089439], [28.480589, 77.088966], [28.480639, 77.08831], [28.480696, 77.087761], [28.480606, 77.086815], [28.479588, 77.07988], [28.479588, 77.07988], [28.478628, 77.074249], [28.478559, 77.073959], [28.47847, 77.073677], [28.478363, 77.073418], [28.478178, 77.073074], [28.477886, 77.072708], [28.477468, 77.072319], [28.477003, 77.072083], [28.47654, 77.071938], [28.475864, 77.071861], [28.472324, 77.072388], [28.472324, 77.072388], [28.462107, 77.073853], [28.461836, 77.073883], [28.461544, 77.073883], [28.461264, 77.073845], [28.461012, 77.073792], [28.460823, 77.073723], [28.460644, 77.073647], [28.460487, 77.07357], [28.46032, 77.073456], [28.460171, 77.073341], [28.459364, 77.072639]],\n",
       "                {&quot;bubblingMouseEvents&quot;: true, &quot;color&quot;: &quot;blue&quot;, &quot;dashArray&quot;: null, &quot;dashOffset&quot;: null, &quot;fill&quot;: false, &quot;fillColor&quot;: &quot;blue&quot;, &quot;fillOpacity&quot;: 0.2, &quot;fillRule&quot;: &quot;evenodd&quot;, &quot;lineCap&quot;: &quot;round&quot;, &quot;lineJoin&quot;: &quot;round&quot;, &quot;noClip&quot;: false, &quot;opacity&quot;: 0.7, &quot;smoothFactor&quot;: 1.0, &quot;stroke&quot;: true, &quot;weight&quot;: 2.5}\n",
       "            ).addTo(map_e72b66969ac0eee53d392bc950de994e);\n",
       "        \n",
       "    \n",
       "            var poly_line_ea1c44e52c0d1396001a0350f6eb70b2 = L.polyline(\n",
       "                [[28.494064, 77.093971], [28.496742, 77.095657], [28.49802, 77.096405], [28.498369, 77.096581], [28.498623, 77.096664], [28.49889, 77.096687], [28.499191, 77.096634], [28.499372, 77.09655], [28.499493, 77.096474], [28.499828, 77.096161], [28.500296, 77.095413], [28.501034, 77.094208], [28.501034, 77.094208], [28.501278, 77.093803], [28.501387, 77.093506], [28.50144, 77.093269], [28.50145, 77.092896], [28.5014, 77.092644], [28.501324, 77.092354], [28.501211, 77.09214], [28.501047, 77.091942], [28.500324, 77.091248], [28.498573, 77.089622], [28.498062, 77.089157], [28.498062, 77.089157], [28.495832, 77.086998], [28.495605, 77.0868], [28.495407, 77.086685], [28.495134, 77.086601], [28.494854, 77.086578], [28.494698, 77.086594], [28.494492, 77.086655], [28.494122, 77.086861], [28.493837, 77.087051], [28.49325, 77.08754], [28.493008, 77.08773], [28.492846, 77.087822], [28.492666, 77.087898], [28.492367, 77.08799], [28.491703, 77.088135], [28.491703, 77.088135], [28.491167, 77.088264], [28.490744, 77.088387], [28.490536, 77.088493], [28.490259, 77.088684], [28.490005, 77.088951], [28.489555, 77.089676], [28.489, 77.090523], [28.488482, 77.09137], [28.488234, 77.091797], [28.487989, 77.092194], [28.487793, 77.092537], [28.487793, 77.092537], [28.487541, 77.092972], [28.486656, 77.094398], [28.486441, 77.094704], [28.486252, 77.094925], [28.486109, 77.095039], [28.485924, 77.095131], [28.485718, 77.095207], [28.485548, 77.09523], [28.485048, 77.095215], [28.484066, 77.09507], [28.482706, 77.094856], [28.482527, 77.094826], [28.482069, 77.094696], [28.480999, 77.094421], [28.480999, 77.094421], [28.480999, 77.094421], [28.480999, 77.094421], [28.479343, 77.093941], [28.478853, 77.093834], [28.478155, 77.093803], [28.472815, 77.093925], [28.471981, 77.093933], [28.471981, 77.093933], [28.471426, 77.093941], [28.470964, 77.093933], [28.470421, 77.093941], [28.469864, 77.094002], [28.46928, 77.094093], [28.463591, 77.095139], [28.462643, 77.095398], [28.462145, 77.09552], [28.460264, 77.096077], [28.458412, 77.096634], [28.458412, 77.096634], [28.457422, 77.096931], [28.4534, 77.098068], [28.447769, 77.100029], [28.447428, 77.100128], [28.447428, 77.100128], [28.443752, 77.101212], [28.443159, 77.101418], [28.44084, 77.102287], [28.437498, 77.103523], [28.434137, 77.104538], [28.434137, 77.104538], [28.432259, 77.105103], [28.431517, 77.105286], [28.430679, 77.105324], [28.427378, 77.10527], [28.424585, 77.105194]],\n",
       "                {&quot;bubblingMouseEvents&quot;: true, &quot;color&quot;: &quot;blue&quot;, &quot;dashArray&quot;: null, &quot;dashOffset&quot;: null, &quot;fill&quot;: false, &quot;fillColor&quot;: &quot;blue&quot;, &quot;fillOpacity&quot;: 0.2, &quot;fillRule&quot;: &quot;evenodd&quot;, &quot;lineCap&quot;: &quot;round&quot;, &quot;lineJoin&quot;: &quot;round&quot;, &quot;noClip&quot;: false, &quot;opacity&quot;: 0.7, &quot;smoothFactor&quot;: 1.0, &quot;stroke&quot;: true, &quot;weight&quot;: 2.5}\n",
       "            ).addTo(map_e72b66969ac0eee53d392bc950de994e);\n",
       "        \n",
       "    \n",
       "            var poly_line_c9f0cba512431fbab14bf0396ccca006 = L.polyline(\n",
       "                [[28.512714, 77.185791], [28.520638, 77.199379], [28.520638, 77.199379], [28.529057, 77.204796], [28.529057, 77.204796], [28.529774, 77.204613], [28.530121, 77.20459], [28.532854, 77.205345], [28.535564, 77.206116], [28.538406, 77.206696], [28.542471, 77.206398], [28.544262, 77.20668], [28.544262, 77.20668], [28.546585, 77.206772], [28.547405, 77.206635], [28.548542, 77.205971], [28.549095, 77.20591], [28.551859, 77.205688], [28.555206, 77.206116], [28.556484, 77.206444], [28.55801, 77.206764], [28.559828, 77.207062], [28.559828, 77.207062], [28.561657, 77.207359], [28.563559, 77.207535], [28.566032, 77.20755], [28.566868, 77.207771], [28.567183, 77.207863], [28.56794, 77.208046], [28.568171, 77.208092], [28.568171, 77.208092], [28.574169, 77.209274], [28.574951, 77.209457], [28.575174, 77.209534], [28.575174, 77.209534], [28.583437, 77.212303], [28.583832, 77.212326], [28.584867, 77.212318], [28.586599, 77.212502], [28.587244, 77.212563], [28.587244, 77.212563], [28.58963, 77.212769], [28.591269, 77.212639], [28.597345, 77.211067], [28.597345, 77.211067], [28.611525, 77.210052], [28.611525, 77.210052], [28.615883, 77.21225], [28.615883, 77.21225], [28.616922, 77.212349], [28.621136, 77.212708], [28.621489, 77.212891], [28.622982, 77.214005], [28.622982, 77.214005], [28.625504, 77.21563], [28.62583, 77.215744], [28.627283, 77.215775], [28.627865, 77.216064], [28.631824, 77.218758], [28.63225, 77.218994], [28.632795, 77.219238], [28.632795, 77.219238], [28.633139, 77.219376], [28.633596, 77.219513], [28.63406, 77.219627], [28.643492, 77.222717], [28.643492, 77.222717], [28.649277, 77.226486], [28.649277, 77.226486], [28.656029, 77.230011], [28.656029, 77.230011], [28.656122, 77.230057], [28.65649, 77.230179], [28.658422, 77.230309], [28.659256, 77.230339], [28.663395, 77.230011], [28.665253, 77.229309], [28.667503, 77.228165], [28.667503, 77.228165], [28.6686, 77.227577], [28.669811, 77.227127], [28.671947, 77.226219], [28.672489, 77.226013], [28.673347, 77.225868], [28.674191, 77.225739], [28.675117, 77.22554], [28.675667, 77.225403], [28.676842, 77.224998], [28.676842, 77.224998], [28.67877, 77.224373], [28.679277, 77.224182], [28.679722, 77.223915], [28.680069, 77.223679], [28.680651, 77.223312], [28.681057, 77.223045], [28.681576, 77.222717], [28.681902, 77.222565], [28.68218, 77.222534], [28.682682, 77.222511], [28.686317, 77.221695], [28.687819, 77.221458], [28.687819, 77.221458], [28.694765, 77.212418]],\n",
       "                {&quot;bubblingMouseEvents&quot;: true, &quot;color&quot;: &quot;blue&quot;, &quot;dashArray&quot;: null, &quot;dashOffset&quot;: null, &quot;fill&quot;: false, &quot;fillColor&quot;: &quot;blue&quot;, &quot;fillOpacity&quot;: 0.2, &quot;fillRule&quot;: &quot;evenodd&quot;, &quot;lineCap&quot;: &quot;round&quot;, &quot;lineJoin&quot;: &quot;round&quot;, &quot;noClip&quot;: false, &quot;opacity&quot;: 0.7, &quot;smoothFactor&quot;: 1.0, &quot;stroke&quot;: true, &quot;weight&quot;: 2.5}\n",
       "            ).addTo(map_e72b66969ac0eee53d392bc950de994e);\n",
       "        \n",
       "    \n",
       "            var poly_line_4d5dd72bcac6c68c112c2e48ad00bd30 = L.polyline(\n",
       "                [[28.339899, 77.331657], [28.354649, 77.31617], [28.354649, 77.31617], [28.361563, 77.31559], [28.363749, 77.315399], [28.366817, 77.315155], [28.368078, 77.315025], [28.370232, 77.314865], [28.370232, 77.314865], [28.386362, 77.298782], [28.386362, 77.298782], [28.400707, 77.309105], [28.400707, 77.309105], [28.412174, 77.311302], [28.412174, 77.311302], [28.412468, 77.311287], [28.413368, 77.311203], [28.415279, 77.310944], [28.416553, 77.310852], [28.42271, 77.310318], [28.42271, 77.310318], [28.440586, 77.305992], [28.440586, 77.305992], [28.44862, 77.308098], [28.44862, 77.308098], [28.462435, 77.305252], [28.462435, 77.305252], [28.47797, 77.304916], [28.47797, 77.304916], [28.4932, 77.30085], [28.4932, 77.30085], [28.502377, 77.299187], [28.502377, 77.299187], [28.504316, 77.300003], [28.505013, 77.300247], [28.50535, 77.300285], [28.505629, 77.300285], [28.505905, 77.300247], [28.506157, 77.300186], [28.506409, 77.300102], [28.508617, 77.299103], [28.514328, 77.296745], [28.515501, 77.296227], [28.51692, 77.295662], [28.518137, 77.295151], [28.518751, 77.294922], [28.519701, 77.29454], [28.519701, 77.29454], [28.520441, 77.294136], [28.520897, 77.293854], [28.522152, 77.293236], [28.524748, 77.291916], [28.52511, 77.291649], [28.525406, 77.291374], [28.525759, 77.291023], [28.526123, 77.290649], [28.527206, 77.289429], [28.527803, 77.288849], [28.528605, 77.288399], [28.528605, 77.288399], [28.538084, 77.285538], [28.538084, 77.285538], [28.543238, 77.275696], [28.543238, 77.275696], [28.542109, 77.27356], [28.541882, 77.273048], [28.540958, 77.270714], [28.540352, 77.269356], [28.540241, 77.268974], [28.54018, 77.268555], [28.540182, 77.268028], [28.540245, 77.267548], [28.540344, 77.267143], [28.540487, 77.266762], [28.540678, 77.266403], [28.540874, 77.266121], [28.541082, 77.265877], [28.541401, 77.265594], [28.541666, 77.265434], [28.542225, 77.265175], [28.544359, 77.264214], [28.544359, 77.264214], [28.5459, 77.263611], [28.546289, 77.263306], [28.546667, 77.262825], [28.547377, 77.261642], [28.54829, 77.260277], [28.549017, 77.259506], [28.549461, 77.259071], [28.549461, 77.259071], [28.550011, 77.258667], [28.550819, 77.258125], [28.551105, 77.257835], [28.551298, 77.257568], [28.551502, 77.257271], [28.551712, 77.256866], [28.551817, 77.256447], [28.551891, 77.256027], [28.551912, 77.255508], [28.551849, 77.254967], [28.551746, 77.254433], [28.551664, 77.254082], [28.551491, 77.253059], [28.551405, 77.252258], [28.551392, 77.25174], [28.551392, 77.25174], [28.554617, 77.239738], [28.554617, 77.239738], [28.564405, 77.23423], [28.564405, 77.23423], [28.570898, 77.233101], [28.570898, 77.233101], [28.583036, 77.239288], [28.583036, 77.239288], [28.583334, 77.239197], [28.584496, 77.238266], [28.584906, 77.237923], [28.587463, 77.234352], [28.588228, 77.233757], [28.590504, 77.233185], [28.590504, 77.233185], [28.590879, 77.233093], [28.595345, 77.231651], [28.601507, 77.230133], [28.60178, 77.229805], [28.602224, 77.229111], [28.602224, 77.229111], [28.605112, 77.224556], [28.614218, 77.212715], [28.614508, 77.212509], [28.614796, 77.212402], [28.615877, 77.212303], [28.615877, 77.212303], [28.627817, 77.218956], [28.627817, 77.218956], [28.625542, 77.234192], [28.625542, 77.234192], [28.625414, 77.236679], [28.625523, 77.23761], [28.625753, 77.238297], [28.626163, 77.239044], [28.626524, 77.239632], [28.627089, 77.240395], [28.627522, 77.240799], [28.62793, 77.240982], [28.628195, 77.241013], [28.628195, 77.241013], [28.636002, 77.241219], [28.637209, 77.241249], [28.637856, 77.241173], [28.638529, 77.240974], [28.639208, 77.240753], [28.640108, 77.240501], [28.640511, 77.240372], [28.640511, 77.240372], [28.640814, 77.24028], [28.643696, 77.239906], [28.64418, 77.239876], [28.647596, 77.239403], [28.648304, 77.239113], [28.649202, 77.238251], [28.650017, 77.23764], [28.650017, 77.23764], [28.651068, 77.236855], [28.651281, 77.236702], [28.651968, 77.236481], [28.652569, 77.236313], [28.653423, 77.236259], [28.655861, 77.236465], [28.656563, 77.23658], [28.657484, 77.236633], [28.657484, 77.236633], [28.658831, 77.23671], [28.65959, 77.236496], [28.660395, 77.23597], [28.660902, 77.235649], [28.66111, 77.235405], [28.663746, 77.231522], [28.663958, 77.231339], [28.666374, 77.229721], [28.668659, 77.228027]],\n",
       "                {&quot;bubblingMouseEvents&quot;: true, &quot;color&quot;: &quot;blue&quot;, &quot;dashArray&quot;: null, &quot;dashOffset&quot;: null, &quot;fill&quot;: false, &quot;fillColor&quot;: &quot;blue&quot;, &quot;fillOpacity&quot;: 0.2, &quot;fillRule&quot;: &quot;evenodd&quot;, &quot;lineCap&quot;: &quot;round&quot;, &quot;lineJoin&quot;: &quot;round&quot;, &quot;noClip&quot;: false, &quot;opacity&quot;: 0.7, &quot;smoothFactor&quot;: 1.0, &quot;stroke&quot;: true, &quot;weight&quot;: 2.5}\n",
       "            ).addTo(map_e72b66969ac0eee53d392bc950de994e);\n",
       "        \n",
       "    \n",
       "            var poly_line_42975d349a8a71b92937ed4ab3593cd3 = L.polyline(\n",
       "                [[28.424585, 77.105194], [28.427378, 77.10527], [28.430679, 77.105324], [28.431517, 77.105286], [28.432259, 77.105103], [28.434137, 77.104538], [28.434137, 77.104538], [28.437498, 77.103523], [28.44084, 77.102287], [28.443159, 77.101418], [28.443752, 77.101212], [28.447428, 77.100128], [28.447428, 77.100128], [28.447769, 77.100029], [28.4534, 77.098068], [28.457422, 77.096931], [28.458412, 77.096634], [28.458412, 77.096634], [28.460264, 77.096077], [28.462145, 77.09552], [28.462643, 77.095398], [28.463591, 77.095139], [28.46928, 77.094093], [28.469864, 77.094002], [28.470421, 77.093941], [28.470964, 77.093933], [28.471426, 77.093941], [28.471981, 77.093933], [28.471981, 77.093933], [28.472815, 77.093925], [28.478155, 77.093803], [28.478853, 77.093834], [28.479343, 77.093941], [28.480999, 77.094421], [28.480999, 77.094421], [28.480999, 77.094421], [28.480999, 77.094421], [28.482069, 77.094696], [28.482527, 77.094826], [28.482706, 77.094856], [28.484066, 77.09507], [28.485048, 77.095215], [28.485548, 77.09523], [28.485718, 77.095207], [28.485924, 77.095131], [28.486109, 77.095039], [28.486252, 77.094925], [28.486441, 77.094704], [28.486656, 77.094398], [28.487541, 77.092972], [28.487793, 77.092537], [28.487793, 77.092537], [28.487989, 77.092194], [28.488234, 77.091797], [28.488482, 77.09137], [28.489, 77.090523], [28.489555, 77.089676], [28.490005, 77.088951], [28.490259, 77.088684], [28.490536, 77.088493], [28.490744, 77.088387], [28.491167, 77.088264], [28.491703, 77.088135], [28.491703, 77.088135], [28.492367, 77.08799], [28.492666, 77.087898], [28.492846, 77.087822], [28.493008, 77.08773], [28.49325, 77.08754], [28.493837, 77.087051], [28.494122, 77.086861], [28.494492, 77.086655], [28.494698, 77.086594], [28.494854, 77.086578], [28.495134, 77.086601], [28.495407, 77.086685], [28.495605, 77.0868], [28.495832, 77.086998], [28.498062, 77.089157], [28.498062, 77.089157], [28.498573, 77.089622], [28.500324, 77.091248], [28.501047, 77.091942], [28.501211, 77.09214], [28.501324, 77.092354], [28.5014, 77.092644], [28.50145, 77.092896], [28.50144, 77.093269], [28.501387, 77.093506], [28.501278, 77.093803], [28.501034, 77.094208], [28.501034, 77.094208], [28.500296, 77.095413], [28.499828, 77.096161], [28.499493, 77.096474], [28.499372, 77.09655], [28.499191, 77.096634], [28.49889, 77.096687], [28.498623, 77.096664], [28.498369, 77.096581], [28.49802, 77.096405], [28.496742, 77.095657], [28.494064, 77.093971]],\n",
       "                {&quot;bubblingMouseEvents&quot;: true, &quot;color&quot;: &quot;blue&quot;, &quot;dashArray&quot;: null, &quot;dashOffset&quot;: null, &quot;fill&quot;: false, &quot;fillColor&quot;: &quot;blue&quot;, &quot;fillOpacity&quot;: 0.2, &quot;fillRule&quot;: &quot;evenodd&quot;, &quot;lineCap&quot;: &quot;round&quot;, &quot;lineJoin&quot;: &quot;round&quot;, &quot;noClip&quot;: false, &quot;opacity&quot;: 0.7, &quot;smoothFactor&quot;: 1.0, &quot;stroke&quot;: true, &quot;weight&quot;: 2.5}\n",
       "            ).addTo(map_e72b66969ac0eee53d392bc950de994e);\n",
       "        \n",
       "    \n",
       "            var poly_line_fb4f1c0616c2e0a05401c7b3856f5f19 = L.polyline(\n",
       "                [[28.724157, 77.182068], [28.707249, 77.179848], [28.707249, 77.179848], [28.701931, 77.165459], [28.701931, 77.165459], [28.696022, 77.152504], [28.696022, 77.152504], [28.685741, 77.149635], [28.685741, 77.149635], [28.682798, 77.145302], [28.682037, 77.144379], [28.681026, 77.142998], [28.680727, 77.142548], [28.680573, 77.142349], [28.680397, 77.142159], [28.680201, 77.141998], [28.679993, 77.141846], [28.67935, 77.141525], [28.679064, 77.141411], [28.678209, 77.141098], [28.677505, 77.140862], [28.676609, 77.140533], [28.675377, 77.139999], [28.674347, 77.139671], [28.672762, 77.139244], [28.672762, 77.139244], [28.671915, 77.138977], [28.67144, 77.13884], [28.67104, 77.138702], [28.670631, 77.138519], [28.670229, 77.138283], [28.669554, 77.137726], [28.668203, 77.136047], [28.666254, 77.133736], [28.664206, 77.13134], [28.663031, 77.130028], [28.662468, 77.129532], [28.661884, 77.129166], [28.658968, 77.127831], [28.65851, 77.127586], [28.658049, 77.127289], [28.658049, 77.127289], [28.649075, 77.122719], [28.649075, 77.122719], [28.63718, 77.129768], [28.63718, 77.129768], [28.635464, 77.130295], [28.634382, 77.13073], [28.634121, 77.130867], [28.633673, 77.131165], [28.632954, 77.131783], [28.632246, 77.132332], [28.631695, 77.13269], [28.630999, 77.132988], [28.629574, 77.13353], [28.628695, 77.133789], [28.628189, 77.133972], [28.627104, 77.13446], [28.626631, 77.134857], [28.626379, 77.135216], [28.626137, 77.135468], [28.624397, 77.136475], [28.624397, 77.136475], [28.622953, 77.137032], [28.622297, 77.137199], [28.621716, 77.13723], [28.620892, 77.137131], [28.620481, 77.137115], [28.620293, 77.137115], [28.616625, 77.136955], [28.615927, 77.136887], [28.615007, 77.136597], [28.614372, 77.136528], [28.613508, 77.136749], [28.61298, 77.137039], [28.612522, 77.137413], [28.611435, 77.138252], [28.610216, 77.139275], [28.608669, 77.14048], [28.608669, 77.14048], [28.60741, 77.141548], [28.606838, 77.142242], [28.60651, 77.1427], [28.60606, 77.14357], [28.605719, 77.144615], [28.605494, 77.145912], [28.605158, 77.148247], [28.604853, 77.150024], [28.604328, 77.153595], [28.604065, 77.155312], [28.603912, 77.15609], [28.603745, 77.156593], [28.60347, 77.157066], [28.602867, 77.157875], [28.602312, 77.158653], [28.601791, 77.159325], [28.600691, 77.160782], [28.598368, 77.16333], [28.59783, 77.163757], [28.596701, 77.164459], [28.595736, 77.165001], [28.594828, 77.165565], [28.59346, 77.166443], [28.593243, 77.166611], [28.591423, 77.168137], [28.590466, 77.168846], [28.589352, 77.169579], [28.589352, 77.169579], [28.586367, 77.171585], [28.585367, 77.172211], [28.582207, 77.174019], [28.581474, 77.174385], [28.580561, 77.174721], [28.579893, 77.175041], [28.578552, 77.175774], [28.578552, 77.175774], [28.577303, 77.176491], [28.576345, 77.177124], [28.575573, 77.177734], [28.574478, 77.178482], [28.573376, 77.179176], [28.572786, 77.179634], [28.572338, 77.180115], [28.571768, 77.180817], [28.571383, 77.181389], [28.571081, 77.181946], [28.570646, 77.182869], [28.570438, 77.184372], [28.570282, 77.187874], [28.570282, 77.187874], [28.570282, 77.187874], [28.570282, 77.187874], [28.575174, 77.209534], [28.575174, 77.209534], [28.568586, 77.220573], [28.568586, 77.220573], [28.568542, 77.221527], [28.568365, 77.223778], [28.570646, 77.230804], [28.570938, 77.233093], [28.570938, 77.233093], [28.571075, 77.234161], [28.57078, 77.235123], [28.57058, 77.235893], [28.570225, 77.237091], [28.569628, 77.238525], [28.569387, 77.23912], [28.568808, 77.24073], [28.565987, 77.247086], [28.56583, 77.248383], [28.565935, 77.249809], [28.565935, 77.249809], [28.576065, 77.25753], [28.576065, 77.25753], [28.5889, 77.253189], [28.5889, 77.253189], [28.603497, 77.290657], [28.603497, 77.290657], [28.603937, 77.291779], [28.604095, 77.292229], [28.604195, 77.292625], [28.604273, 77.293137], [28.604362, 77.293785], [28.604486, 77.294243], [28.605631, 77.298042], [28.605631, 77.298042], [28.606852, 77.302063], [28.60729, 77.303551], [28.608269, 77.306824], [28.608524, 77.307632], [28.608778, 77.308105], [28.609011, 77.308411], [28.60915, 77.30854], [28.609301, 77.308624], [28.609507, 77.308693], [28.610121, 77.308792], [28.610416, 77.308769], [28.610771, 77.308685], [28.611506, 77.308495], [28.611843, 77.308479], [28.612278, 77.308571], [28.613436, 77.308884], [28.613436, 77.308884], [28.614885, 77.309258], [28.61648, 77.309685], [28.616632, 77.309723], [28.616785, 77.309746], [28.61694, 77.309761], [28.617096, 77.309761], [28.61725, 77.309761], [28.617405, 77.309746], [28.617558, 77.309715], [28.61771, 77.309685], [28.617859, 77.309639], [28.618013, 77.309578], [28.618162, 77.309509], [28.618307, 77.309433], [28.61845, 77.309349], [28.618586, 77.30925], [28.618719, 77.309151], [28.618845, 77.309036], [28.618963, 77.308914], [28.619078, 77.308784], [28.619184, 77.308647], [28.619284, 77.308502], [28.619375, 77.30835], [28.619459, 77.308189], [28.619534, 77.308029], [28.6196, 77.307861], [28.619684, 77.307602], [28.619762, 77.307281], [28.620096, 77.30542], [28.620096, 77.30542], [28.620253, 77.304665], [28.620457, 77.303619], [28.620495, 77.303467], [28.620541, 77.303322], [28.620594, 77.303177], [28.620657, 77.30304], [28.620728, 77.302902], [28.620806, 77.302773], [28.62089, 77.302643], [28.620981, 77.302528], [28.62108, 77.302422], [28.621185, 77.302315], [28.621296, 77.302223], [28.62141, 77.302132], [28.621531, 77.302055], [28.621655, 77.301987], [28.621786, 77.301926], [28.621922, 77.301872], [28.622059, 77.301834], [28.622198, 77.301804], [28.622339, 77.301781], [28.62248, 77.301773], [28.622623, 77.301773], [28.622765, 77.301788], [28.622906, 77.301811], [28.623045, 77.301849], [28.62318, 77.301888], [28.623316, 77.301949], [28.623446, 77.30201], [28.623571, 77.302086], [28.623693, 77.30217], [28.62381, 77.302261], [28.62392, 77.302361], [28.624023, 77.302475], [28.624123, 77.302589], [28.624212, 77.302719], [28.624296, 77.302849], [28.624371, 77.302986], [28.624439, 77.303123], [28.624496, 77.303276], [28.624954, 77.30452], [28.624954, 77.30452], [28.626083, 77.307961], [28.626143, 77.308258], [28.626162, 77.308434], [28.626175, 77.308655], [28.626118, 77.309822], [28.626116, 77.309975], [28.626123, 77.310135], [28.626139, 77.310287], [28.626198, 77.310585], [28.626242, 77.310738], [28.626291, 77.310883], [28.62635, 77.31102], [28.626419, 77.311157], [28.626493, 77.311287], [28.626575, 77.311409], [28.626663, 77.311523], [28.626759, 77.311638], [28.626862, 77.311737], [28.626968, 77.311836], [28.627081, 77.31192], [28.627199, 77.311996], [28.627319, 77.312073], [28.627445, 77.312126], [28.627575, 77.31218], [28.627705, 77.312218], [28.627838, 77.312256], [28.627974, 77.312271], [28.628109, 77.312286], [28.628244, 77.312286], [28.628382, 77.312279], [28.628517, 77.312256], [28.628651, 77.312225], [28.629827, 77.311722], [28.631889, 77.310799], [28.631889, 77.310799], [28.633829, 77.310013], [28.634993, 77.309502], [28.635296, 77.309464], [28.635672, 77.309441], [28.635958, 77.309517], [28.636244, 77.3097], [28.636431, 77.30983], [28.636713, 77.310097], [28.636866, 77.31028], [28.637093, 77.310745], [28.637188, 77.311104], [28.637224, 77.311493], [28.637215, 77.311935], [28.63722, 77.312439], [28.637312, 77.312874], [28.637405, 77.313202], [28.637596, 77.313583], [28.637836, 77.313919], [28.638165, 77.314224], [28.638485, 77.314415], [28.639042, 77.314682], [28.63974, 77.314911], [28.640409, 77.315178], [28.640755, 77.315437], [28.641066, 77.315712], [28.641418, 77.316002], [28.641783, 77.316261], [28.642437, 77.316536], [28.6439, 77.317009], [28.644543, 77.3172], [28.644663, 77.317207], [28.644783, 77.317207], [28.644903, 77.3172], [28.645023, 77.317184], [28.645142, 77.317162], [28.645372, 77.317085], [28.645594, 77.316971], [28.645796, 77.316826], [28.645979, 77.316658], [28.646141, 77.31646], [28.64628, 77.316238], [28.646513, 77.315834], [28.646706, 77.315407], [28.646706, 77.315407], [28.647245, 77.314201], [28.64736, 77.313911], [28.647449, 77.313614], [28.64749, 77.313438], [28.647518, 77.313255], [28.647552, 77.312897], [28.647551, 77.312531], [28.647537, 77.312347], [28.647491, 77.31205], [28.647223, 77.310745], [28.647066, 77.309875], [28.647049, 77.309715], [28.647039, 77.309547], [28.647043, 77.309227], [28.647079, 77.308899], [28.64711, 77.308739], [28.647192, 77.308434], [28.647306, 77.308128], [28.647448, 77.307846], [28.647608, 77.307594], [28.647791, 77.307365], [28.648161, 77.306984], [28.6486, 77.306618], [28.648668, 77.306572], [28.648647, 77.306503], [28.648851, 77.306297], [28.64924, 77.306], [28.649284, 77.305969], [28.649284, 77.305969], [28.649473, 77.295341], [28.649473, 77.295341], [28.657799, 77.290184], [28.657799, 77.290184], [28.6647, 77.284843], [28.6647, 77.284843], [28.665611, 77.284172], [28.667414, 77.282433], [28.667822, 77.282051], [28.668411, 77.281631], [28.668854, 77.281349], [28.669357, 77.281158], [28.669842, 77.281036], [28.670752, 77.280869], [28.671068, 77.280785], [28.671371, 77.280624], [28.671562, 77.280464], [28.671738, 77.280296], [28.671936, 77.28006], [28.672192, 77.279709], [28.672337, 77.279396], [28.672447, 77.27887], [28.672501, 77.278542], [28.672516, 77.278214], [28.672464, 77.277863], [28.672464, 77.277863], [28.671694, 77.273331], [28.6717, 77.272766], [28.671747, 77.272354], [28.671907, 77.271927], [28.672113, 77.271507], [28.67238, 77.271187], [28.672773, 77.270851], [28.673031, 77.270721], [28.673367, 77.270584], [28.673826, 77.270508], [28.674189, 77.270538], [28.674448, 77.270607], [28.674965, 77.270805], [28.678377, 77.272621], [28.681629, 77.274376], [28.682005, 77.274536], [28.683006, 77.274879], [28.683006, 77.274879], [28.684256, 77.275299], [28.685091, 77.27565], [28.68646, 77.276375], [28.687628, 77.277008], [28.68854, 77.277649], [28.689695, 77.278389], [28.6905, 77.278809], [28.692104, 77.279671], [28.692104, 77.279671], [28.694801, 77.281013], [28.696012, 77.28167], [28.696424, 77.282021], [28.697216, 77.282707], [28.698259, 77.28331], [28.699263, 77.283829], [28.700731, 77.284843], [28.702454, 77.286072], [28.702454, 77.286072], [28.704899, 77.287674], [28.70645, 77.288673], [28.7071, 77.289032], [28.70936, 77.290207], [28.70999, 77.290573], [28.710396, 77.290733], [28.710819, 77.290779], [28.7111, 77.290749], [28.711502, 77.290634], [28.712276, 77.290314], [28.712872, 77.290085], [28.712872, 77.290085], [28.713566, 77.289955], [28.714254, 77.289871], [28.715361, 77.289772], [28.718542, 77.289574], [28.721428, 77.289413]],\n",
       "                {&quot;bubblingMouseEvents&quot;: true, &quot;color&quot;: &quot;blue&quot;, &quot;dashArray&quot;: null, &quot;dashOffset&quot;: null, &quot;fill&quot;: false, &quot;fillColor&quot;: &quot;blue&quot;, &quot;fillOpacity&quot;: 0.2, &quot;fillRule&quot;: &quot;evenodd&quot;, &quot;lineCap&quot;: &quot;round&quot;, &quot;lineJoin&quot;: &quot;round&quot;, &quot;noClip&quot;: false, &quot;opacity&quot;: 0.7, &quot;smoothFactor&quot;: 1.0, &quot;stroke&quot;: true, &quot;weight&quot;: 2.5}\n",
       "            ).addTo(map_e72b66969ac0eee53d392bc950de994e);\n",
       "        \n",
       "    \n",
       "            var poly_line_19853b6d7c2b8dd0b9838156949eedb0 = L.polyline(\n",
       "                [[28.720821, 77.105042], [28.714983, 77.115402], [28.714983, 77.115402], [28.707872, 77.125687], [28.707872, 77.125687], [28.705465, 77.129112], [28.703718, 77.131691], [28.703218, 77.132378], [28.703218, 77.132378], [28.702652, 77.133217], [28.699512, 77.137749], [28.698959, 77.138657], [28.698669, 77.139198], [28.698069, 77.140556], [28.698069, 77.140556], [28.697666, 77.141464], [28.695986, 77.145386], [28.695652, 77.146126], [28.695435, 77.14666], [28.695251, 77.147202], [28.695103, 77.147675], [28.694977, 77.148163], [28.694921, 77.148514], [28.694899, 77.148849], [28.694908, 77.149345], [28.694931, 77.149651], [28.695004, 77.15007], [28.695097, 77.150436], [28.69533, 77.151016], [28.696075, 77.152466], [28.696075, 77.152466], [28.696825, 77.153976], [28.69696, 77.154327], [28.697048, 77.154594], [28.697113, 77.1549], [28.697149, 77.15519], [28.697153, 77.155731], [28.697109, 77.156021], [28.697056, 77.156303], [28.696972, 77.156578], [28.696877, 77.156807], [28.696741, 77.157082], [28.696621, 77.15731], [28.696472, 77.157539], [28.696329, 77.157722], [28.696157, 77.157906], [28.695929, 77.158112], [28.695705, 77.158272], [28.695435, 77.158417], [28.694359, 77.158928], [28.692348, 77.159904], [28.691032, 77.160576], [28.690228, 77.16111], [28.688938, 77.161713], [28.688938, 77.161713], [28.682386, 77.162552], [28.682386, 77.162552], [28.673563, 77.170326], [28.673563, 77.170326], [28.672792, 77.171394], [28.672398, 77.172104], [28.671743, 77.173584], [28.671532, 77.174141], [28.671389, 77.17482], [28.670198, 77.180794], [28.670059, 77.181854], [28.670059, 77.181854], [28.670002, 77.18277], [28.669872, 77.185387], [28.669767, 77.186996], [28.669481, 77.1884], [28.667847, 77.194382], [28.667154, 77.197006], [28.667154, 77.197006], [28.666973, 77.197693], [28.666687, 77.198883], [28.665686, 77.20256], [28.665663, 77.203392], [28.665709, 77.203949], [28.665888, 77.204666], [28.666166, 77.205597], [28.666243, 77.206116], [28.666376, 77.20742], [28.666376, 77.20742], [28.666552, 77.208374], [28.666815, 77.209358], [28.667072, 77.209961], [28.667566, 77.21106], [28.667763, 77.211906], [28.667791, 77.212151], [28.667801, 77.212448], [28.667793, 77.212883], [28.66774, 77.213211], [28.667288, 77.21563], [28.667131, 77.216621], [28.667131, 77.216621], [28.667028, 77.217606], [28.666952, 77.218445], [28.666906, 77.219383], [28.666929, 77.219826], [28.66699, 77.2202], [28.667667, 77.223076], [28.667755, 77.223679], [28.667765, 77.224136], [28.66774, 77.224609], [28.667622, 77.225525], [28.66749, 77.226425], [28.667421, 77.227142], [28.667418, 77.228249], [28.667418, 77.228249], [28.667465, 77.228874], [28.667526, 77.229401], [28.667591, 77.229797], [28.66765, 77.23008], [28.667793, 77.230515], [28.667969, 77.230934], [28.668383, 77.23175], [28.66857, 77.232162], [28.668682, 77.232506], [28.668959, 77.233444], [28.669283, 77.234337], [28.670837, 77.238327], [28.671461, 77.240112], [28.671629, 77.24057], [28.671707, 77.240906], [28.671764, 77.241386], [28.671761, 77.241829], [28.671703, 77.242218], [28.671618, 77.242561], [28.671488, 77.24292], [28.67065, 77.244621], [28.670019, 77.245789], [28.66967, 77.246735], [28.668409, 77.250519], [28.668409, 77.250519], [28.668119, 77.251427], [28.667797, 77.252357], [28.667515, 77.253212], [28.66729, 77.253967], [28.667202, 77.254387], [28.667139, 77.254807], [28.667101, 77.255234], [28.66713, 77.255875], [28.667213, 77.256378], [28.668419, 77.260704], [28.669153, 77.263573], [28.66951, 77.26532], [28.669611, 77.265862], [28.669666, 77.265846], [28.669716, 77.265823], [28.669765, 77.266129], [28.669895, 77.266106], [28.670023, 77.266319], [28.669991, 77.266441], [28.669985, 77.266563], [28.670004, 77.266785], [28.670055, 77.26696], [28.670116, 77.267113], [28.670179, 77.267197], [28.670168, 77.267296], [28.670168, 77.267296], [28.670156, 77.267387], [28.670141, 77.267448], [28.67, 77.267479], [28.67005, 77.267784], [28.670015, 77.267807], [28.670059, 77.267975], [28.670324, 77.269661], [28.671021, 77.273605], [28.671593, 77.276772], [28.671782, 77.277847], [28.671782, 77.277847], [28.672256, 77.280685], [28.672743, 77.283714], [28.672983, 77.285637], [28.673166, 77.287308], [28.673166, 77.287308], [28.673363, 77.289017], [28.673641, 77.291176], [28.674007, 77.29467], [28.674126, 77.296021], [28.674368, 77.29689], [28.674551, 77.297333], [28.675152, 77.298523], [28.67528, 77.298904], [28.675358, 77.299202], [28.675398, 77.299484], [28.675421, 77.299751], [28.675417, 77.301178], [28.675417, 77.301178], [28.675421, 77.302597], [28.675505, 77.303551], [28.675735, 77.308464], [28.675709, 77.309868], [28.675751, 77.312393], [28.675751, 77.312393], [28.675865, 77.31543], [28.675919, 77.31604], [28.676004, 77.316811], [28.676043, 77.317245], [28.67606, 77.317772], [28.676041, 77.318619], [28.675917, 77.320175], [28.675865, 77.320732], [28.675854, 77.321518]],\n",
       "                {&quot;bubblingMouseEvents&quot;: true, &quot;color&quot;: &quot;blue&quot;, &quot;dashArray&quot;: null, &quot;dashOffset&quot;: null, &quot;fill&quot;: false, &quot;fillColor&quot;: &quot;blue&quot;, &quot;fillOpacity&quot;: 0.2, &quot;fillRule&quot;: &quot;evenodd&quot;, &quot;lineCap&quot;: &quot;round&quot;, &quot;lineJoin&quot;: &quot;round&quot;, &quot;noClip&quot;: false, &quot;opacity&quot;: 0.7, &quot;smoothFactor&quot;: 1.0, &quot;stroke&quot;: true, &quot;weight&quot;: 2.5}\n",
       "            ).addTo(map_e72b66969ac0eee53d392bc950de994e);\n",
       "        \n",
       "    \n",
       "            var poly_line_6accfd409f192c7511ed1cec4e0f42d7 = L.polyline(\n",
       "                [[28.62826, 77.375046], [28.626305, 77.374939], [28.625626, 77.374847], [28.624878, 77.374527], [28.623722, 77.37426], [28.622513, 77.374153], [28.617889, 77.37368], [28.616983, 77.373619], [28.616983, 77.373619], [28.615292, 77.373444], [28.610172, 77.372925], [28.609514, 77.372871], [28.609097, 77.372841], [28.609097, 77.372841], [28.606525, 77.372719], [28.602982, 77.372566], [28.59758, 77.372307], [28.59758, 77.372307], [28.59687, 77.372261], [28.59627, 77.372253], [28.595819, 77.372299], [28.595516, 77.372353], [28.593254, 77.373116], [28.592924, 77.37326], [28.592655, 77.373413], [28.592381, 77.373604], [28.591799, 77.374054], [28.591085, 77.374657], [28.590954, 77.374748], [28.590818, 77.374832], [28.590677, 77.374908], [28.590534, 77.374977], [28.590387, 77.375038], [28.590239, 77.375084], [28.590088, 77.37513], [28.589933, 77.375153], [28.589779, 77.375175], [28.589624, 77.375183], [28.58947, 77.375191], [28.589314, 77.375175], [28.589159, 77.37516], [28.588997, 77.37513], [28.588837, 77.375084], [28.58868, 77.375031], [28.588524, 77.374969], [28.588373, 77.374901], [28.588226, 77.374817], [28.588083, 77.374725], [28.587946, 77.374619], [28.587812, 77.374512], [28.587687, 77.37439], [28.587566, 77.37426], [28.587433, 77.374092], [28.587259, 77.373802], [28.586847, 77.373039], [28.586847, 77.373039], [28.586212, 77.371758], [28.585779, 77.370972], [28.585533, 77.370575], [28.582401, 77.366447], [28.580227, 77.363518], [28.580227, 77.363518], [28.577576, 77.360046], [28.574785, 77.356247], [28.574785, 77.356247], [28.571815, 77.352219], [28.567427, 77.346397], [28.567427, 77.346397], [28.565281, 77.343613], [28.562504, 77.339851], [28.562408, 77.339706], [28.562323, 77.339554], [28.562243, 77.339401], [28.562172, 77.339241], [28.562109, 77.339073], [28.562054, 77.338905], [28.562008, 77.33873], [28.56197, 77.338554], [28.561941, 77.338379], [28.56192, 77.338203], [28.561911, 77.33802], [28.561909, 77.337837], [28.561916, 77.337662], [28.561932, 77.337479], [28.561956, 77.337303], [28.561991, 77.337128], [28.562084, 77.336784], [28.562145, 77.336617], [28.562212, 77.336449], [28.562288, 77.336296], [28.562372, 77.336136], [28.562464, 77.335991], [28.562563, 77.335854], [28.562668, 77.335716], [28.563921, 77.334381], [28.563921, 77.334381], [28.565281, 77.332977], [28.566179, 77.331848], [28.567585, 77.329781], [28.568638, 77.328453], [28.569572, 77.327423], [28.57081, 77.326126], [28.57081, 77.326126], [28.573542, 77.323219], [28.574015, 77.322678], [28.574427, 77.322105], [28.576509, 77.319717], [28.577494, 77.318535], [28.578106, 77.317833], [28.578106, 77.317833], [28.580042, 77.315887], [28.581848, 77.314003], [28.582293, 77.31356], [28.582708, 77.313225], [28.584927, 77.311684], [28.584927, 77.311684], [28.586094, 77.310905], [28.587738, 77.309982], [28.587875, 77.309891], [28.588009, 77.309792], [28.588137, 77.309677], [28.588257, 77.309563], [28.588373, 77.309441], [28.588482, 77.309303], [28.588583, 77.309166], [28.588676, 77.309021], [28.588762, 77.308868], [28.588842, 77.308708], [28.588911, 77.308548], [28.589016, 77.308243], [28.589058, 77.308083], [28.589119, 77.30777], [28.589149, 77.307442], [28.589161, 77.306999], [28.589115, 77.303162], [28.589106, 77.301582], [28.589106, 77.301582], [28.589109, 77.299629], [28.58913, 77.299133], [28.589207, 77.298691], [28.589317, 77.298325], [28.589437, 77.298027], [28.589643, 77.297668], [28.589878, 77.29734], [28.590084, 77.297119], [28.590334, 77.296921], [28.591669, 77.296021], [28.592272, 77.295639], [28.592632, 77.29541], [28.594467, 77.294426], [28.594467, 77.294426], [28.596476, 77.293396], [28.59667, 77.293304], [28.598858, 77.292175], [28.60017, 77.291534], [28.60256, 77.290237], [28.603016, 77.290024], [28.603292, 77.289871], [28.60359, 77.289742], [28.604055, 77.28952], [28.604055, 77.28952], [28.60605, 77.288513], [28.607784, 77.287682], [28.608425, 77.287392], [28.608942, 77.287056], [28.609699, 77.28653], [28.610285, 77.286026], [28.61186, 77.284714], [28.612581, 77.284172], [28.614876, 77.282547], [28.615177, 77.282303], [28.61544, 77.282051], [28.615711, 77.281731], [28.615959, 77.28138], [28.616283, 77.280907], [28.616571, 77.280563], [28.616854, 77.280281], [28.617207, 77.279999], [28.61788, 77.279526], [28.61788, 77.279526], [28.618694, 77.278862], [28.62289, 77.275795], [28.623388, 77.275414], [28.623615, 77.275223], [28.623842, 77.275002], [28.624025, 77.274773], [28.624201, 77.274498], [28.624376, 77.27417], [28.624512, 77.273811], [28.624578, 77.273529], [28.624624, 77.273193], [28.624638, 77.272812], [28.624619, 77.272491], [28.624569, 77.272102], [28.624449, 77.27166], [28.623663, 77.269524], [28.623446, 77.268837], [28.623114, 77.267899], [28.623114, 77.267899], [28.622847, 77.267128], [28.622509, 77.265984], [28.622284, 77.265343], [28.62163, 77.263611], [28.621416, 77.262886], [28.621214, 77.261848], [28.621056, 77.260803], [28.62042, 77.255554], [28.620159, 77.253555], [28.620087, 77.252686], [28.620115, 77.252174], [28.620247, 77.251312], [28.620583, 77.249542], [28.620583, 77.249542], [28.620972, 77.247841], [28.621088, 77.247269], [28.621248, 77.245735], [28.621334, 77.245331], [28.6215, 77.244873], [28.621811, 77.244301], [28.622442, 77.243599], [28.623455, 77.242516], [28.623455, 77.242516], [28.624626, 77.241257], [28.625051, 77.240578], [28.625212, 77.240112], [28.625309, 77.239761], [28.625391, 77.238754], [28.625591, 77.234192], [28.625591, 77.234192], [28.625727, 77.232246], [28.626026, 77.2314], [28.629782, 77.224945], [28.629782, 77.224945], [28.632254, 77.220619], [28.632759, 77.219688], [28.632759, 77.219688], [28.639217, 77.206291], [28.639217, 77.206291], [28.6443, 77.199905], [28.6443, 77.199905], [28.644918, 77.198593], [28.645151, 77.197899], [28.645218, 77.197227], [28.645151, 77.196556], [28.644489, 77.192276], [28.64399, 77.18853], [28.64399, 77.18853], [28.64241, 77.191833], [28.64241, 77.191833], [28.645037, 77.167046], [28.645037, 77.167046], [28.65143, 77.156021], [28.65143, 77.156021], [28.655773, 77.148499], [28.655773, 77.148499], [28.657032, 77.140923], [28.657032, 77.140923], [28.654945, 77.137238], [28.654222, 77.135765], [28.653761, 77.135071], [28.653622, 77.134727], [28.653488, 77.134377], [28.653379, 77.133995], [28.653175, 77.133232], [28.652765, 77.131645], [28.652765, 77.131645], [28.651901, 77.128258], [28.651749, 77.127724], [28.651518, 77.127182], [28.650566, 77.125572], [28.649546, 77.123695], [28.649075, 77.122719], [28.649075, 77.122719], [28.64768, 77.119247], [28.647379, 77.118561], [28.647022, 77.117912], [28.646545, 77.117149], [28.645546, 77.115761], [28.644955, 77.114876], [28.643764, 77.112846], [28.643764, 77.112846], [28.643457, 77.112244], [28.643158, 77.111626], [28.642851, 77.110817], [28.64242, 77.10965], [28.641848, 77.108345], [28.640974, 77.106384], [28.640501, 77.105217], [28.639671, 77.102997], [28.639671, 77.102997], [28.639046, 77.101295], [28.638823, 77.100739], [28.638155, 77.099617], [28.637711, 77.098846], [28.637127, 77.097687], [28.636816, 77.097023], [28.636564, 77.096458], [28.636564, 77.096458], [28.636242, 77.095589], [28.635958, 77.094666], [28.635649, 77.09375], [28.635307, 77.09301], [28.63485, 77.092049], [28.634527, 77.091187], [28.634007, 77.089287], [28.633026, 77.086708], [28.633026, 77.086708], [28.632704, 77.085815], [28.632, 77.08403], [28.631262, 77.082191], [28.630747, 77.080727], [28.630377, 77.079849], [28.629602, 77.078072], [28.629602, 77.078072], [28.629087, 77.076683], [28.628714, 77.075783], [28.628479, 77.075157], [28.628328, 77.074638], [28.62821, 77.074165], [28.628057, 77.073654], [28.627817, 77.073036], [28.627052, 77.071022], [28.626289, 77.069092], [28.625643, 77.067337], [28.624868, 77.065277], [28.6241, 77.063347], [28.6241, 77.063347], [28.623325, 77.061417], [28.622932, 77.06031], [28.622746, 77.059662], [28.6224, 77.058372], [28.622259, 77.0578], [28.622015, 77.056664], [28.621777, 77.05571], [28.621777, 77.05571], [28.62129, 77.052902], [28.621029, 77.05101], [28.620853, 77.049423], [28.620667, 77.047928], [28.62056, 77.046974], [28.620296, 77.045074], [28.620296, 77.045074], [28.620213, 77.043976], [28.620199, 77.043388], [28.620213, 77.043007], [28.620291, 77.041916], [28.620329, 77.041229], [28.620327, 77.040291], [28.620193, 77.038895], [28.62005, 77.037872], [28.619707, 77.035545], [28.619331, 77.033279], [28.619331, 77.033279], [28.619114, 77.031471], [28.619085, 77.03093], [28.619078, 77.03054], [28.619087, 77.030243], [28.619368, 77.02655], [28.619354, 77.026047], [28.619238, 77.025467], [28.619045, 77.024986], [28.618849, 77.024635], [28.618599, 77.024277], [28.618248, 77.023933], [28.617832, 77.023636], [28.617331, 77.023399], [28.616684, 77.023209], [28.614943, 77.022743], [28.614943, 77.022743], [28.614084, 77.02243], [28.612741, 77.022034], [28.61207, 77.021881], [28.611441, 77.02179], [28.610395, 77.021767], [28.609299, 77.021774], [28.607872, 77.022003], [28.606897, 77.022316], [28.60582, 77.022873], [28.605062, 77.023361], [28.604055, 77.0242], [28.603048, 77.025085], [28.602556, 77.025551], [28.602203, 77.025963], [28.602203, 77.025963], [28.601267, 77.027168], [28.596992, 77.033524], [28.596992, 77.033524], [28.592218, 77.040718], [28.592218, 77.040718], [28.589029, 77.045471], [28.58643, 77.049423], [28.58643, 77.049423], [28.581039, 77.057487], [28.581039, 77.057487], [28.578463, 77.061363], [28.57799, 77.062004], [28.577358, 77.062767], [28.576923, 77.063263], [28.576361, 77.063789], [28.575857, 77.064194], [28.575247, 77.064644], [28.574263, 77.065308], [28.574263, 77.065308], [28.565706, 77.064896], [28.565706, 77.064896], [28.552322, 77.056198]],\n",
       "                {&quot;bubblingMouseEvents&quot;: true, &quot;color&quot;: &quot;blue&quot;, &quot;dashArray&quot;: null, &quot;dashOffset&quot;: null, &quot;fill&quot;: false, &quot;fillColor&quot;: &quot;blue&quot;, &quot;fillOpacity&quot;: 0.2, &quot;fillRule&quot;: &quot;evenodd&quot;, &quot;lineCap&quot;: &quot;round&quot;, &quot;lineJoin&quot;: &quot;round&quot;, &quot;noClip&quot;: false, &quot;opacity&quot;: 0.7, &quot;smoothFactor&quot;: 1.0, &quot;stroke&quot;: true, &quot;weight&quot;: 2.5}\n",
       "            ).addTo(map_e72b66969ac0eee53d392bc950de994e);\n",
       "        \n",
       "    \n",
       "            var poly_line_608e7e2d696de7a04dcd8127623c1b27 = L.polyline(\n",
       "                [[28.720821, 77.105042], [28.714983, 77.115402], [28.714983, 77.115402], [28.707872, 77.125687], [28.707872, 77.125687], [28.705465, 77.129112], [28.703718, 77.131691], [28.703218, 77.132378], [28.703218, 77.132378], [28.702652, 77.133217], [28.699512, 77.137749], [28.698959, 77.138657], [28.698669, 77.139198], [28.698069, 77.140556], [28.698069, 77.140556], [28.697666, 77.141464], [28.695986, 77.145386], [28.695652, 77.146126], [28.695435, 77.14666], [28.695251, 77.147202], [28.695103, 77.147675], [28.694977, 77.148163], [28.694921, 77.148514], [28.694899, 77.148849], [28.694908, 77.149345], [28.694931, 77.149651], [28.695004, 77.15007], [28.695097, 77.150436], [28.69533, 77.151016], [28.696075, 77.152466], [28.696075, 77.152466], [28.696825, 77.153976], [28.69696, 77.154327], [28.697048, 77.154594], [28.697113, 77.1549], [28.697149, 77.15519], [28.697153, 77.155731], [28.697109, 77.156021], [28.697056, 77.156303], [28.696972, 77.156578], [28.696877, 77.156807], [28.696741, 77.157082], [28.696621, 77.15731], [28.696472, 77.157539], [28.696329, 77.157722], [28.696157, 77.157906], [28.695929, 77.158112], [28.695705, 77.158272], [28.695435, 77.158417], [28.694359, 77.158928], [28.692348, 77.159904], [28.691032, 77.160576], [28.690228, 77.16111], [28.688938, 77.161713], [28.688938, 77.161713], [28.682386, 77.162552], [28.682386, 77.162552], [28.673563, 77.170326], [28.673563, 77.170326], [28.672792, 77.171394], [28.672398, 77.172104], [28.671743, 77.173584], [28.671532, 77.174141], [28.671389, 77.17482], [28.670198, 77.180794], [28.670059, 77.181854], [28.670059, 77.181854], [28.670002, 77.18277], [28.669872, 77.185387], [28.669767, 77.186996], [28.669481, 77.1884], [28.667847, 77.194382], [28.667154, 77.197006], [28.667154, 77.197006], [28.666973, 77.197693], [28.666687, 77.198883], [28.665686, 77.20256], [28.665663, 77.203392], [28.665709, 77.203949], [28.665888, 77.204666], [28.666166, 77.205597], [28.666243, 77.206116], [28.666376, 77.20742], [28.666376, 77.20742], [28.666552, 77.208374], [28.666815, 77.209358], [28.667072, 77.209961], [28.667566, 77.21106], [28.667763, 77.211906], [28.667791, 77.212151], [28.667801, 77.212448], [28.667793, 77.212883], [28.66774, 77.213211], [28.667288, 77.21563], [28.667131, 77.216621], [28.667131, 77.216621], [28.667028, 77.217606], [28.666952, 77.218445], [28.666906, 77.219383], [28.666929, 77.219826], [28.66699, 77.2202], [28.667667, 77.223076], [28.667755, 77.223679], [28.667765, 77.224136], [28.66774, 77.224609], [28.667622, 77.225525], [28.66749, 77.226425], [28.667421, 77.227142], [28.667418, 77.228249], [28.667418, 77.228249], [28.667465, 77.228874], [28.667526, 77.229401], [28.667591, 77.229797], [28.66765, 77.23008], [28.667793, 77.230515], [28.667969, 77.230934], [28.668383, 77.23175], [28.66857, 77.232162], [28.668682, 77.232506], [28.668959, 77.233444], [28.669283, 77.234337], [28.670837, 77.238327], [28.671461, 77.240112], [28.671629, 77.24057], [28.671707, 77.240906], [28.671764, 77.241386], [28.671761, 77.241829], [28.671703, 77.242218], [28.671618, 77.242561], [28.671488, 77.24292], [28.67065, 77.244621], [28.670019, 77.245789], [28.66967, 77.246735], [28.668409, 77.250519], [28.668409, 77.250519], [28.668119, 77.251427], [28.667797, 77.252357], [28.667515, 77.253212], [28.66729, 77.253967], [28.667202, 77.254387], [28.667139, 77.254807], [28.667101, 77.255234], [28.66713, 77.255875], [28.667213, 77.256378], [28.668419, 77.260704], [28.669153, 77.263573], [28.66951, 77.26532], [28.669611, 77.265862], [28.669666, 77.265846], [28.669716, 77.265823], [28.669765, 77.266129], [28.669895, 77.266106], [28.670023, 77.266319], [28.669991, 77.266441], [28.669985, 77.266563], [28.670004, 77.266785], [28.670055, 77.26696], [28.670116, 77.267113], [28.670179, 77.267197], [28.670168, 77.267296], [28.670168, 77.267296], [28.670156, 77.267387], [28.670141, 77.267448], [28.67, 77.267479], [28.67005, 77.267784], [28.670015, 77.267807], [28.670059, 77.267975], [28.670324, 77.269661], [28.671021, 77.273605], [28.671593, 77.276772], [28.671782, 77.277847], [28.671782, 77.277847], [28.672256, 77.280685], [28.672743, 77.283714], [28.672983, 77.285637], [28.673166, 77.287308], [28.673166, 77.287308], [28.673363, 77.289017], [28.673641, 77.291176], [28.674007, 77.29467], [28.674126, 77.296021], [28.674368, 77.29689], [28.674551, 77.297333], [28.675152, 77.298523], [28.67528, 77.298904], [28.675358, 77.299202], [28.675398, 77.299484], [28.675421, 77.299751], [28.675417, 77.301178], [28.675417, 77.301178], [28.675421, 77.302597], [28.675505, 77.303551], [28.675735, 77.308464], [28.675709, 77.309868], [28.675751, 77.312393], [28.675751, 77.312393], [28.675865, 77.31543], [28.675919, 77.31604], [28.676004, 77.316811], [28.676043, 77.317245], [28.67606, 77.317772], [28.676041, 77.318619], [28.675917, 77.320175], [28.675865, 77.320732], [28.675854, 77.321518], [28.675854, 77.321518], [28.675894, 77.32238], [28.675974, 77.323395], [28.676235, 77.324814], [28.676477, 77.326569], [28.676523, 77.327866], [28.676662, 77.33062], [28.676693, 77.331917], [28.676647, 77.332413], [28.676691, 77.333916], [28.676691, 77.333916], [28.676792, 77.337463], [28.67692, 77.340904], [28.677006, 77.344269], [28.67712, 77.346863], [28.67712, 77.346863], [28.677488, 77.355309], [28.677715, 77.35955], [28.677715, 77.35955], [28.677872, 77.362457], [28.67803, 77.365616], [28.678238, 77.370483], [28.678238, 77.370483], [28.678318, 77.372337], [28.678465, 77.375259], [28.678692, 77.380295], [28.678692, 77.380966], [28.678564, 77.383904], [28.678564, 77.383904], [28.678505, 77.385246], [28.678438, 77.38623], [28.678368, 77.386726], [28.678253, 77.387268], [28.678022, 77.388138], [28.677742, 77.389229], [28.677027, 77.391891], [28.677027, 77.391891], [28.675945, 77.395927], [28.675283, 77.398491], [28.675154, 77.399254], [28.67507, 77.400284], [28.674995, 77.400856], [28.67477, 77.401833], [28.673456, 77.406548], [28.673456, 77.406548], [28.673214, 77.407257], [28.67247, 77.408989], [28.671993, 77.41069], [28.671455, 77.412659], [28.670919, 77.414742], [28.670706, 77.41539]],\n",
       "                {&quot;bubblingMouseEvents&quot;: true, &quot;color&quot;: &quot;blue&quot;, &quot;dashArray&quot;: null, &quot;dashOffset&quot;: null, &quot;fill&quot;: false, &quot;fillColor&quot;: &quot;blue&quot;, &quot;fillOpacity&quot;: 0.2, &quot;fillRule&quot;: &quot;evenodd&quot;, &quot;lineCap&quot;: &quot;round&quot;, &quot;lineJoin&quot;: &quot;round&quot;, &quot;noClip&quot;: false, &quot;opacity&quot;: 0.7, &quot;smoothFactor&quot;: 1.0, &quot;stroke&quot;: true, &quot;weight&quot;: 2.5}\n",
       "            ).addTo(map_e72b66969ac0eee53d392bc950de994e);\n",
       "        \n",
       "    \n",
       "            var poly_line_b8983bc8892216bb9d0421edb421c5a2 = L.polyline(\n",
       "                [[28.742872, 77.146545], [28.740192, 77.135574], [28.740192, 77.135574], [28.718657, 77.149956], [28.718657, 77.149956], [28.728075, 77.161102], [28.728075, 77.161102], [28.725986, 77.162682], [28.7227, 77.165092], [28.721815, 77.165833], [28.720636, 77.166946], [28.717316, 77.1698], [28.716599, 77.170448], [28.710386, 77.175949], [28.708263, 77.177841], [28.707985, 77.178238], [28.707745, 77.178642], [28.707462, 77.179245], [28.706678, 77.181496], [28.706497, 77.182076], [28.706366, 77.182739], [28.70627, 77.18364], [28.706079, 77.184967], [28.704729, 77.189178], [28.704493, 77.189796], [28.703617, 77.19178], [28.70274, 77.194008], [28.698156, 77.206421], [28.697184, 77.209099], [28.697184, 77.209099], [28.697014, 77.209572], [28.695059, 77.214729], [28.697014, 77.209572], [28.698156, 77.206421], [28.70274, 77.194008], [28.703617, 77.19178], [28.704493, 77.189796], [28.704729, 77.189178], [28.706079, 77.184967], [28.70627, 77.18364], [28.706366, 77.182739], [28.706497, 77.182076], [28.706678, 77.181496], [28.707069, 77.180382], [28.707069, 77.180382], [28.706678, 77.181496], [28.706497, 77.182076], [28.706366, 77.182739], [28.70627, 77.18364], [28.706079, 77.184967], [28.704729, 77.189178], [28.704493, 77.189796], [28.703617, 77.19178], [28.70274, 77.194008], [28.70274, 77.194008], [28.697979, 77.206909], [28.697979, 77.206909], [28.694765, 77.212418], [28.694765, 77.212418], [28.687819, 77.221458], [28.687819, 77.221458], [28.686317, 77.221695], [28.682682, 77.222511], [28.68218, 77.222534], [28.681902, 77.222565], [28.681576, 77.222717], [28.681057, 77.223045], [28.680651, 77.223312], [28.680069, 77.223679], [28.679722, 77.223915], [28.679277, 77.224182], [28.67877, 77.224373], [28.676842, 77.224998], [28.676842, 77.224998], [28.675667, 77.225403], [28.675117, 77.22554], [28.674191, 77.225739], [28.673347, 77.225868], [28.672489, 77.226013], [28.671947, 77.226219], [28.669811, 77.227127], [28.6686, 77.227577], [28.667503, 77.228165], [28.667503, 77.228165], [28.665253, 77.229309], [28.663395, 77.230011], [28.659256, 77.230339], [28.658422, 77.230309], [28.65649, 77.230179], [28.656122, 77.230057], [28.656029, 77.230011], [28.656029, 77.230011], [28.649277, 77.226486], [28.649277, 77.226486], [28.643492, 77.222717], [28.643492, 77.222717], [28.63406, 77.219627], [28.633596, 77.219513], [28.633139, 77.219376], [28.632795, 77.219238], [28.632795, 77.219238], [28.63225, 77.218994], [28.631824, 77.218758], [28.627865, 77.216064], [28.627283, 77.215775], [28.62583, 77.215744], [28.625504, 77.21563], [28.622982, 77.214005], [28.622982, 77.214005], [28.621489, 77.212891], [28.621136, 77.212708], [28.616922, 77.212349], [28.615883, 77.21225], [28.615883, 77.21225], [28.611525, 77.210052], [28.611525, 77.210052], [28.597345, 77.211067], [28.597345, 77.211067], [28.591269, 77.212639], [28.58963, 77.212769], [28.587244, 77.212563], [28.587244, 77.212563], [28.586599, 77.212502], [28.584867, 77.212318], [28.583832, 77.212326], [28.583437, 77.212303], [28.575174, 77.209534], [28.575174, 77.209534], [28.574951, 77.209457], [28.574169, 77.209274], [28.568171, 77.208092], [28.568171, 77.208092], [28.56794, 77.208046], [28.567183, 77.207863], [28.566868, 77.207771], [28.566032, 77.20755], [28.563559, 77.207535], [28.561657, 77.207359], [28.559828, 77.207062], [28.559828, 77.207062], [28.55801, 77.206764], [28.556484, 77.206444], [28.555206, 77.206116], [28.551859, 77.205688], [28.549095, 77.20591], [28.548542, 77.205971], [28.547405, 77.206635], [28.546585, 77.206772], [28.544262, 77.20668], [28.544262, 77.20668], [28.542471, 77.206398], [28.538406, 77.206696], [28.535564, 77.206116], [28.532854, 77.205345], [28.530121, 77.20459], [28.529774, 77.204613], [28.529057, 77.204796], [28.529057, 77.204796], [28.520638, 77.199379], [28.520638, 77.199379], [28.512594, 77.185875], [28.512594, 77.185875], [28.511543, 77.184303], [28.509539, 77.180237], [28.509375, 77.179871], [28.50927, 77.179497], [28.509167, 77.17894], [28.509027, 77.177673], [28.508978, 77.177452], [28.508928, 77.177292], [28.508863, 77.177124], [28.508678, 77.17672], [28.508575, 77.176537], [28.508505, 77.17643], [28.508369, 77.176262], [28.508215, 77.176094], [28.507732, 77.175644], [28.506741, 77.17498], [28.506592, 77.174858], [28.506592, 77.174858], [28.504885, 77.173447], [28.504271, 77.172768], [28.504187, 77.172623], [28.50411, 77.17247], [28.503729, 77.171768], [28.501726, 77.167114], [28.49971, 77.162811], [28.499508, 77.162331], [28.499146, 77.161369], [28.499146, 77.161369], [28.498764, 77.160355], [28.498455, 77.159637], [28.497009, 77.156364], [28.494364, 77.150436], [28.493776, 77.14917], [28.493776, 77.14917], [28.492638, 77.146545], [28.492096, 77.145203], [28.491026, 77.142143], [28.490578, 77.141327], [28.489418, 77.138992], [28.487669, 77.135223], [28.486706, 77.133369], [28.485138, 77.131416], [28.48402, 77.13031], [28.482063, 77.127502], [28.481091, 77.126221], [28.480757, 77.125748], [28.480757, 77.125748], [28.47978, 77.12439], [28.479307, 77.123779], [28.478941, 77.123032], [28.47884, 77.12265], [28.478783, 77.122223], [28.478804, 77.121635], [28.478931, 77.120987], [28.479185, 77.120384], [28.480017, 77.119141], [28.480602, 77.118225], [28.480803, 77.117752], [28.48097, 77.117035], [28.481188, 77.115982], [28.481396, 77.114876], [28.481539, 77.114204], [28.481619, 77.113594], [28.481611, 77.113129], [28.481581, 77.112373], [28.481546, 77.111771], [28.48156, 77.111244], [28.481602, 77.110992], [28.481691, 77.110603], [28.481819, 77.110237], [28.482046, 77.109772], [28.482327, 77.10923], [28.482422, 77.108994], [28.482569, 77.108528], [28.482624, 77.108223], [28.482656, 77.107941], [28.482662, 77.107628], [28.482647, 77.1073], [28.482553, 77.106766], [28.482317, 77.105713], [28.482231, 77.105156], [28.482172, 77.104355], [28.482172, 77.103271], [28.482046, 77.102219], [28.482046, 77.102219], [28.481932, 77.101212], [28.481869, 77.100471], [28.481905, 77.099846], [28.482046, 77.098564], [28.482094, 77.097961], [28.482101, 77.09742], [28.482042, 77.096848], [28.481941, 77.095993], [28.481813, 77.095192], [28.481642, 77.094406], [28.481298, 77.09301], [28.481298, 77.09301], [28.481024, 77.091583], [28.480852, 77.09079], [28.480652, 77.089439], [28.480589, 77.088966], [28.480639, 77.08831], [28.480696, 77.087761], [28.480606, 77.086815], [28.479588, 77.07988], [28.479588, 77.07988], [28.478628, 77.074249], [28.478559, 77.073959], [28.47847, 77.073677], [28.478363, 77.073418], [28.478178, 77.073074], [28.477886, 77.072708], [28.477468, 77.072319], [28.477003, 77.072083], [28.47654, 77.071938], [28.475864, 77.071861], [28.472324, 77.072388], [28.472324, 77.072388], [28.462107, 77.073853], [28.461836, 77.073883], [28.461544, 77.073883], [28.461264, 77.073845], [28.461012, 77.073792], [28.460823, 77.073723], [28.460644, 77.073647], [28.460487, 77.07357], [28.46032, 77.073456], [28.460171, 77.073341], [28.459364, 77.072639]],\n",
       "                {&quot;bubblingMouseEvents&quot;: true, &quot;color&quot;: &quot;blue&quot;, &quot;dashArray&quot;: null, &quot;dashOffset&quot;: null, &quot;fill&quot;: false, &quot;fillColor&quot;: &quot;blue&quot;, &quot;fillOpacity&quot;: 0.2, &quot;fillRule&quot;: &quot;evenodd&quot;, &quot;lineCap&quot;: &quot;round&quot;, &quot;lineJoin&quot;: &quot;round&quot;, &quot;noClip&quot;: false, &quot;opacity&quot;: 0.7, &quot;smoothFactor&quot;: 1.0, &quot;stroke&quot;: true, &quot;weight&quot;: 2.5}\n",
       "            ).addTo(map_e72b66969ac0eee53d392bc950de994e);\n",
       "        \n",
       "    \n",
       "            var poly_line_19675adb057cb71f12ef22af14f8317b = L.polyline(\n",
       "                [[28.670706, 77.41539], [28.670919, 77.414742], [28.671455, 77.412659], [28.671993, 77.41069], [28.67247, 77.408989], [28.673214, 77.407257], [28.673456, 77.406548], [28.673456, 77.406548], [28.67477, 77.401833], [28.674995, 77.400856], [28.67507, 77.400284], [28.675154, 77.399254], [28.675283, 77.398491], [28.675945, 77.395927], [28.677027, 77.391891], [28.677027, 77.391891], [28.677742, 77.389229], [28.678022, 77.388138], [28.678253, 77.387268], [28.678368, 77.386726], [28.678438, 77.38623], [28.678505, 77.385246], [28.678564, 77.383904], [28.678564, 77.383904], [28.678692, 77.380966], [28.678692, 77.380295], [28.678465, 77.375259], [28.678318, 77.372337], [28.678238, 77.370483], [28.678238, 77.370483], [28.67803, 77.365616], [28.677872, 77.362457], [28.677715, 77.35955], [28.677715, 77.35955], [28.677488, 77.355309], [28.67712, 77.346863], [28.67712, 77.346863], [28.677006, 77.344269], [28.67692, 77.340904], [28.676792, 77.337463], [28.676691, 77.333916], [28.676691, 77.333916], [28.676647, 77.332413], [28.676693, 77.331917], [28.676662, 77.33062], [28.676523, 77.327866], [28.676477, 77.326569], [28.676235, 77.324814], [28.675974, 77.323395], [28.675894, 77.32238], [28.675854, 77.321518], [28.675854, 77.321518], [28.675865, 77.320732], [28.675917, 77.320175], [28.676041, 77.318619], [28.67606, 77.317772], [28.676043, 77.317245], [28.676004, 77.316811], [28.675919, 77.31604], [28.675865, 77.31543], [28.675751, 77.312393], [28.675751, 77.312393], [28.675709, 77.309868], [28.675735, 77.308464], [28.675505, 77.303551], [28.675421, 77.302597], [28.675417, 77.301178], [28.675417, 77.301178], [28.675421, 77.299751], [28.675398, 77.299484], [28.675358, 77.299202], [28.67528, 77.298904], [28.675152, 77.298523], [28.674551, 77.297333], [28.674368, 77.29689], [28.674126, 77.296021], [28.674007, 77.29467], [28.673641, 77.291176], [28.673363, 77.289017], [28.673166, 77.287308], [28.673166, 77.287308], [28.672983, 77.285637], [28.672743, 77.283714], [28.672256, 77.280685], [28.671782, 77.277847], [28.671782, 77.277847], [28.671593, 77.276772], [28.671021, 77.273605], [28.670324, 77.269661], [28.670059, 77.267975], [28.670015, 77.267807], [28.67005, 77.267784], [28.67, 77.267479], [28.670141, 77.267448], [28.670156, 77.267387], [28.670168, 77.267296], [28.670168, 77.267296], [28.670179, 77.267197], [28.670116, 77.267113], [28.670055, 77.26696], [28.670004, 77.266785], [28.669985, 77.266563], [28.669991, 77.266441], [28.670023, 77.266319], [28.669895, 77.266106], [28.669765, 77.266129], [28.669716, 77.265823], [28.669666, 77.265846], [28.669611, 77.265862], [28.66951, 77.26532], [28.669153, 77.263573], [28.668419, 77.260704], [28.667213, 77.256378], [28.66713, 77.255875], [28.667101, 77.255234], [28.667139, 77.254807], [28.667202, 77.254387], [28.66729, 77.253967], [28.667515, 77.253212], [28.667797, 77.252357], [28.668119, 77.251427], [28.668409, 77.250519], [28.668409, 77.250519], [28.66967, 77.246735], [28.670019, 77.245789], [28.67065, 77.244621], [28.671488, 77.24292], [28.671618, 77.242561], [28.671703, 77.242218], [28.671761, 77.241829], [28.671764, 77.241386], [28.671707, 77.240906], [28.671629, 77.24057], [28.671461, 77.240112], [28.670837, 77.238327], [28.669283, 77.234337], [28.668959, 77.233444], [28.668682, 77.232506], [28.66857, 77.232162], [28.668383, 77.23175], [28.667969, 77.230934], [28.667793, 77.230515], [28.66765, 77.23008], [28.667591, 77.229797], [28.667526, 77.229401], [28.667465, 77.228874], [28.667418, 77.228249], [28.667418, 77.228249], [28.667421, 77.227142], [28.66749, 77.226425], [28.667622, 77.225525], [28.66774, 77.224609], [28.667765, 77.224136], [28.667755, 77.223679], [28.667667, 77.223076], [28.66699, 77.2202], [28.666929, 77.219826], [28.666906, 77.219383], [28.666952, 77.218445], [28.667028, 77.217606], [28.667131, 77.216621], [28.667131, 77.216621], [28.667288, 77.21563], [28.66774, 77.213211], [28.667793, 77.212883], [28.667801, 77.212448], [28.667791, 77.212151], [28.667763, 77.211906], [28.667566, 77.21106], [28.667072, 77.209961], [28.666815, 77.209358], [28.666552, 77.208374], [28.666376, 77.20742], [28.666376, 77.20742], [28.666243, 77.206116], [28.666166, 77.205597], [28.665888, 77.204666], [28.665709, 77.203949], [28.665663, 77.203392], [28.665686, 77.20256], [28.666687, 77.198883], [28.666973, 77.197693], [28.667154, 77.197006], [28.667154, 77.197006], [28.667847, 77.194382], [28.669481, 77.1884], [28.669767, 77.186996], [28.669872, 77.185387], [28.670002, 77.18277], [28.670059, 77.181854], [28.670059, 77.181854], [28.670198, 77.180794], [28.671389, 77.17482], [28.671532, 77.174141], [28.671743, 77.173584], [28.672398, 77.172104], [28.672792, 77.171394], [28.673563, 77.170326], [28.673563, 77.170326], [28.682386, 77.162552], [28.682386, 77.162552], [28.688938, 77.161713], [28.688938, 77.161713], [28.690228, 77.16111], [28.691032, 77.160576], [28.692348, 77.159904], [28.694359, 77.158928], [28.695435, 77.158417], [28.695705, 77.158272], [28.695929, 77.158112], [28.696157, 77.157906], [28.696329, 77.157722], [28.696472, 77.157539], [28.696621, 77.15731], [28.696741, 77.157082], [28.696877, 77.156807], [28.696972, 77.156578], [28.697056, 77.156303], [28.697109, 77.156021], [28.697153, 77.155731], [28.697149, 77.15519], [28.697113, 77.1549], [28.697048, 77.154594], [28.69696, 77.154327], [28.696825, 77.153976], [28.696075, 77.152466], [28.696075, 77.152466], [28.69533, 77.151016], [28.695097, 77.150436], [28.695004, 77.15007], [28.694931, 77.149651], [28.694908, 77.149345], [28.694899, 77.148849], [28.694921, 77.148514], [28.694977, 77.148163], [28.695103, 77.147675], [28.695251, 77.147202], [28.695435, 77.14666], [28.695652, 77.146126], [28.695986, 77.145386], [28.697666, 77.141464], [28.698069, 77.140556], [28.698069, 77.140556], [28.698669, 77.139198], [28.698959, 77.138657], [28.699512, 77.137749], [28.702652, 77.133217], [28.703218, 77.132378], [28.703218, 77.132378], [28.703718, 77.131691], [28.705465, 77.129112], [28.707872, 77.125687], [28.707872, 77.125687], [28.714983, 77.115402], [28.714983, 77.115402], [28.720821, 77.105042]],\n",
       "                {&quot;bubblingMouseEvents&quot;: true, &quot;color&quot;: &quot;blue&quot;, &quot;dashArray&quot;: null, &quot;dashOffset&quot;: null, &quot;fill&quot;: false, &quot;fillColor&quot;: &quot;blue&quot;, &quot;fillOpacity&quot;: 0.2, &quot;fillRule&quot;: &quot;evenodd&quot;, &quot;lineCap&quot;: &quot;round&quot;, &quot;lineJoin&quot;: &quot;round&quot;, &quot;noClip&quot;: false, &quot;opacity&quot;: 0.7, &quot;smoothFactor&quot;: 1.0, &quot;stroke&quot;: true, &quot;weight&quot;: 2.5}\n",
       "            ).addTo(map_e72b66969ac0eee53d392bc950de994e);\n",
       "        \n",
       "    \n",
       "            var poly_line_0b63b3826efdd8600ad273b5ce511630 = L.polyline(\n",
       "                [[28.694765, 77.212418], [28.687819, 77.221458], [28.687819, 77.221458], [28.686317, 77.221695], [28.682682, 77.222511], [28.68218, 77.222534], [28.681902, 77.222565], [28.681576, 77.222717], [28.681057, 77.223045], [28.680651, 77.223312], [28.680069, 77.223679], [28.679722, 77.223915], [28.679277, 77.224182], [28.67877, 77.224373], [28.676842, 77.224998], [28.676842, 77.224998], [28.675667, 77.225403], [28.675117, 77.22554], [28.674191, 77.225739], [28.673347, 77.225868], [28.672489, 77.226013], [28.671947, 77.226219], [28.669811, 77.227127], [28.6686, 77.227577], [28.667503, 77.228165], [28.667503, 77.228165], [28.665253, 77.229309], [28.663395, 77.230011], [28.659256, 77.230339], [28.658422, 77.230309], [28.65649, 77.230179], [28.656122, 77.230057], [28.656029, 77.230011], [28.656029, 77.230011], [28.649277, 77.226486], [28.649277, 77.226486], [28.643492, 77.222717], [28.643492, 77.222717], [28.63406, 77.219627], [28.633596, 77.219513], [28.633139, 77.219376], [28.632795, 77.219238], [28.632795, 77.219238], [28.63225, 77.218994], [28.631824, 77.218758], [28.627865, 77.216064], [28.627283, 77.215775], [28.62583, 77.215744], [28.625504, 77.21563], [28.622982, 77.214005], [28.622982, 77.214005], [28.621489, 77.212891], [28.621136, 77.212708], [28.616922, 77.212349], [28.615883, 77.21225], [28.615883, 77.21225], [28.611525, 77.210052], [28.611525, 77.210052], [28.597345, 77.211067], [28.597345, 77.211067], [28.591269, 77.212639], [28.58963, 77.212769], [28.587244, 77.212563], [28.587244, 77.212563], [28.586599, 77.212502], [28.584867, 77.212318], [28.583832, 77.212326], [28.583437, 77.212303], [28.575174, 77.209534], [28.575174, 77.209534], [28.574951, 77.209457], [28.574169, 77.209274], [28.568171, 77.208092], [28.568171, 77.208092], [28.56794, 77.208046], [28.567183, 77.207863], [28.566868, 77.207771], [28.566032, 77.20755], [28.563559, 77.207535], [28.561657, 77.207359], [28.559828, 77.207062], [28.559828, 77.207062], [28.55801, 77.206764], [28.556484, 77.206444], [28.555206, 77.206116], [28.551859, 77.205688], [28.549095, 77.20591], [28.548542, 77.205971], [28.547405, 77.206635], [28.546585, 77.206772], [28.544262, 77.20668], [28.544262, 77.20668], [28.542471, 77.206398], [28.538406, 77.206696], [28.535564, 77.206116], [28.532854, 77.205345], [28.530121, 77.20459], [28.529774, 77.204613], [28.529057, 77.204796], [28.529057, 77.204796], [28.520638, 77.199379], [28.520638, 77.199379], [28.512594, 77.185875]],\n",
       "                {&quot;bubblingMouseEvents&quot;: true, &quot;color&quot;: &quot;blue&quot;, &quot;dashArray&quot;: null, &quot;dashOffset&quot;: null, &quot;fill&quot;: false, &quot;fillColor&quot;: &quot;blue&quot;, &quot;fillOpacity&quot;: 0.2, &quot;fillRule&quot;: &quot;evenodd&quot;, &quot;lineCap&quot;: &quot;round&quot;, &quot;lineJoin&quot;: &quot;round&quot;, &quot;noClip&quot;: false, &quot;opacity&quot;: 0.7, &quot;smoothFactor&quot;: 1.0, &quot;stroke&quot;: true, &quot;weight&quot;: 2.5}\n",
       "            ).addTo(map_e72b66969ac0eee53d392bc950de994e);\n",
       "        \n",
       "    \n",
       "            var poly_line_6e652dcc07010ec5237bebbccd56ac70 = L.polyline(\n",
       "                [[28.72143, 77.289482], [28.718546, 77.289642], [28.715364, 77.289841], [28.71426, 77.28994], [28.713573, 77.290024], [28.712887, 77.290154], [28.712887, 77.290154], [28.712296, 77.290382], [28.711519, 77.290695], [28.711109, 77.290817], [28.710819, 77.290848], [28.710382, 77.290802], [28.709965, 77.290634], [28.709333, 77.290268], [28.707073, 77.289093], [28.706421, 77.288734], [28.704868, 77.287735], [28.702421, 77.286133], [28.702421, 77.286133], [28.700701, 77.284904], [28.699234, 77.28389], [28.698233, 77.283371], [28.697182, 77.282768], [28.696388, 77.282074], [28.69598, 77.281731], [28.694777, 77.281082], [28.69208, 77.279732], [28.69208, 77.279732], [28.690475, 77.278877], [28.689667, 77.27845], [28.688507, 77.27771], [28.687599, 77.277069], [28.686434, 77.276436], [28.685068, 77.275711], [28.684237, 77.275368], [28.682985, 77.274948], [28.682985, 77.274948], [28.681986, 77.274605], [28.681606, 77.274445], [28.678352, 77.272682], [28.674942, 77.270874], [28.674431, 77.270676], [28.674179, 77.270607], [28.673828, 77.270576], [28.673382, 77.270653], [28.673054, 77.270782], [28.672806, 77.270912], [28.672422, 77.27124], [28.672163, 77.271553], [28.671961, 77.271957], [28.671806, 77.272377], [28.671761, 77.272774], [28.671755, 77.273323], [28.672525, 77.277847], [28.672525, 77.277847], [28.672579, 77.278206], [28.672562, 77.278549], [28.672508, 77.278885], [28.672394, 77.279419], [28.672243, 77.279747], [28.671982, 77.280106], [28.67178, 77.28035], [28.6716, 77.280518], [28.671402, 77.280685], [28.671087, 77.280853], [28.670763, 77.280937], [28.669853, 77.281105], [28.669373, 77.281227], [28.668879, 77.28141], [28.668442, 77.281693], [28.667858, 77.282104], [28.667452, 77.282486], [28.665649, 77.284225], [28.664732, 77.284897], [28.664732, 77.284897], [28.663013, 77.286255], [28.659948, 77.288605], [28.657835, 77.290237], [28.657835, 77.290237], [28.649473, 77.295341], [28.649473, 77.295341], [28.649284, 77.305969], [28.649284, 77.305969], [28.64924, 77.306], [28.648851, 77.306297], [28.648647, 77.306503], [28.648668, 77.306572], [28.6486, 77.306618], [28.648161, 77.306984], [28.647791, 77.307365], [28.647608, 77.307594], [28.647448, 77.307846], [28.647306, 77.308128], [28.647192, 77.308434], [28.64711, 77.308739], [28.647079, 77.308899], [28.647043, 77.309227], [28.647039, 77.309547], [28.647049, 77.309715], [28.647066, 77.309875], [28.647223, 77.310745], [28.647491, 77.31205], [28.647537, 77.312347], [28.647551, 77.312531], [28.647552, 77.312897], [28.647518, 77.313255], [28.64749, 77.313438], [28.647449, 77.313614], [28.64736, 77.313911], [28.647245, 77.314201], [28.646706, 77.315407], [28.646706, 77.315407], [28.646513, 77.315834], [28.64628, 77.316238], [28.646141, 77.31646], [28.645979, 77.316658], [28.645796, 77.316826], [28.645594, 77.316971], [28.645372, 77.317085], [28.645142, 77.317162], [28.645023, 77.317184], [28.644903, 77.3172], [28.644783, 77.317207], [28.644663, 77.317207], [28.644543, 77.3172], [28.6439, 77.317009], [28.642437, 77.316536], [28.641783, 77.316261], [28.641418, 77.316002], [28.641066, 77.315712], [28.640755, 77.315437], [28.640409, 77.315178], [28.63974, 77.314911], [28.639042, 77.314682], [28.638485, 77.314415], [28.638165, 77.314224], [28.637836, 77.313919], [28.637596, 77.313583], [28.637405, 77.313202], [28.637312, 77.312874], [28.63722, 77.312439], [28.637215, 77.311935], [28.637224, 77.311493], [28.637188, 77.311104], [28.637093, 77.310745], [28.636866, 77.31028], [28.636713, 77.310097], [28.636431, 77.30983], [28.636244, 77.3097], [28.635958, 77.309517], [28.635672, 77.309441], [28.635296, 77.309464], [28.634993, 77.309502], [28.633829, 77.310013], [28.631889, 77.310799], [28.631889, 77.310799], [28.629827, 77.311722], [28.628651, 77.312225], [28.628517, 77.312256], [28.628382, 77.312279], [28.628244, 77.312286], [28.628109, 77.312286], [28.627974, 77.312271], [28.627838, 77.312256], [28.627705, 77.312218], [28.627575, 77.31218], [28.627445, 77.312126], [28.627319, 77.312073], [28.627199, 77.311996], [28.627081, 77.31192], [28.626968, 77.311836], [28.626862, 77.311737], [28.626759, 77.311638], [28.626663, 77.311523], [28.626575, 77.311409], [28.626493, 77.311287], [28.626419, 77.311157], [28.62635, 77.31102], [28.626291, 77.310883], [28.626242, 77.310738], [28.626198, 77.310585], [28.626139, 77.310287], [28.626123, 77.310135], [28.626116, 77.309975], [28.626118, 77.309822], [28.626175, 77.308655], [28.626162, 77.308434], [28.626143, 77.308258], [28.626083, 77.307961], [28.624954, 77.30452], [28.624954, 77.30452], [28.624496, 77.303276], [28.624439, 77.303123], [28.624371, 77.302986], [28.624296, 77.302849], [28.624212, 77.302719], [28.624123, 77.302589], [28.624023, 77.302475], [28.62392, 77.302361], [28.62381, 77.302261], [28.623693, 77.30217], [28.623571, 77.302086], [28.623446, 77.30201], [28.623316, 77.301949], [28.62318, 77.301888], [28.623045, 77.301849], [28.622906, 77.301811], [28.622765, 77.301788], [28.622623, 77.301773], [28.62248, 77.301773], [28.622339, 77.301781], [28.622198, 77.301804], [28.622059, 77.301834], [28.621922, 77.301872], [28.621786, 77.301926], [28.621655, 77.301987], [28.621531, 77.302055], [28.62141, 77.302132], [28.621296, 77.302223], [28.621185, 77.302315], [28.62108, 77.302422], [28.620981, 77.302528], [28.62089, 77.302643], [28.620806, 77.302773], [28.620728, 77.302902], [28.620657, 77.30304], [28.620594, 77.303177], [28.620541, 77.303322], [28.620495, 77.303467], [28.620457, 77.303619], [28.620253, 77.304665], [28.620096, 77.30542], [28.620096, 77.30542], [28.619762, 77.307281], [28.619684, 77.307602], [28.6196, 77.307861], [28.619534, 77.308029], [28.619459, 77.308189], [28.619375, 77.30835], [28.619284, 77.308502], [28.619184, 77.308647], [28.619078, 77.308784], [28.618963, 77.308914], [28.618845, 77.309036], [28.618719, 77.309151], [28.618586, 77.30925], [28.61845, 77.309349], [28.618307, 77.309433], [28.618162, 77.309509], [28.618013, 77.309578], [28.617859, 77.309639], [28.61771, 77.309685], [28.617558, 77.309715], [28.617405, 77.309746], [28.61725, 77.309761], [28.617096, 77.309761], [28.61694, 77.309761], [28.616785, 77.309746], [28.616632, 77.309723], [28.61648, 77.309685], [28.614885, 77.309258], [28.613436, 77.308884], [28.613436, 77.308884], [28.612278, 77.308571], [28.611843, 77.308479], [28.611506, 77.308495], [28.610771, 77.308685], [28.610416, 77.308769], [28.610121, 77.308792], [28.609507, 77.308693], [28.609301, 77.308624], [28.60915, 77.30854], [28.609011, 77.308411], [28.608778, 77.308105], [28.608524, 77.307632], [28.608269, 77.306824], [28.60729, 77.303551], [28.606852, 77.302063], [28.605631, 77.298042], [28.605631, 77.298042], [28.604486, 77.294243], [28.604362, 77.293785], [28.604273, 77.293137], [28.604195, 77.292625], [28.604095, 77.292229], [28.603937, 77.291779], [28.603497, 77.290657], [28.603497, 77.290657], [28.5889, 77.253189], [28.5889, 77.253189], [28.576065, 77.25753], [28.576065, 77.25753], [28.565794, 77.248734], [28.565794, 77.248734], [28.565767, 77.248383], [28.565928, 77.247063], [28.568752, 77.2407], [28.569233, 77.239037], [28.56954, 77.238266], [28.570541, 77.235863], [28.57074, 77.235092], [28.571032, 77.234146], [28.570898, 77.233101], [28.570898, 77.233101], [28.570606, 77.230812], [28.568321, 77.223778], [28.568501, 77.221519], [28.568542, 77.220558], [28.568542, 77.220558], [28.575174, 77.209534], [28.575174, 77.209534], [28.570238, 77.187866], [28.570238, 77.187866], [28.57024, 77.187859], [28.57024, 77.187859], [28.570396, 77.184357], [28.570606, 77.182838], [28.571028, 77.181908], [28.571333, 77.181351], [28.571722, 77.180771], [28.572294, 77.180069], [28.572748, 77.179581], [28.573343, 77.179115], [28.574448, 77.178421], [28.575541, 77.177681], [28.576313, 77.177063], [28.577274, 77.17643], [28.578524, 77.175705], [28.578524, 77.175705], [28.579868, 77.17498], [28.58054, 77.174652], [28.581453, 77.174316], [28.58218, 77.173958], [28.585339, 77.17215], [28.586338, 77.171524], [28.589321, 77.169518], [28.589321, 77.169518], [28.590435, 77.168785], [28.591389, 77.168076], [28.59244, 77.16716], [28.593206, 77.16655], [28.594797, 77.165504], [28.595707, 77.16494], [28.596674, 77.164398], [28.597799, 77.163696], [28.598328, 77.163277], [28.600647, 77.160736], [28.601746, 77.159279], [28.602266, 77.158607], [28.602819, 77.157829], [28.603422, 77.157028], [28.603691, 77.156563], [28.603853, 77.156067], [28.604006, 77.155296], [28.604269, 77.15358], [28.604792, 77.150009], [28.605097, 77.148232], [28.605433, 77.145905], [28.605659, 77.1446], [28.606005, 77.143539], [28.606461, 77.142662], [28.606792, 77.142197], [28.607368, 77.141495], [28.608635, 77.140419], [28.608635, 77.140419], [28.610182, 77.139214], [28.611401, 77.138199], [28.612488, 77.13736], [28.612947, 77.136978], [28.613487, 77.136681], [28.614368, 77.136459], [28.615019, 77.136528], [28.615936, 77.136818], [28.616629, 77.136887], [28.620295, 77.137047], [28.620895, 77.137062], [28.621717, 77.137154], [28.622288, 77.137131], [28.622938, 77.136963], [28.624372, 77.136414], [28.624372, 77.136414], [28.626101, 77.135414], [28.626333, 77.13517], [28.626589, 77.134811], [28.627075, 77.134399], [28.628168, 77.133911], [28.628677, 77.13372], [28.629555, 77.133461], [28.630978, 77.132919], [28.63167, 77.132629], [28.632214, 77.132271], [28.632919, 77.131729], [28.633638, 77.131104], [28.634094, 77.130806], [28.634359, 77.130669], [28.635447, 77.130226], [28.637167, 77.1297], [28.637167, 77.1297], [28.649075, 77.122719], [28.649075, 77.122719], [28.658081, 77.127228], [28.658081, 77.127228], [28.658539, 77.127518], [28.658993, 77.127769], [28.661909, 77.129105], [28.662502, 77.129478], [28.663071, 77.129974], [28.664249, 77.131294], [28.666298, 77.133682], [28.668247, 77.136002], [28.669594, 77.137672], [28.670261, 77.138222], [28.670656, 77.138458], [28.671059, 77.138641], [28.671455, 77.138771], [28.67193, 77.138908], [28.672775, 77.139175], [28.672775, 77.139175], [28.674362, 77.139603], [28.675396, 77.139938], [28.676628, 77.140472], [28.677525, 77.1408], [28.678226, 77.141029], [28.679083, 77.14135], [28.679373, 77.141464], [28.680027, 77.141785], [28.680235, 77.141937], [28.680426, 77.142105], [28.680593, 77.142288], [28.680771, 77.142502], [28.681074, 77.142952], [28.682083, 77.144333], [28.682846, 77.145256], [28.685789, 77.14959], [28.685789, 77.14959], [28.696022, 77.152504], [28.696022, 77.152504], [28.701931, 77.165459], [28.701931, 77.165459], [28.707249, 77.179848], [28.707249, 77.179848], [28.724081, 77.182137]],\n",
       "                {&quot;bubblingMouseEvents&quot;: true, &quot;color&quot;: &quot;blue&quot;, &quot;dashArray&quot;: null, &quot;dashOffset&quot;: null, &quot;fill&quot;: false, &quot;fillColor&quot;: &quot;blue&quot;, &quot;fillOpacity&quot;: 0.2, &quot;fillRule&quot;: &quot;evenodd&quot;, &quot;lineCap&quot;: &quot;round&quot;, &quot;lineJoin&quot;: &quot;round&quot;, &quot;noClip&quot;: false, &quot;opacity&quot;: 0.7, &quot;smoothFactor&quot;: 1.0, &quot;stroke&quot;: true, &quot;weight&quot;: 2.5}\n",
       "            ).addTo(map_e72b66969ac0eee53d392bc950de994e);\n",
       "        \n",
       "    \n",
       "            var poly_line_81543dc2fbf7831ec18e2ba10b860969 = L.polyline(\n",
       "                [[28.649712, 77.339561], [28.649071, 77.338531], [28.647518, 77.335922], [28.646519, 77.33429], [28.64632, 77.333946], [28.646135, 77.333549], [28.646027, 77.333275], [28.645899, 77.332771], [28.645834, 77.332359], [28.64579, 77.331924], [28.645329, 77.324348], [28.645304, 77.322273], [28.645304, 77.322273], [28.645275, 77.319832], [28.645378, 77.319183], [28.645521, 77.318649], [28.645706, 77.318222], [28.646893, 77.316055], [28.646893, 77.316055], [28.647282, 77.31514], [28.647438, 77.314644], [28.648333, 77.311134], [28.648645, 77.309784], [28.648703, 77.308868], [28.648674, 77.307625], [28.648588, 77.306488], [28.648443, 77.305527], [28.648249, 77.304672], [28.648249, 77.304672], [28.648226, 77.304573], [28.647821, 77.30365], [28.647652, 77.303291], [28.647448, 77.302963], [28.644684, 77.299431], [28.642317, 77.296379], [28.641441, 77.295258], [28.641441, 77.295258], [28.640388, 77.293915], [28.639751, 77.293037], [28.637054, 77.287872], [28.637054, 77.287872], [28.635794, 77.285469], [28.630552, 77.277573], [28.629829, 77.276436], [28.629829, 77.276436], [28.628607, 77.274506], [28.628382, 77.274261], [28.628139, 77.27404], [28.627888, 77.273857], [28.627308, 77.273491], [28.626139, 77.272781], [28.62569, 77.27253], [28.625423, 77.272331], [28.625179, 77.27211], [28.625032, 77.271965], [28.624863, 77.271751], [28.624681, 77.271507], [28.624491, 77.271164], [28.62431, 77.270737], [28.623585, 77.268768], [28.623461, 77.268822], [28.623133, 77.267876], [28.623133, 77.267876], [28.622873, 77.267128], [28.622953, 77.26709], [28.62163, 77.263611], [28.621416, 77.262886], [28.621214, 77.261848], [28.621056, 77.260803], [28.62042, 77.255554], [28.620159, 77.253555], [28.620087, 77.252686], [28.620115, 77.252174], [28.620247, 77.251312], [28.620583, 77.249542], [28.620583, 77.249542], [28.620972, 77.247841], [28.621088, 77.247269], [28.621248, 77.245735], [28.621334, 77.245331], [28.6215, 77.244873], [28.621811, 77.244301], [28.622442, 77.243599], [28.623455, 77.242516], [28.623455, 77.242516], [28.624626, 77.241257], [28.625051, 77.240578], [28.625212, 77.240112], [28.625309, 77.239761], [28.625391, 77.238754], [28.625591, 77.234192], [28.625591, 77.234192], [28.625727, 77.232246], [28.626026, 77.2314], [28.629782, 77.224945], [28.629782, 77.224945], [28.632254, 77.220619], [28.632759, 77.219688], [28.632759, 77.219688], [28.639217, 77.206291], [28.639217, 77.206291], [28.6443, 77.199905], [28.6443, 77.199905], [28.644918, 77.198593], [28.645151, 77.197899], [28.645218, 77.197227], [28.645151, 77.196556], [28.644489, 77.192276], [28.64399, 77.18853], [28.64399, 77.18853], [28.64241, 77.191833], [28.64241, 77.191833], [28.645037, 77.167046], [28.645037, 77.167046], [28.65143, 77.156021], [28.65143, 77.156021], [28.655773, 77.148499], [28.655773, 77.148499], [28.657032, 77.140923], [28.657032, 77.140923], [28.654945, 77.137238], [28.654222, 77.135765], [28.653761, 77.135071], [28.653622, 77.134727], [28.653488, 77.134377], [28.653379, 77.133995], [28.653175, 77.133232], [28.652765, 77.131645], [28.652765, 77.131645], [28.651901, 77.128258], [28.651749, 77.127724], [28.651518, 77.127182], [28.650566, 77.125572], [28.649546, 77.123695], [28.649075, 77.122719], [28.649075, 77.122719], [28.64768, 77.119247], [28.647379, 77.118561], [28.647022, 77.117912], [28.646545, 77.117149], [28.645546, 77.115761], [28.644955, 77.114876], [28.643764, 77.112846], [28.643764, 77.112846], [28.643457, 77.112244], [28.643158, 77.111626], [28.642851, 77.110817], [28.64242, 77.10965], [28.641848, 77.108345], [28.640974, 77.106384], [28.640501, 77.105217], [28.639671, 77.102997], [28.639671, 77.102997], [28.639046, 77.101295], [28.638823, 77.100739], [28.638155, 77.099617], [28.637711, 77.098846], [28.637127, 77.097687], [28.636816, 77.097023], [28.636564, 77.096458], [28.636564, 77.096458], [28.636242, 77.095589], [28.635958, 77.094666], [28.635649, 77.09375], [28.635307, 77.09301], [28.63485, 77.092049], [28.634527, 77.091187], [28.634007, 77.089287], [28.633026, 77.086708], [28.633026, 77.086708], [28.632704, 77.085815], [28.632, 77.08403], [28.631262, 77.082191], [28.630747, 77.080727], [28.630377, 77.079849], [28.629602, 77.078072], [28.629602, 77.078072], [28.629087, 77.076683], [28.628714, 77.075783], [28.628479, 77.075157], [28.628328, 77.074638], [28.62821, 77.074165], [28.628057, 77.073654], [28.627817, 77.073036], [28.627052, 77.071022], [28.626289, 77.069092], [28.625643, 77.067337], [28.624868, 77.065277], [28.6241, 77.063347], [28.6241, 77.063347], [28.623325, 77.061417], [28.622932, 77.06031], [28.622746, 77.059662], [28.6224, 77.058372], [28.622259, 77.0578], [28.622015, 77.056664], [28.621777, 77.05571], [28.621777, 77.05571], [28.62129, 77.052902], [28.621029, 77.05101], [28.620853, 77.049423], [28.620667, 77.047928], [28.62056, 77.046974], [28.620296, 77.045074], [28.620296, 77.045074], [28.620213, 77.043976], [28.620199, 77.043388], [28.620213, 77.043007], [28.620291, 77.041916], [28.620329, 77.041229], [28.620327, 77.040291], [28.620193, 77.038895], [28.62005, 77.037872], [28.619707, 77.035545], [28.619331, 77.033279], [28.619331, 77.033279], [28.619114, 77.031471], [28.619085, 77.03093], [28.619078, 77.03054], [28.619087, 77.030243], [28.619368, 77.02655], [28.619354, 77.026047], [28.619238, 77.025467], [28.619045, 77.024986], [28.618849, 77.024635], [28.618599, 77.024277], [28.618248, 77.023933], [28.617832, 77.023636], [28.617331, 77.023399], [28.616684, 77.023209], [28.614943, 77.022743], [28.614943, 77.022743], [28.614084, 77.02243], [28.612741, 77.022034], [28.61207, 77.021881], [28.611441, 77.02179], [28.610395, 77.021767], [28.609299, 77.021774], [28.607872, 77.022003], [28.606897, 77.022316], [28.60582, 77.022873], [28.605062, 77.023361], [28.604055, 77.0242], [28.603048, 77.025085], [28.602556, 77.025551], [28.602203, 77.025963], [28.602203, 77.025963], [28.601267, 77.027168], [28.596992, 77.033524], [28.596992, 77.033524], [28.592218, 77.040718], [28.592218, 77.040718], [28.589029, 77.045471], [28.58643, 77.049423], [28.58643, 77.049423], [28.581039, 77.057487], [28.581039, 77.057487], [28.578463, 77.061363], [28.57799, 77.062004], [28.577358, 77.062767], [28.576923, 77.063263], [28.576361, 77.063789], [28.575857, 77.064194], [28.575247, 77.064644], [28.574263, 77.065308], [28.574263, 77.065308], [28.565706, 77.064896], [28.565706, 77.064896], [28.552322, 77.056198]],\n",
       "                {&quot;bubblingMouseEvents&quot;: true, &quot;color&quot;: &quot;blue&quot;, &quot;dashArray&quot;: null, &quot;dashOffset&quot;: null, &quot;fill&quot;: false, &quot;fillColor&quot;: &quot;blue&quot;, &quot;fillOpacity&quot;: 0.2, &quot;fillRule&quot;: &quot;evenodd&quot;, &quot;lineCap&quot;: &quot;round&quot;, &quot;lineJoin&quot;: &quot;round&quot;, &quot;noClip&quot;: false, &quot;opacity&quot;: 0.7, &quot;smoothFactor&quot;: 1.0, &quot;stroke&quot;: true, &quot;weight&quot;: 2.5}\n",
       "            ).addTo(map_e72b66969ac0eee53d392bc950de994e);\n",
       "        \n",
       "&lt;/script&gt;\n",
       "&lt;/html&gt;\" style=\"position:absolute;width:100%;height:100%;left:0;top:0;border:none !important;\" allowfullscreen webkitallowfullscreen mozallowfullscreen></iframe></div></div>"
      ],
      "text/plain": [
       "<folium.folium.Map at 0x15d0c3aae90>"
      ]
     },
     "execution_count": 47,
     "metadata": {},
     "output_type": "execute_result"
    }
   ],
   "source": [
    "for shape_id in shapes['shape_id'].unique():\n",
    "    shape_points = shapes[shapes['shape_id'] == shape_id].sort_values('shape_pt_sequence')\n",
    "    route_coords = list(zip(shape_points['shape_pt_lat'], shape_points['shape_pt_lon']))\n",
    "    folium.PolyLine(route_coords, color='blue', weight=2.5, opacity=0.7).add_to(metro_map)\n",
    "\n",
    "metro_map\n"
   ]
  },
  {
   "cell_type": "markdown",
   "id": "1636921a",
   "metadata": {},
   "source": [
    "Clustering of Stops (KMeans)"
   ]
  },
  {
   "cell_type": "code",
   "execution_count": 48,
   "id": "6ae41882",
   "metadata": {},
   "outputs": [
    {
     "data": {
      "image/png": "[encoded data removed]",
      "text/plain": [
       "<Figure size 800x600 with 1 Axes>"
      ]
     },
     "metadata": {},
     "output_type": "display_data"
    }
   ],
   "source": [
    "stops_coords = stops[['stop_lat', 'stop_lon']]\n",
    "kmeans = KMeans(n_clusters=5, random_state=0).fit(stops_coords)\n",
    "stops['cluster'] = kmeans.labels_\n",
    "plt.figure(figsize=(8,6))\n",
    "plt.scatter(stops['stop_lon'], stops['stop_lat'], c=stops['cluster'], cmap='viridis', s=50)\n",
    "plt.title('Clustering of Metro Stops')\n",
    "plt.xlabel('Longitude')\n",
    "plt.ylabel('Latitude')\n",
    "plt.grid(True)\n",
    "plt.show()"
   ]
  },
  {
   "cell_type": "markdown",
   "id": "e8ad07b2",
   "metadata": {},
   "source": [
    "Predictive Demand Proxy Analysis"
   ]
  },
  {
   "cell_type": "code",
   "execution_count": 49,
   "id": "41d1b01d",
   "metadata": {},
   "outputs": [
    {
     "data": {
      "image/png": "[encoded data removed]",
      "text/plain": [
       "<Figure size 1000x800 with 1 Axes>"
      ]
     },
     "metadata": {},
     "output_type": "display_data"
    }
   ],
   "source": [
    "X = stop_freq[['count']]\n",
    "stop_coords = stops.set_index('stop_id').loc[stop_freq['stop_id']]\n",
    "Y = stop_coords[['stop_lat', 'stop_lon']]\n",
    "\n",
    "model = LinearRegression()\n",
    "model.fit(X, Y)\n",
    "\n",
    "predicted_coords = model.predict(X)\n",
    "\n",
    "plt.figure(figsize=(10, 8))\n",
    "\n",
    "# Actual coordinates\n",
    "plt.scatter(Y['stop_lon'], Y['stop_lat'], c='blue', label='Actual Stop Locations', alpha=0.6)\n",
    "\n",
    "# Predicted coordinates\n",
    "plt.scatter(predicted_coords[:,1], predicted_coords[:,0], c='red', marker='x', label='Predicted (Proxy Demand Centers)', s=80)\n",
    "\n",
    "plt.title('Actual vs Predicted Stop Coordinates')\n",
    "plt.xlabel('Longitude')\n",
    "plt.ylabel('Latitude')\n",
    "plt.legend()\n",
    "plt.grid(True)\n",
    "plt.show()\n"
   ]
  },
  {
   "cell_type": "code",
   "execution_count": 50,
   "id": "2a068e6b",
   "metadata": {},
   "outputs": [
    {
     "name": "stdout",
     "output_type": "stream",
     "text": [
      "\n",
      "                       --- Optimization Suggestions ---                           \n",
      "1. Increase frequency on routes with high morning (7-10 AM) and evening (5-8 PM) demand.\n",
      "2. Reduce headways at top congested stops such as: ['Kashmere Gate', 'Rajiv Chowk', 'Central Secretariat', 'Mandi House', 'Qutab Minar']\n",
      "3. Enhance services on Saturdays and introduce more trips on Sundays to match weekend demand.\n",
      "4. Focus expansions or feeder services around clustered stop groups.\n",
      "5. Predictive analysis suggests optimizing around coordinates: [[28.60927955 77.08552156]\n",
      " [28.60723499 77.1066145 ]\n",
      " [28.60503818 77.12927819]]\n",
      "6. Implement dynamic scheduling: More trains during peak, fewer during off-peak hours.\n",
      "7. Apply cluster-specific strategies based on stop density and demand patterns.\n"
     ]
    }
   ],
   "source": [
    "# ---- Optimization Suggestions ----\n",
    "print(\"\\n                       --- Optimization Suggestions ---                           \")\n",
    "print(\"1. Increase frequency on routes with high morning (7-10 AM) and evening (5-8 PM) demand.\")\n",
    "print(\"2. Reduce headways at top congested stops such as:\", stop_freq.head(5)['stop_name'].tolist())\n",
    "print(\"3. Enhance services on Saturdays and introduce more trips on Sundays to match weekend demand.\")\n",
    "print(\"4. Focus expansions or feeder services around clustered stop groups.\")\n",
    "print(\"5. Predictive analysis suggests optimizing around coordinates:\", predicted_coords[:3])\n",
    "print(\"6. Implement dynamic scheduling: More trains during peak, fewer during off-peak hours.\")\n",
    "print(\"7. Apply cluster-specific strategies based on stop density and demand patterns.\")"
   ]
  }
 ],
 "metadata": {
  "kernelspec": {
   "display_name": "Python 3",
   "language": "python",
   "name": "python3"
  },
  "language_info": {
   "codemirror_mode": {
    "name": "ipython",
    "version": 3
   },
   "file_extension": ".py",
   "mimetype": "text/x-python",
   "name": "python",
   "nbconvert_exporter": "python",
   "pygments_lexer": "ipython3",
   "version": "3.10.0"
  }
 },
 "nbformat": 4,
 "nbformat_minor": 5
}
